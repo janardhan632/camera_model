{
 "cells": [
  {
   "cell_type": "code",
   "execution_count": 2,
   "metadata": {
    "ExecuteTime": {
     "end_time": "2018-01-06T13:10:30.121611Z",
     "start_time": "2018-01-06T13:10:29.890262Z"
    },
    "collapsed": true
   },
   "outputs": [],
   "source": [
    "import matplotlib.pyplot as plt\n",
    "import numpy as np\n",
    "import os\n",
    "\n"
   ]
  },
  {
   "cell_type": "code",
   "execution_count": 3,
   "metadata": {
    "ExecuteTime": {
     "end_time": "2018-01-06T13:10:30.160528Z",
     "start_time": "2018-01-06T13:10:30.158533Z"
    },
    "collapsed": true
   },
   "outputs": [],
   "source": [
    "from PIL import Image"
   ]
  },
  {
   "cell_type": "code",
   "execution_count": 19,
   "metadata": {},
   "outputs": [],
   "source": [
    "for i in os.listdir('train/'):\n",
    "    for j in os.listdir('train/' + i):\n",
    "        if(j.split('.')[-1]!='jpg'):\n",
    "            j_new = j.split('.')[:-1][0]+'.jpg'\n",
    "            print(j_new)\n",
    "            print(j)\n",
    "            #os.rename('train/' + i+'/'+j,'train/' + i+'/'+j_new)"
   ]
  },
  {
   "cell_type": "code",
   "execution_count": 45,
   "metadata": {
    "ExecuteTime": {
     "end_time": "2018-01-05T12:09:13.602036Z",
     "start_time": "2018-01-05T12:08:45.161042Z"
    },
    "collapsed": true
   },
   "outputs": [],
   "source": [
    "img_size_list_h = []\n",
    "img_size_list_w = []\n",
    "for i in os.listdir('validation/'):\n",
    "    for j in os.listdir('validation/' + i):\n",
    "        im = Image.open('validation/' + i + '/'+j)\n",
    "        img_size_list_h.append(im.size[0])\n",
    "        img_size_list_w.append(im.size[1])\n",
    "        "
   ]
  },
  {
   "cell_type": "code",
   "execution_count": 46,
   "metadata": {
    "ExecuteTime": {
     "end_time": "2018-01-05T12:09:13.614254Z",
     "start_time": "2018-01-05T12:09:13.606224Z"
    },
    "collapsed": true
   },
   "outputs": [],
   "source": [
    "img_size_arr_h = np.array(img_size_list_h)\n",
    "img_size_arr_w = np.array(img_size_list_w)"
   ]
  },
  {
   "cell_type": "code",
   "execution_count": 47,
   "metadata": {
    "ExecuteTime": {
     "end_time": "2018-01-05T12:09:13.818999Z",
     "start_time": "2018-01-05T12:09:13.708914Z"
    },
    "collapsed": true
   },
   "outputs": [],
   "source": [
    "img_size_arr = np.sqrt(img_size_arr_h*img_size_arr_h)"
   ]
  },
  {
   "cell_type": "code",
   "execution_count": 48,
   "metadata": {
    "ExecuteTime": {
     "end_time": "2018-01-05T12:09:13.962362Z",
     "start_time": "2018-01-05T12:09:13.823747Z"
    }
   },
   "outputs": [
    {
     "data": {
      "text/plain": [
       "(array([      0.,       0.,       0.,       0.,       0.,  790600.,\n",
       "              0.,       0.,       0.,       0.]),\n",
       " array([ 511.5,  511.6,  511.7,  511.8,  511.9,  512. ,  512.1,  512.2,\n",
       "         512.3,  512.4,  512.5]),\n",
       " <a list of 10 Patch objects>)"
      ]
     },
     "execution_count": 48,
     "metadata": {},
     "output_type": "execute_result"
    }
   ],
   "source": [
    "plt.hist(img_size_arr_w)\n"
   ]
  },
  {
   "cell_type": "code",
   "execution_count": 49,
   "metadata": {
    "ExecuteTime": {
     "end_time": "2018-01-05T12:09:14.081251Z",
     "start_time": "2018-01-05T12:09:13.964073Z"
    }
   },
   "outputs": [
    {
     "data": {
      "image/png": "[encoded data removed]",
      "text/plain": [
       "<matplotlib.figure.Figure at 0x7fcbee0f2470>"
      ]
     },
     "metadata": {},
     "output_type": "display_data"
    }
   ],
   "source": [
    "plt.show()"
   ]
  },
  {
   "cell_type": "code",
   "execution_count": null,
   "metadata": {
    "collapsed": true
   },
   "outputs": [],
   "source": []
  },
  {
   "cell_type": "code",
   "execution_count": null,
   "metadata": {
    "collapsed": true
   },
   "outputs": [],
   "source": []
  }
 ],
 "metadata": {
  "kernelspec": {
   "display_name": "Python 3",
   "language": "python",
   "name": "python3"
  },
  "language_info": {
   "codemirror_mode": {
    "name": "ipython",
    "version": 3
   },
   "file_extension": ".py",
   "mimetype": "text/x-python",
   "name": "python",
   "nbconvert_exporter": "python",
   "pygments_lexer": "ipython3",
   "version": "3.5.3"
  },
  "toc": {
   "nav_menu": {},
   "number_sections": true,
   "sideBar": true,
   "skip_h1_title": false,
   "toc_cell": false,
   "toc_position": {},
   "toc_section_display": "block",
   "toc_window_display": false
  }
 },
 "nbformat": 4,
 "nbformat_minor": 2
}
