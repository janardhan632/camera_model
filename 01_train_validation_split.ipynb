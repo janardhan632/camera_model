{
 "cells": [
  {
   "cell_type": "code",
   "execution_count": 13,
   "metadata": {
    "ExecuteTime": {
     "end_time": "2018-01-07T08:02:53.628995Z",
     "start_time": "2018-01-07T08:02:53.403925Z"
    }
   },
   "outputs": [],
   "source": [
    "import os\n",
    "import pandas as pd\n",
    "import numpy as np\n",
    "import cv2\n",
    "import random\n",
    "import shutil\n",
    "import matplotlib.pyplot as plt\n",
    "import matplotlib.image as mpimg\n"
   ]
  },
  {
   "cell_type": "code",
   "execution_count": 14,
   "metadata": {
    "collapsed": true
   },
   "outputs": [],
   "source": [
    "#creating validation set"
   ]
  },
  {
   "cell_type": "code",
   "execution_count": 27,
   "metadata": {
    "collapsed": true
   },
   "outputs": [],
   "source": [
    "os.makedirs('validation')\n"
   ]
  },
  {
   "cell_type": "code",
   "execution_count": 5,
   "metadata": {
    "collapsed": true
   },
   "outputs": [],
   "source": [
    "subfolders = [f.path for f in os.scandir('train') if f.is_dir() ] "
   ]
  },
  {
   "cell_type": "code",
   "execution_count": 6,
   "metadata": {},
   "outputs": [
    {
     "data": {
      "text/plain": [
       "['train/HTC-1-M7',\n",
       " 'train/Samsung-Galaxy-S4',\n",
       " 'train/iPhone-6',\n",
       " 'train/iPhone-4s',\n",
       " 'train/Samsung-Galaxy-Note3',\n",
       " 'train/Motorola-X',\n",
       " 'train/Motorola-Droid-Maxx',\n",
       " 'train/Motorola-Nexus-6',\n",
       " 'train/Sony-NEX-7',\n",
       " 'train/LG-Nexus-5x']"
      ]
     },
     "execution_count": 6,
     "metadata": {},
     "output_type": "execute_result"
    }
   ],
   "source": [
    "subfolders"
   ]
  },
  {
   "cell_type": "code",
   "execution_count": 7,
   "metadata": {},
   "outputs": [
    {
     "data": {
      "text/plain": [
       "['HTC-1-M7',\n",
       " 'Samsung-Galaxy-S4',\n",
       " 'iPhone-6',\n",
       " 'iPhone-4s',\n",
       " 'Samsung-Galaxy-Note3',\n",
       " 'Motorola-X',\n",
       " 'Motorola-Droid-Maxx',\n",
       " 'Motorola-Nexus-6',\n",
       " 'Sony-NEX-7',\n",
       " 'LG-Nexus-5x']"
      ]
     },
     "execution_count": 7,
     "metadata": {},
     "output_type": "execute_result"
    }
   ],
   "source": [
    "os.listdir('train')"
   ]
  },
  {
   "cell_type": "code",
   "execution_count": 8,
   "metadata": {
    "collapsed": true
   },
   "outputs": [],
   "source": [
    "for i in os.listdir('train'):\n",
    "    os.makedirs('validation/'+i)"
   ]
  },
  {
   "cell_type": "code",
   "execution_count": 32,
   "metadata": {
    "collapsed": true
   },
   "outputs": [],
   "source": [
    "np.random.seed(10)"
   ]
  },
  {
   "cell_type": "code",
   "execution_count": 33,
   "metadata": {
    "collapsed": true
   },
   "outputs": [],
   "source": [
    "for i in os.listdir('train'):\n",
    "    for j in os.listdir('train/' + i):\n",
    "        train_or_valid = np.random.choice(['train','valid'], size=1, p=[0.80,0.20])[0]\n",
    "        if(train_or_valid == 'valid'):\n",
    "            os.rename('train/'+i+'/'+j, 'validation/'+i+'/'+j)\n",
    "\n"
   ]
  },
  {
   "cell_type": "code",
   "execution_count": 2,
   "metadata": {
    "collapsed": true
   },
   "outputs": [],
   "source": [
    "#center crop for validation set"
   ]
  },
  {
   "cell_type": "code",
   "execution_count": 38,
   "metadata": {
    "collapsed": true
   },
   "outputs": [],
   "source": [
    "for i in os.listdir('validation/'):\n",
    "    for j in os.listdir('validation/' + i):\n",
    "        image = mpimg.imread('validation/' + i + '/' + j)\n",
    "        h,w,d = image.shape\n",
    "        image_crop = image[h//2-256:h//2+256,w//2-256:w//2+256,:]\n",
    "        image_crop = cv2.cvtColor(image_crop, cv2.COLOR_RGB2BGR)\n",
    "        cv2.imwrite('validation/' + i + '/' + j, image_crop)"
   ]
  },
  {
   "cell_type": "code",
   "execution_count": 4,
   "metadata": {
    "collapsed": true
   },
   "outputs": [],
   "source": [
    "#random crop for training data"
   ]
  },
  {
   "cell_type": "code",
   "execution_count": null,
   "metadata": {
    "collapsed": true
   },
   "outputs": [],
   "source": [
    "for i in os.listdir('train/'):\n",
    "    print(i)\n",
    "    for j in os.listdir('train/' + i):\n",
    "        image = mpimg.imread('train/' + i + '/' + j)\n",
    "        if(len(image.shape)<3):\n",
    "            continue\n",
    "        h,w,d = image.shape\n",
    "        for k in range(100):\n",
    "            rand_num_h = random.randint(0,h-512)\n",
    "            rand_num_w = random.randint(0,w-512)\n",
    "            image_crop = image[rand_num_h:rand_num_h+512,rand_num_w:rand_num_w+512,:]\n",
    "            image_crop = cv2.cvtColor(image_crop, cv2.COLOR_RGB2BGR)\n",
    "            if(k==0):\n",
    "                cv2.imwrite('train/' + i + '/' + j, image_crop)\n",
    "            else:\n",
    "                cv2.imwrite('train/' + i + '/' + str(k) + '_'+ j, image_crop)"
   ]
  },
  {
   "cell_type": "code",
   "execution_count": 3,
   "metadata": {
    "collapsed": true
   },
   "outputs": [],
   "source": [
    "#cropping test set into five parts for predictions 224x224 size"
   ]
  },
  {
   "cell_type": "code",
   "execution_count": 4,
   "metadata": {
    "collapsed": true
   },
   "outputs": [],
   "source": [
    "for i in os.listdir('test'):\n",
    "    for j in os.listdir('test/' + i):\n",
    "        image = mpimg.imread('test/' + i + '/' + j)\n",
    "        h,w,d = image.shape\n",
    "        image_crop = image[0:224,0:224,:]\n",
    "        image_crop = cv2.cvtColor(image_crop, cv2.COLOR_RGB2BGR)\n",
    "        cv2.imwrite('test/' + i + '/' + '1' + '_' + j, image_crop)\n",
    "        image_crop = image[0:224,-224:,:]\n",
    "        image_crop = cv2.cvtColor(image_crop, cv2.COLOR_RGB2BGR)\n",
    "        cv2.imwrite('test/' + i + '/' + '2' + '_' + j, image_crop)\n",
    "        image_crop = image[-224:,-224:,:]\n",
    "        image_crop = cv2.cvtColor(image_crop, cv2.COLOR_RGB2BGR)\n",
    "        cv2.imwrite('test/' + i + '/' + '3' + '_' + j, image_crop)\n",
    "        image_crop = image[-224:,0:224,:]\n",
    "        image_crop = cv2.cvtColor(image_crop, cv2.COLOR_RGB2BGR)\n",
    "        cv2.imwrite('test/' + i + '/' + '4' + '_' + j, image_crop)\n",
    "        image_crop = image[h//2-112:h//2+112,w//2-112:w//2+112,:]\n",
    "        image_crop = cv2.cvtColor(image_crop, cv2.COLOR_RGB2BGR)\n",
    "        cv2.imwrite('test/' + i + '/' + '5' + '_' + j, image_crop)"
   ]
  },
  {
   "cell_type": "code",
   "execution_count": 6,
   "metadata": {
    "collapsed": true
   },
   "outputs": [],
   "source": [
    "#removing original test images"
   ]
  },
  {
   "cell_type": "code",
   "execution_count": 5,
   "metadata": {
    "collapsed": true
   },
   "outputs": [],
   "source": [
    "for i in os.listdir('test'):\n",
    "    for j in os.listdir('test/' + i):\n",
    "        if(len(j.split('_'))<4):\n",
    "            os.remove('test/' + i+'/'+j)"
   ]
  },
  {
   "cell_type": "code",
   "execution_count": 5,
   "metadata": {
    "collapsed": true
   },
   "outputs": [],
   "source": [
    "#for cropping validation and train data into 224x224 chunks"
   ]
  },
  {
   "cell_type": "code",
   "execution_count": 30,
   "metadata": {
    "collapsed": true
   },
   "outputs": [],
   "source": [
    "for i in os.listdir('validation'):\n",
    "    for j in os.listdir('validation/' + i):\n",
    "        image = mpimg.imread('validation/' + i + '/' + j)\n",
    "        h,w,d = image.shape\n",
    "        temp_sum_h = 0\n",
    "        while(temp_sum_h + 224 < h):\n",
    "            temp_sum_w = 0\n",
    "            while(temp_sum_w + 224 < w):\n",
    "                image_crop = image[temp_sum_h:temp_sum_h+224, temp_sum_w:temp_sum_w+224]\n",
    "                image_crop = cv2.cvtColor(image_crop, cv2.COLOR_RGB2BGR)\n",
    "                if(temp_sum_h==0 and temp_sum_w==0):\n",
    "                    cv2.imwrite('validation/' + i + '/' + j, image_crop)\n",
    "                else:\n",
    "                    cv2.imwrite('validation/' + i + '/' + str(temp_sum_h) + str(temp_sum_w)+ '_' + j, image_crop)\n",
    "                temp_sum_w=temp_sum_w+224\n",
    "            temp_sum_h=temp_sum_h + 224  \n"
   ]
  },
  {
   "cell_type": "code",
   "execution_count": 18,
   "metadata": {
    "collapsed": true
   },
   "outputs": [],
   "source": [
    "for i in os.listdir('train'):\n",
    "    for j in os.listdir('train/' + i):\n",
    "        image = mpimg.imread('train/' + i + '/' + j)\n",
    "        if(len(image.shape)<3):\n",
    "            print(1)\n",
    "            continue\n",
    "        h,w,d = image.shape\n",
    "        temp_sum_h = 0\n",
    "        while(temp_sum_h + 224 < h):\n",
    "            temp_sum_w = 0\n",
    "            while(temp_sum_w + 224 < w):\n",
    "                image_crop = image[temp_sum_h:temp_sum_h+224, temp_sum_w:temp_sum_w+224]\n",
    "                image_crop = cv2.cvtColor(image_crop, cv2.COLOR_RGB2BGR)\n",
    "                if(temp_sum_h==0and temp_sum_w==0):\n",
    "                    cv2.imwrite('train/' + i + '/' + j, image_crop)\n",
    "                else:\n",
    "                    cv2.imwrite('train/' + i + '/' + str(temp_sum_h) +  str(temp_sum_w)+'_' + j, image_crop)\n",
    "                temp_sum_w=temp_sum_w+224\n",
    "            temp_sum_h=temp_sum_h + 224  "
   ]
  },
  {
   "cell_type": "code",
   "execution_count": 4,
   "metadata": {
    "collapsed": true
   },
   "outputs": [],
   "source": [
    "# Downloading external data"
   ]
  },
  {
   "cell_type": "code",
   "execution_count": 8,
   "metadata": {},
   "outputs": [
    {
     "data": {
      "text/plain": [
       "['../flickr_images/iphone_4s',\n",
       " '../flickr_images/nexus_5x',\n",
       " '../flickr_images/sony_nex7',\n",
       " '../flickr_images/moto_x',\n",
       " '../flickr_images/samsung_note3',\n",
       " '../flickr_images/htc_m7',\n",
       " '../flickr_images/samsung_s4',\n",
       " '../flickr_images/nexus_6',\n",
       " '../flickr_images/iphone_6',\n",
       " '../flickr_images/moto_maxx']"
      ]
     },
     "execution_count": 8,
     "metadata": {},
     "output_type": "execute_result"
    }
   ],
   "source": [
    "subfolders = [f.path for f in os.scandir('../flickr_images/') if f.is_dir() ] \n",
    "subfolders"
   ]
  },
  {
   "cell_type": "code",
   "execution_count": null,
   "metadata": {
    "collapsed": true
   },
   "outputs": [],
   "source": [
    "from collections import defaultdict\n",
    "goodimgdict = defaultdict(list)\n",
    "with open('../flickr_images/good_jpgs','r') as goodimgfile:\n",
    "    goodimg = [i.replace('\\n','') for i in goodimgfile.readlines()]\n",
    "    for i in goodimg:\n",
    "        goodimgdict[i.split('/')[-2]].append(i.split('/')[-1])"
   ]
  },
  {
   "cell_type": "code",
   "execution_count": null,
   "metadata": {
    "collapsed": true
   },
   "outputs": [],
   "source": [
    "for j in subfolders:\n",
    "    with open (j+'/urls_final', \"r\") as myfile:\n",
    "        data = [i.replace('\\n','') for i in myfile.readlines()]\n",
    "        for i in data:\n",
    "            if(i.split('/')[-1] in goodimgdict[j.split('/')[-1]]):\n",
    "                os.system(\"cd \"+ j + \"\\n wget \" + i)\n",
    "            "
   ]
  },
  {
   "cell_type": "code",
   "execution_count": 9,
   "metadata": {
    "collapsed": true
   },
   "outputs": [],
   "source": [
    "with open ('../moto_x/urls.txt', \"r\") as myfile:\n",
    "    data = [i.replace('\\n','') for i in myfile.readlines()]\n",
    "    for i in data:\n",
    "        os.system(\"cd ../moto_x/\"  + \"\\n wget \" + i)\n",
    "    "
   ]
  },
  {
   "cell_type": "code",
   "execution_count": null,
   "metadata": {
    "collapsed": true
   },
   "outputs": [],
   "source": [
    "subfolders = [f.path for f in os.scandir('../val_images/') if f.is_dir() ] \n",
    "os.listdir(subfolders[0])"
   ]
  },
  {
   "cell_type": "code",
   "execution_count": null,
   "metadata": {
    "collapsed": true
   },
   "outputs": [],
   "source": [
    "for j in subfolders:\n",
    "    x = os.listdir(j)\n",
    "    with open (j+'/'+x[0], \"r\") as myfile:\n",
    "        data = [i.replace('\\n','') for i in myfile.readlines()]\n",
    "        for i in data:\n",
    "            os.system(\"cd \"+ j + \"\\n wget \" + i)\n",
    "            "
   ]
  },
  {
   "cell_type": "code",
   "execution_count": 10,
   "metadata": {
    "collapsed": true
   },
   "outputs": [],
   "source": [
    "#removing url files in external data folders"
   ]
  },
  {
   "cell_type": "code",
   "execution_count": null,
   "metadata": {
    "collapsed": true
   },
   "outputs": [],
   "source": [
    "for i in os.listdir('../flickr_images/'):\n",
    "    os.remove('../flickr_images/' + i + '/'+'urls')\n",
    "\n",
    "for i in os.listdir('../flickr_images/'):\n",
    "    os.remove('../flickr_images/' + i + '/'+'urls_final')\n"
   ]
  },
  {
   "cell_type": "code",
   "execution_count": null,
   "metadata": {
    "collapsed": true
   },
   "outputs": [],
   "source": [
    "for i in os.listdir('../val_images/'):\n",
    "    for j in os.listdir('../val_images/' + i):\n",
    "        if(j.split('_')[0]=='urls'):\n",
    "            os.remove('../val_images/' + i+'/'+j)"
   ]
  },
  {
   "cell_type": "code",
   "execution_count": 11,
   "metadata": {
    "collapsed": true
   },
   "outputs": [],
   "source": [
    "#cropping external data in the same way for given original data"
   ]
  },
  {
   "cell_type": "code",
   "execution_count": null,
   "metadata": {
    "collapsed": true
   },
   "outputs": [],
   "source": [
    "for i in os.listdir('../flickr_images/'):\n",
    "    print(i)\n",
    "    for j in os.listdir('../flickr_images/' + i):\n",
    "        image = mpimg.imread('../flickr_images/' + i + '/' + j)\n",
    "        if(len(image.shape)<3):\n",
    "            continue\n",
    "        h,w,d = image.shape\n",
    "        for k in range(100):\n",
    "            rand_num_h = random.randint(0,h-512)\n",
    "            rand_num_w = random.randint(0,w-512)\n",
    "            image_crop = image[rand_num_h:rand_num_h+512,rand_num_w:rand_num_w+512,:]\n",
    "            image_crop = cv2.cvtColor(image_crop, cv2.COLOR_RGB2BGR)\n",
    "            if(k==0):\n",
    "                cv2.imwrite('../flickr_images/' + i + '/' + j, image_crop)\n",
    "            else:\n",
    "                cv2.imwrite('../flickr_images/' + i + '/' + str(k) + '_'+ j, image_crop)"
   ]
  },
  {
   "cell_type": "code",
   "execution_count": null,
   "metadata": {
    "collapsed": true
   },
   "outputs": [],
   "source": [
    "for i in os.listdir('../val_images/'):\n",
    "    for j in os.listdir('../val_images/' + i):\n",
    "        image = mpimg.imread('../val_images/' + i + '/' + j)\n",
    "        h,w,d = image.shape\n",
    "        image_crop = image[h//2-256:h//2+256,w//2-256:w//2+256,:]\n",
    "        image_crop = cv2.cvtColor(image_crop, cv2.COLOR_RGB2BGR)\n",
    "        cv2.imwrite('../val_images/' + i + '/' + j, image_crop)"
   ]
  },
  {
   "cell_type": "code",
   "execution_count": 10,
   "metadata": {
    "collapsed": true
   },
   "outputs": [],
   "source": [
    "for k in range(1):\n",
    "    for j in os.listdir('../moto_x/'):\n",
    "        image = mpimg.imread('../moto_x/' + j)\n",
    "        h,w,d = image.shape\n",
    "        for k in range(100):\n",
    "            rand_num_h = random.randint(0,h-512)\n",
    "            rand_num_w = random.randint(0,w-512)\n",
    "            image_crop = image[rand_num_h:rand_num_h+512,rand_num_w:rand_num_w+512,:]\n",
    "            image_crop = cv2.cvtColor(image_crop, cv2.COLOR_RGB2BGR)\n",
    "            cv2.imwrite('../moto_x/' + str(k) + '_' + j, image_crop)"
   ]
  },
  {
   "cell_type": "code",
   "execution_count": 11,
   "metadata": {
    "collapsed": true
   },
   "outputs": [],
   "source": [
    "from PIL import Image\n",
    "for k in range(1):\n",
    "    for j in os.listdir('../moto_x/'):\n",
    "        im = Image.open('../moto_x/' + j)\n",
    "        if(im.size[0]>513):\n",
    "            os.remove('../moto_x/' + j)"
   ]
  },
  {
   "cell_type": "code",
   "execution_count": 9,
   "metadata": {
    "collapsed": true
   },
   "outputs": [],
   "source": [
    "# copying external data into main train and validation folders"
   ]
  },
  {
   "cell_type": "code",
   "execution_count": 9,
   "metadata": {
    "collapsed": true
   },
   "outputs": [],
   "source": [
    "for i in os.listdir('../val_images/iphone_4s'):\n",
    "    shutil.copy('../val_images/iphone_4s/'+i,'validation_full_size/iPhone-4s/'+i)"
   ]
  },
  {
   "cell_type": "code",
   "execution_count": 10,
   "metadata": {
    "collapsed": true
   },
   "outputs": [],
   "source": [
    "for i in os.listdir('../val_images/moto_x'):\n",
    "    shutil.copy('../val_images/moto_x/'+i,'validation_full_size/Motorola-X/'+i)"
   ]
  },
  {
   "cell_type": "code",
   "execution_count": 11,
   "metadata": {
    "collapsed": true
   },
   "outputs": [],
   "source": [
    "for i in os.listdir('../val_images/sony_nex7'):\n",
    "    shutil.copy('../val_images/sony_nex7/'+i,'validation_full_size/Sony-NEX-7/'+i)"
   ]
  },
  {
   "cell_type": "code",
   "execution_count": 12,
   "metadata": {
    "collapsed": true
   },
   "outputs": [],
   "source": [
    "for i in os.listdir('../val_images/nexus_5x'):\n",
    "    shutil.copy('../val_images/nexus_5x/'+i,'validation_full_size/LG-Nexus-5x/'+i)"
   ]
  },
  {
   "cell_type": "code",
   "execution_count": 13,
   "metadata": {
    "collapsed": true
   },
   "outputs": [],
   "source": [
    "for i in os.listdir('../val_images/samsung_note3'):\n",
    "    shutil.copy('../val_images/samsung_note3/'+i,'validation_full_size/Samsung-Galaxy-Note3/'+i)"
   ]
  },
  {
   "cell_type": "code",
   "execution_count": 14,
   "metadata": {
    "collapsed": true
   },
   "outputs": [],
   "source": [
    "for i in os.listdir('../val_images/htc_m7'):\n",
    "    shutil.copy('../val_images/htc_m7/'+i,'validation_full_size/HTC-1-M7/'+i)"
   ]
  },
  {
   "cell_type": "code",
   "execution_count": 15,
   "metadata": {
    "collapsed": true
   },
   "outputs": [],
   "source": [
    "for i in os.listdir('../val_images/samsung_s4'):\n",
    "    shutil.copy('../val_images/samsung_s4/'+i,'validation_full_size/Samsung-Galaxy-S4/'+i)"
   ]
  },
  {
   "cell_type": "code",
   "execution_count": 16,
   "metadata": {
    "collapsed": true
   },
   "outputs": [],
   "source": [
    "for i in os.listdir('../val_images/nexus_6'):\n",
    "    shutil.copy('../val_images/nexus_6/'+i,'validation_full_size/Motorola-Nexus-6/'+i)"
   ]
  },
  {
   "cell_type": "code",
   "execution_count": 17,
   "metadata": {
    "collapsed": true
   },
   "outputs": [],
   "source": [
    "for i in os.listdir('../val_images/iphone_6'):\n",
    "    shutil.copy('../val_images/iphone_6/'+i,'validation_full_size/iPhone-6/'+i)"
   ]
  },
  {
   "cell_type": "code",
   "execution_count": 18,
   "metadata": {
    "collapsed": true
   },
   "outputs": [],
   "source": [
    "for i in os.listdir('../val_images/moto_maxx'):\n",
    "    shutil.copy('../val_images/moto_maxx/'+i,'validation_full_size/Motorola-Droid-Maxx/'+i)"
   ]
  },
  {
   "cell_type": "code",
   "execution_count": null,
   "metadata": {
    "collapsed": true
   },
   "outputs": [],
   "source": []
  },
  {
   "cell_type": "code",
   "execution_count": 49,
   "metadata": {
    "collapsed": true
   },
   "outputs": [],
   "source": [
    "for i in os.listdir('../flickr_images/iphone_4s'):\n",
    "    os.rename('../flickr_images/iphone_4s/'+i,'train/iPhone-4s/'+i)"
   ]
  },
  {
   "cell_type": "code",
   "execution_count": 50,
   "metadata": {
    "collapsed": true
   },
   "outputs": [],
   "source": [
    "for i in os.listdir('../flickr_images/moto_x'):\n",
    "    os.rename('../flickr_images/moto_x/'+i,'train/Motorola-X/'+i)"
   ]
  },
  {
   "cell_type": "code",
   "execution_count": 51,
   "metadata": {
    "collapsed": true
   },
   "outputs": [],
   "source": [
    "for i in os.listdir('../flickr_images/sony_nex7'):\n",
    "    os.rename('../flickr_images/sony_nex7/'+i,'train/Sony-NEX-7/'+i)"
   ]
  },
  {
   "cell_type": "code",
   "execution_count": 52,
   "metadata": {
    "collapsed": true
   },
   "outputs": [],
   "source": [
    "for i in os.listdir('../flickr_images/nexus_5x'):\n",
    "    os.rename('../flickr_images/nexus_5x/'+i,'train/LG-Nexus-5x/'+i)"
   ]
  },
  {
   "cell_type": "code",
   "execution_count": 53,
   "metadata": {
    "collapsed": true
   },
   "outputs": [],
   "source": [
    "for i in os.listdir('../flickr_images/samsung_note3'):\n",
    "    os.rename('../flickr_images/samsung_note3/'+i,'train/Samsung-Galaxy-Note3/'+i)"
   ]
  },
  {
   "cell_type": "code",
   "execution_count": 54,
   "metadata": {
    "collapsed": true
   },
   "outputs": [],
   "source": [
    "for i in os.listdir('../flickr_images/htc_m7'):\n",
    "    os.rename('../flickr_images/htc_m7/'+i,'train/HTC-1-M7/'+i)"
   ]
  },
  {
   "cell_type": "code",
   "execution_count": 55,
   "metadata": {
    "collapsed": true
   },
   "outputs": [],
   "source": [
    "for i in os.listdir('../flickr_images/samsung_s4'):\n",
    "    os.rename('../flickr_images/samsung_s4/'+i,'train/Samsung-Galaxy-S4/'+i)"
   ]
  },
  {
   "cell_type": "code",
   "execution_count": 56,
   "metadata": {
    "collapsed": true
   },
   "outputs": [],
   "source": [
    "for i in os.listdir('../flickr_images/nexus_6'):\n",
    "    os.rename('../flickr_images/nexus_6/'+i,'train/Motorola-Nexus-6/'+i)"
   ]
  },
  {
   "cell_type": "code",
   "execution_count": 57,
   "metadata": {
    "collapsed": true
   },
   "outputs": [],
   "source": [
    "for i in os.listdir('../flickr_images/iphone_6'):\n",
    "    os.rename('../flickr_images/iphone_6/'+i,'train/iPhone-6/'+i)"
   ]
  },
  {
   "cell_type": "code",
   "execution_count": 58,
   "metadata": {
    "collapsed": true
   },
   "outputs": [],
   "source": [
    "for i in os.listdir('../flickr_images/moto_maxx'):\n",
    "    os.rename('../flickr_images/moto_maxx/'+i,'train/Motorola-Droid-Maxx/'+i)"
   ]
  },
  {
   "cell_type": "code",
   "execution_count": null,
   "metadata": {
    "collapsed": true
   },
   "outputs": [],
   "source": []
  }
 ],
 "metadata": {
  "kernelspec": {
   "display_name": "Python 3",
   "language": "python",
   "name": "python3"
  },
  "language_info": {
   "codemirror_mode": {
    "name": "ipython",
    "version": 3
   },
   "file_extension": ".py",
   "mimetype": "text/x-python",
   "name": "python",
   "nbconvert_exporter": "python",
   "pygments_lexer": "ipython3",
   "version": "3.5.3"
  },
  "toc": {
   "nav_menu": {},
   "number_sections": true,
   "sideBar": true,
   "skip_h1_title": false,
   "toc_cell": false,
   "toc_position": {},
   "toc_section_display": "block",
   "toc_window_display": false
  }
 },
 "nbformat": 4,
 "nbformat_minor": 2
}
