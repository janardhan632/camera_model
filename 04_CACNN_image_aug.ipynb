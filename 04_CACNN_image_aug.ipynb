{
 "cells": [
  {
   "cell_type": "code",
   "execution_count": 2,
   "metadata": {
    "ExecuteTime": {
     "end_time": "2018-02-02T20:42:28.531130Z",
     "start_time": "2018-02-02T20:42:09.575745Z"
    }
   },
   "outputs": [
    {
     "name": "stderr",
     "output_type": "stream",
     "text": [
      "Using TensorFlow backend.\n"
     ]
    }
   ],
   "source": [
    "from keras.preprocessing.image import ImageDataGenerator\n",
    "from keras.models import Sequential, Model\n",
    "from keras.layers import Dropout, Flatten, Dense, Input\n",
    "from keras import applications\n",
    "from keras.layers import AveragePooling2D, GlobalAveragePooling2D\n",
    "from keras.callbacks import ModelCheckpoint, ReduceLROnPlateau, EarlyStopping, CSVLogger, TensorBoard, LambdaCallback\n",
    "from keras.applications.resnet50 import ResNet50, preprocess_input \n",
    "from keras.layers import Conv2D, Convolution2D, MaxPooling2D, ZeroPadding2D, BatchNormalization, Activation\n",
    "from keras.optimizers import Adam\n",
    "from keras import backend as K\n",
    "import numpy as np\n",
    "import pandas as pd\n",
    "from keras import layers\n",
    "import matplotlib.pyplot as plt\n",
    "import matplotlib.image as mpimg\n",
    "from keras.models import load_model\n",
    "import random\n",
    "import cv2\n",
    "from PIL import Image\n",
    "import os\n",
    "from keras.utils import to_categorical\n",
    "from collections import defaultdict\n",
    "from PIL import Image\n",
    "from io import BytesIO\n",
    "import jpeg4py as jpeg"
   ]
  },
  {
   "cell_type": "code",
   "execution_count": 3,
   "metadata": {
    "ExecuteTime": {
     "end_time": "2018-02-02T20:42:28.544436Z",
     "start_time": "2018-02-02T20:42:28.535375Z"
    },
    "collapsed": true
   },
   "outputs": [],
   "source": [
    "#parameters\n",
    "classes = 10\n",
    "batch_size= 100\n",
    "image_size = 224\n",
    "train_total = 3600\n",
    "validation_total = 875"
   ]
  },
  {
   "cell_type": "code",
   "execution_count": 4,
   "metadata": {
    "ExecuteTime": {
     "end_time": "2018-02-02T20:42:29.622476Z",
     "start_time": "2018-02-02T20:42:28.547624Z"
    }
   },
   "outputs": [
    {
     "name": "stdout",
     "output_type": "stream",
     "text": [
      "__________________________________________________________________________________________________\n",
      "Layer (type)                    Output Shape         Param #     Connected to                     \n",
      "==================================================================================================\n",
      "input_1 (InputLayer)            (None, 224, 224, 3)  0                                            \n",
      "__________________________________________________________________________________________________\n",
      "conv2d_1 (Conv2D)               (None, 222, 222, 4)  112         input_1[0][0]                    \n",
      "__________________________________________________________________________________________________\n",
      "conv2d_7 (Conv2D)               (None, 220, 220, 4)  304         input_1[0][0]                    \n",
      "__________________________________________________________________________________________________\n",
      "conv2d_13 (Conv2D)              (None, 218, 218, 4)  592         input_1[0][0]                    \n",
      "__________________________________________________________________________________________________\n",
      "batch_normalization_1 (BatchNor (None, 222, 222, 4)  16          conv2d_1[0][0]                   \n",
      "__________________________________________________________________________________________________\n",
      "batch_normalization_7 (BatchNor (None, 220, 220, 4)  16          conv2d_7[0][0]                   \n",
      "__________________________________________________________________________________________________\n",
      "batch_normalization_13 (BatchNo (None, 218, 218, 4)  16          conv2d_13[0][0]                  \n",
      "__________________________________________________________________________________________________\n",
      "conv2d_2 (Conv2D)               (None, 220, 220, 8)  296         batch_normalization_1[0][0]      \n",
      "__________________________________________________________________________________________________\n",
      "conv2d_8 (Conv2D)               (None, 218, 218, 8)  296         batch_normalization_7[0][0]      \n",
      "__________________________________________________________________________________________________\n",
      "conv2d_14 (Conv2D)              (None, 216, 216, 8)  296         batch_normalization_13[0][0]     \n",
      "__________________________________________________________________________________________________\n",
      "batch_normalization_2 (BatchNor (None, 220, 220, 8)  32          conv2d_2[0][0]                   \n",
      "__________________________________________________________________________________________________\n",
      "batch_normalization_8 (BatchNor (None, 218, 218, 8)  32          conv2d_8[0][0]                   \n",
      "__________________________________________________________________________________________________\n",
      "batch_normalization_14 (BatchNo (None, 216, 216, 8)  32          conv2d_14[0][0]                  \n",
      "__________________________________________________________________________________________________\n",
      "activation_1 (Activation)       (None, 220, 220, 8)  0           batch_normalization_2[0][0]      \n",
      "__________________________________________________________________________________________________\n",
      "activation_6 (Activation)       (None, 218, 218, 8)  0           batch_normalization_8[0][0]      \n",
      "__________________________________________________________________________________________________\n",
      "activation_11 (Activation)      (None, 216, 216, 8)  0           batch_normalization_14[0][0]     \n",
      "__________________________________________________________________________________________________\n",
      "max_pooling2d_1 (MaxPooling2D)  (None, 110, 110, 8)  0           activation_1[0][0]               \n",
      "__________________________________________________________________________________________________\n",
      "max_pooling2d_6 (MaxPooling2D)  (None, 109, 109, 8)  0           activation_6[0][0]               \n",
      "__________________________________________________________________________________________________\n",
      "max_pooling2d_11 (MaxPooling2D) (None, 108, 108, 8)  0           activation_11[0][0]              \n",
      "__________________________________________________________________________________________________\n",
      "conv2d_3 (Conv2D)               (None, 108, 108, 16) 1168        max_pooling2d_1[0][0]            \n",
      "__________________________________________________________________________________________________\n",
      "conv2d_9 (Conv2D)               (None, 107, 107, 16) 1168        max_pooling2d_6[0][0]            \n",
      "__________________________________________________________________________________________________\n",
      "conv2d_15 (Conv2D)              (None, 106, 106, 16) 1168        max_pooling2d_11[0][0]           \n",
      "__________________________________________________________________________________________________\n",
      "batch_normalization_3 (BatchNor (None, 108, 108, 16) 64          conv2d_3[0][0]                   \n",
      "__________________________________________________________________________________________________\n",
      "batch_normalization_9 (BatchNor (None, 107, 107, 16) 64          conv2d_9[0][0]                   \n",
      "__________________________________________________________________________________________________\n",
      "batch_normalization_15 (BatchNo (None, 106, 106, 16) 64          conv2d_15[0][0]                  \n",
      "__________________________________________________________________________________________________\n",
      "activation_2 (Activation)       (None, 108, 108, 16) 0           batch_normalization_3[0][0]      \n",
      "__________________________________________________________________________________________________\n",
      "activation_7 (Activation)       (None, 107, 107, 16) 0           batch_normalization_9[0][0]      \n",
      "__________________________________________________________________________________________________\n",
      "activation_12 (Activation)      (None, 106, 106, 16) 0           batch_normalization_15[0][0]     \n",
      "__________________________________________________________________________________________________\n",
      "max_pooling2d_2 (MaxPooling2D)  (None, 54, 54, 16)   0           activation_2[0][0]               \n",
      "__________________________________________________________________________________________________\n",
      "max_pooling2d_7 (MaxPooling2D)  (None, 53, 53, 16)   0           activation_7[0][0]               \n",
      "__________________________________________________________________________________________________\n",
      "max_pooling2d_12 (MaxPooling2D) (None, 53, 53, 16)   0           activation_12[0][0]              \n",
      "__________________________________________________________________________________________________\n",
      "conv2d_4 (Conv2D)               (None, 52, 52, 32)   4640        max_pooling2d_2[0][0]            \n",
      "__________________________________________________________________________________________________\n",
      "conv2d_10 (Conv2D)              (None, 51, 51, 32)   4640        max_pooling2d_7[0][0]            \n",
      "__________________________________________________________________________________________________\n",
      "conv2d_16 (Conv2D)              (None, 51, 51, 32)   4640        max_pooling2d_12[0][0]           \n",
      "__________________________________________________________________________________________________\n",
      "batch_normalization_4 (BatchNor (None, 52, 52, 32)   128         conv2d_4[0][0]                   \n",
      "__________________________________________________________________________________________________\n",
      "batch_normalization_10 (BatchNo (None, 51, 51, 32)   128         conv2d_10[0][0]                  \n",
      "__________________________________________________________________________________________________\n",
      "batch_normalization_16 (BatchNo (None, 51, 51, 32)   128         conv2d_16[0][0]                  \n",
      "__________________________________________________________________________________________________\n",
      "activation_3 (Activation)       (None, 52, 52, 32)   0           batch_normalization_4[0][0]      \n",
      "__________________________________________________________________________________________________\n",
      "activation_8 (Activation)       (None, 51, 51, 32)   0           batch_normalization_10[0][0]     \n",
      "__________________________________________________________________________________________________\n",
      "activation_13 (Activation)      (None, 51, 51, 32)   0           batch_normalization_16[0][0]     \n",
      "__________________________________________________________________________________________________\n",
      "max_pooling2d_3 (MaxPooling2D)  (None, 26, 26, 32)   0           activation_3[0][0]               \n",
      "__________________________________________________________________________________________________\n",
      "max_pooling2d_8 (MaxPooling2D)  (None, 25, 25, 32)   0           activation_8[0][0]               \n",
      "__________________________________________________________________________________________________\n",
      "max_pooling2d_13 (MaxPooling2D) (None, 25, 25, 32)   0           activation_13[0][0]              \n",
      "__________________________________________________________________________________________________\n",
      "conv2d_5 (Conv2D)               (None, 24, 24, 64)   18496       max_pooling2d_3[0][0]            \n",
      "__________________________________________________________________________________________________\n",
      "conv2d_11 (Conv2D)              (None, 23, 23, 64)   18496       max_pooling2d_8[0][0]            \n",
      "__________________________________________________________________________________________________\n",
      "conv2d_17 (Conv2D)              (None, 23, 23, 64)   18496       max_pooling2d_13[0][0]           \n",
      "__________________________________________________________________________________________________\n",
      "batch_normalization_5 (BatchNor (None, 24, 24, 64)   256         conv2d_5[0][0]                   \n",
      "__________________________________________________________________________________________________\n",
      "batch_normalization_11 (BatchNo (None, 23, 23, 64)   256         conv2d_11[0][0]                  \n",
      "__________________________________________________________________________________________________\n",
      "batch_normalization_17 (BatchNo (None, 23, 23, 64)   256         conv2d_17[0][0]                  \n",
      "__________________________________________________________________________________________________\n",
      "activation_4 (Activation)       (None, 24, 24, 64)   0           batch_normalization_5[0][0]      \n",
      "__________________________________________________________________________________________________\n",
      "activation_9 (Activation)       (None, 23, 23, 64)   0           batch_normalization_11[0][0]     \n",
      "__________________________________________________________________________________________________\n",
      "activation_14 (Activation)      (None, 23, 23, 64)   0           batch_normalization_17[0][0]     \n",
      "__________________________________________________________________________________________________\n",
      "max_pooling2d_4 (MaxPooling2D)  (None, 12, 12, 64)   0           activation_4[0][0]               \n",
      "__________________________________________________________________________________________________\n",
      "max_pooling2d_9 (MaxPooling2D)  (None, 11, 11, 64)   0           activation_9[0][0]               \n",
      "__________________________________________________________________________________________________\n",
      "max_pooling2d_14 (MaxPooling2D) (None, 11, 11, 64)   0           activation_14[0][0]              \n",
      "__________________________________________________________________________________________________\n",
      "conv2d_6 (Conv2D)               (None, 10, 10, 128)  73856       max_pooling2d_4[0][0]            \n",
      "__________________________________________________________________________________________________\n",
      "conv2d_12 (Conv2D)              (None, 9, 9, 128)    73856       max_pooling2d_9[0][0]            \n",
      "__________________________________________________________________________________________________\n",
      "conv2d_18 (Conv2D)              (None, 9, 9, 128)    73856       max_pooling2d_14[0][0]           \n",
      "__________________________________________________________________________________________________\n",
      "batch_normalization_6 (BatchNor (None, 10, 10, 128)  512         conv2d_6[0][0]                   \n",
      "__________________________________________________________________________________________________\n",
      "batch_normalization_12 (BatchNo (None, 9, 9, 128)    512         conv2d_12[0][0]                  \n",
      "__________________________________________________________________________________________________\n",
      "batch_normalization_18 (BatchNo (None, 9, 9, 128)    512         conv2d_18[0][0]                  \n",
      "__________________________________________________________________________________________________\n",
      "activation_5 (Activation)       (None, 10, 10, 128)  0           batch_normalization_6[0][0]      \n",
      "__________________________________________________________________________________________________\n",
      "activation_10 (Activation)      (None, 9, 9, 128)    0           batch_normalization_12[0][0]     \n",
      "__________________________________________________________________________________________________\n",
      "activation_15 (Activation)      (None, 9, 9, 128)    0           batch_normalization_18[0][0]     \n",
      "__________________________________________________________________________________________________\n",
      "max_pooling2d_5 (MaxPooling2D)  (None, 5, 5, 128)    0           activation_5[0][0]               \n",
      "__________________________________________________________________________________________________\n",
      "max_pooling2d_10 (MaxPooling2D) (None, 4, 4, 128)    0           activation_10[0][0]              \n",
      "__________________________________________________________________________________________________\n",
      "max_pooling2d_15 (MaxPooling2D) (None, 4, 4, 128)    0           activation_15[0][0]              \n",
      "__________________________________________________________________________________________________\n",
      "global_average_pooling2d_1 (Glo (None, 128)          0           max_pooling2d_5[0][0]            \n",
      "__________________________________________________________________________________________________\n",
      "global_average_pooling2d_2 (Glo (None, 128)          0           max_pooling2d_10[0][0]           \n",
      "__________________________________________________________________________________________________\n",
      "global_average_pooling2d_3 (Glo (None, 128)          0           max_pooling2d_15[0][0]           \n",
      "__________________________________________________________________________________________________\n",
      "concatenate_1 (Concatenate)     (None, 384)          0           global_average_pooling2d_1[0][0] \n",
      "                                                                 global_average_pooling2d_2[0][0] \n",
      "                                                                 global_average_pooling2d_3[0][0] \n",
      "__________________________________________________________________________________________________\n",
      "dense_1 (Dense)                 (None, 384)          147840      concatenate_1[0][0]              \n",
      "__________________________________________________________________________________________________\n",
      "batch_normalization_19 (BatchNo (None, 384)          1536        dense_1[0][0]                    \n",
      "__________________________________________________________________________________________________\n",
      "dense_2 (Dense)                 (None, 256)          98560       batch_normalization_19[0][0]     \n",
      "__________________________________________________________________________________________________\n",
      "batch_normalization_20 (BatchNo (None, 256)          1024        dense_2[0][0]                    \n",
      "__________________________________________________________________________________________________\n",
      "dense_3 (Dense)                 (None, 128)          32896       batch_normalization_20[0][0]     \n",
      "__________________________________________________________________________________________________\n",
      "batch_normalization_21 (BatchNo (None, 128)          512         dense_3[0][0]                    \n",
      "__________________________________________________________________________________________________\n",
      "dense_4 (Dense)                 (None, 10)           1290        batch_normalization_21[0][0]     \n",
      "==================================================================================================\n",
      "Total params: 583,058\n",
      "Trainable params: 580,010\n",
      "Non-trainable params: 3,048\n",
      "__________________________________________________________________________________________________\n"
     ]
    }
   ],
   "source": [
    "def CACNN_basic_block(x):\n",
    "    x = Conv2D(8, (3,3), padding='valid')(x)\n",
    "    x = BatchNormalization()(x)\n",
    "    x = Activation('relu')(x)\n",
    "    x = MaxPooling2D((2,2))(x)\n",
    "    \n",
    "    x = Conv2D(16, (3,3), padding='valid')(x)\n",
    "    x = BatchNormalization()(x)\n",
    "    x = Activation('relu')(x)\n",
    "    x = MaxPooling2D((2,2))(x)\n",
    "    \n",
    "    x = Conv2D(32, (3,3), padding='valid')(x)\n",
    "    x = BatchNormalization()(x)\n",
    "    x = Activation('relu')(x)\n",
    "    x = MaxPooling2D((2,2))(x)\n",
    "    \n",
    "    x = Conv2D(64, (3,3), padding='valid')(x)\n",
    "    x = BatchNormalization()(x)\n",
    "    x = Activation('relu')(x)\n",
    "    x = MaxPooling2D((2,2))(x)\n",
    "    \n",
    "    x = Conv2D(128, (3,3), padding='valid')(x)\n",
    "    x = BatchNormalization()(x)\n",
    "    x = Activation('relu')(x)\n",
    "    x = MaxPooling2D((2,2))(x)\n",
    "    \n",
    "    x = GlobalAveragePooling2D()(x)\n",
    "    return x\n",
    "\n",
    "x = Input((image_size,image_size,3))\n",
    "\n",
    "x1 = Conv2D(4, (3,3), padding='valid')(x)\n",
    "x1 = BatchNormalization()(x1)\n",
    "x1 = CACNN_basic_block(x1)\n",
    "\n",
    "x2 = Conv2D(4, (5,5), padding='valid')(x)\n",
    "x2 = BatchNormalization()(x2)\n",
    "x2 = CACNN_basic_block(x2)\n",
    "\n",
    "x3 = Conv2D(4, (7,7), padding='valid')(x)\n",
    "x3 = BatchNormalization()(x3)\n",
    "x3 = CACNN_basic_block(x3)\n",
    "\n",
    "y = layers.concatenate([x1,x2,x3])\n",
    "#y = Dropout(0.3)(y)\n",
    "y = Dense(384, activation='relu')(y)\n",
    "#y = Dropout(0.5)(y)\n",
    "y = BatchNormalization()(y)\n",
    "y = Dense(256, activation='relu')(y)\n",
    "#y = Dropout(0.5)(y)\n",
    "y = BatchNormalization()(y)\n",
    "y = Dense(128, activation='relu')(y)\n",
    "#y = Dropout(0.5)(y)\n",
    "y = BatchNormalization()(y)\n",
    "y = Dense(classes, activation='softmax')(y)\n",
    "\n",
    "model  = Model(inputs=x,outputs=y)\n",
    "model.summary()"
   ]
  },
  {
   "cell_type": "code",
   "execution_count": 5,
   "metadata": {
    "ExecuteTime": {
     "end_time": "2018-02-02T20:42:29.626929Z",
     "start_time": "2018-02-02T20:42:29.623892Z"
    },
    "collapsed": true
   },
   "outputs": [],
   "source": [
    "train_datagen = ImageDataGenerator(horizontal_flip=True)\n",
    "validation_datagen = ImageDataGenerator(preprocessing_function=preprocess_input)\n",
    "                    "
   ]
  },
  {
   "cell_type": "code",
   "execution_count": 6,
   "metadata": {
    "ExecuteTime": {
     "end_time": "2018-02-02T20:42:30.379181Z",
     "start_time": "2018-02-02T20:42:29.628129Z"
    },
    "scrolled": true
   },
   "outputs": [
    {
     "name": "stdout",
     "output_type": "stream",
     "text": [
      "Found 906500 images belonging to 10 classes.\n",
      "Found 875 images belonging to 10 classes.\n"
     ]
    }
   ],
   "source": [
    "train_generator = train_datagen.flow_from_directory(\n",
    "                    'train/',\n",
    "                    target_size=(image_size,image_size),\n",
    "                    batch_size=batch_size,\n",
    "                    class_mode='categorical',\n",
    "                    shuffle=True\n",
    "                    )\n",
    "\n",
    "validation_generator = validation_datagen.flow_from_directory(\n",
    "                        'validation/',\n",
    "                        target_size=(image_size,image_size),\n",
    "                        batch_size=batch_size,\n",
    "                        class_mode='categorical',\n",
    "                        shuffle=False)\n"
   ]
  },
  {
   "cell_type": "code",
   "execution_count": 7,
   "metadata": {
    "ExecuteTime": {
     "end_time": "2018-02-02T20:42:30.445863Z",
     "start_time": "2018-02-02T20:42:30.383332Z"
    },
    "collapsed": true
   },
   "outputs": [],
   "source": [
    "def image_aug_valid(image, index):\n",
    "    Image.LOAD_TRUNCATED_IMAGES = True\n",
    "    mpimg.LOAD_TRUNCATED_IMAGES = True\n",
    "    if(index==0):\n",
    "        res_image = np.uint8(cv2.pow(image/255.,0.8)*255.)\n",
    "    elif(index==1):\n",
    "        res_image = np.uint8(cv2.pow(image/255.,1.2)*255.)\n",
    "    elif(index==2):\n",
    "        res_image = cv2.resize(image,(0,0),fx=0.5,fy=0.5,interpolation = cv2.INTER_CUBIC)\n",
    "    elif(index==3):\n",
    "        res_image = cv2.resize(image,(0,0),fx=0.8,fy=0.8,interpolation = cv2.INTER_CUBIC)    \n",
    "    elif(index==4):\n",
    "        res_image = cv2.resize(image,(0,0),fx=1.5,fy=1.5,interpolation = cv2.INTER_CUBIC)\n",
    "    elif(index==5):\n",
    "        res_image = cv2.resize(image,(0,0),fx=2.0,fy=2.0,interpolation = cv2.INTER_CUBIC)\n",
    "    elif(index==6):\n",
    "        img = Image.fromarray(image)\n",
    "        out_70_valid = BytesIO()\n",
    "        img.save(out_70_valid, \"JPEG\", quality=70)\n",
    "        res_image = jpeg.JPEG(np.frombuffer(out_70_valid.getvalue(), dtype=np.uint8)).decode()\n",
    "        del img\n",
    "        del out_70_valid\n",
    "    elif(index==7):\n",
    "        img = Image.fromarray(image)\n",
    "        out_90_valid = BytesIO()\n",
    "        img.save(out_90_valid, \"JPEG\", quality=90)\n",
    "        res_image = jpeg.JPEG(np.frombuffer(out_90_valid.getvalue(), dtype=np.uint8)).decode()\n",
    "        del img\n",
    "        del out_90_valid\n",
    "    return res_image "
   ]
  },
  {
   "cell_type": "code",
   "execution_count": 8,
   "metadata": {
    "ExecuteTime": {
     "end_time": "2018-02-02T20:42:30.525475Z",
     "start_time": "2018-02-02T20:42:30.447371Z"
    },
    "collapsed": true
   },
   "outputs": [],
   "source": [
    "def image_aug(image, index):\n",
    "    Image.LOAD_TRUNCATED_IMAGES = True\n",
    "    mpimg.LOAD_TRUNCATED_IMAGES = True\n",
    "    if(index==0):\n",
    "        res_image = np.uint8(cv2.pow(image/255.,0.8)*255.)\n",
    "    elif(index==1):\n",
    "        res_image = np.uint8(cv2.pow(image/255.,1.2)*255.)\n",
    "    elif(index==2):\n",
    "        res_image = cv2.resize(image,(0,0),fx=0.5,fy=0.5,interpolation = cv2.INTER_CUBIC)\n",
    "    elif(index==3):\n",
    "        res_image = cv2.resize(image,(0,0),fx=0.8,fy=0.8,interpolation = cv2.INTER_CUBIC)    \n",
    "    elif(index==4):\n",
    "        res_image = cv2.resize(image,(0,0),fx=1.5,fy=1.5,interpolation = cv2.INTER_CUBIC)\n",
    "    elif(index==5):\n",
    "        res_image = cv2.resize(image,(0,0),fx=2.0,fy=2.0,interpolation = cv2.INTER_CUBIC)\n",
    "    elif(index==6):\n",
    "        img = Image.fromarray(image)\n",
    "        out_70 = BytesIO()\n",
    "        img.save(out_70, \"JPEG\", quality=70)\n",
    "        res_image = jpeg.JPEG(np.frombuffer(out_70.getvalue(), dtype=np.uint8)).decode()\n",
    "        del img\n",
    "        del out_70\n",
    "    elif(index==7):\n",
    "        img = Image.fromarray(image)\n",
    "        out_90 = BytesIO()\n",
    "        img.save(out_90, \"JPEG\", quality=90)\n",
    "        res_image = jpeg.JPEG(np.frombuffer(out_90.getvalue(), dtype=np.uint8)).decode()\n",
    "        del img\n",
    "        del out_90\n",
    "    return res_image "
   ]
  },
  {
   "cell_type": "code",
   "execution_count": 9,
   "metadata": {
    "ExecuteTime": {
     "end_time": "2018-02-02T20:42:30.641263Z",
     "start_time": "2018-02-02T20:42:30.526948Z"
    },
    "collapsed": true
   },
   "outputs": [],
   "source": [
    "def random_crop(image, crop_size):\n",
    "    h,w,d = image.shape\n",
    "    rand_num_h = random.randint(0,h-crop_size)\n",
    "    rand_num_w = random.randint(0,w-crop_size)\n",
    "    image_crop = image[rand_num_h:rand_num_h+crop_size,rand_num_w:rand_num_w+crop_size,:]\n",
    "    return image_crop"
   ]
  },
  {
   "cell_type": "code",
   "execution_count": 10,
   "metadata": {
    "ExecuteTime": {
     "end_time": "2018-02-02T20:42:30.731547Z",
     "start_time": "2018-02-02T20:42:30.645043Z"
    },
    "collapsed": true
   },
   "outputs": [],
   "source": [
    "def train_gen(train_files, train_classes, batch_size, target_size, imggen):\n",
    "    min_batch_size = batch_size //10\n",
    "    train_data = list(zip(train_files, train_classes))\n",
    "    train_data_dict = defaultdict(list)\n",
    "    for i in range(len(train_data)):\n",
    "        train_data_dict[train_data[i][0].split('/')[0]].append(train_data[i])\n",
    "       \n",
    "    while(True):\n",
    "        for i in train_data_dict.keys():\n",
    "            random.shuffle(train_data_dict[i])\n",
    "        for start in range(0, len(train_data), min_batch_size):\n",
    "            image_crop_list = []\n",
    "            image_classes_list = []\n",
    "            \n",
    "            \n",
    "            for j in train_data_dict.keys():\n",
    "                end = min(start + min_batch_size, len(train_data_dict[j])) \n",
    "                \n",
    "                x_batch = [train_data_dict[j][i][0] for i in range(start,end)]\n",
    "                \n",
    "                for index,i in enumerate(x_batch):\n",
    "                    rand_num = random.randint(0,7)\n",
    "                    if(rand_num == 2 or rand_num == 3):\n",
    "                        temp_file = random.choice(os.listdir('train_1024/'+i.split('/')[0]))\n",
    "                        image = jpeg.JPEG('train_1024/' + i.split('/')[0]+'/' + temp_file).decode()\n",
    "                    else:\n",
    "                        image = jpeg.JPEG('train/' + i).decode()\n",
    "                    \n",
    "                    if(len(image.shape)<3):\n",
    "                        print(_1_)\n",
    "                        continue\n",
    "                    \n",
    "                    \n",
    "                    image = image_aug(image,rand_num)\n",
    "                    image = random_crop(image,image_size)\n",
    "                    image_crop_list.append(image)\n",
    "                    image_classes_list.append(train_data_dict[j][start+index][1])\n",
    "                    \n",
    "                    del image\n",
    "                    \n",
    "            \n",
    "            if(len(image_classes_list)<batch_size-2*min_batch_size):\n",
    "                break\n",
    "            image_crop_list = [x/1. for x in image_crop_list]\n",
    "            image_crop_list = [imggen.random_transform(x) for x in image_crop_list]\n",
    "            image_crop_list = [preprocess_input(x) for x in image_crop_list]\n",
    "\n",
    "            x_batch = np.array(image_crop_list, np.float32)\n",
    "            y_batch = np.array(image_classes_list)         \n",
    "            \n",
    "            yield (x_batch, y_batch)"
   ]
  },
  {
   "cell_type": "code",
   "execution_count": 11,
   "metadata": {
    "ExecuteTime": {
     "end_time": "2018-02-02T20:42:31.042742Z",
     "start_time": "2018-02-02T20:42:30.732772Z"
    },
    "collapsed": true
   },
   "outputs": [],
   "source": [
    "train_crop_generator = train_gen(train_generator.filenames,to_categorical(train_generator.classes),batch_size,image_size,train_datagen) "
   ]
  },
  {
   "cell_type": "code",
   "execution_count": 12,
   "metadata": {
    "ExecuteTime": {
     "end_time": "2018-02-02T20:42:47.727573Z",
     "start_time": "2018-02-02T20:42:47.683801Z"
    },
    "collapsed": true
   },
   "outputs": [],
   "source": [
    "def valid_gen(valid_files, valid_classes, batch_size, target_size, imggen):\n",
    "\n",
    "    valid_data = list(zip(valid_files, valid_classes))\n",
    "  \n",
    "    while(True):\n",
    "        \n",
    "        for manip_num in range(8):\n",
    "            for start in range(0, len(valid_data), batch_size):\n",
    "                image_crop_list = []\n",
    "                image_classes_list = []\n",
    "                end = min(start + batch_size, len(valid_data)) \n",
    "\n",
    "                x_batch = [valid_data[i][0] for i in range(start,end)]\n",
    "\n",
    "                for index,i in enumerate(x_batch):\n",
    "                    if(manip_num == 2 or manip_num == 3):\n",
    "                        temp_file = random.choice(os.listdir('validation_1024/'+i.split('/')[0]))\n",
    "                        image = jpeg.JPEG('validation_1024/' + i.split('/')[0]+'/' + temp_file).decode()\n",
    "                    else:\n",
    "                        image = jpeg.JPEG('validation/' + i).decode()\n",
    "                    if(len(image.shape)<3):\n",
    "                            continue\n",
    "                    #rand_num = random.randint(0,7)\n",
    "                    \n",
    "                    image = image_aug_valid(image,manip_num)\n",
    "                    \n",
    "                    image = random_crop(image,image_size)\n",
    "                    image_crop_list.append(image)\n",
    "                    image_classes_list.append(valid_data[start+index][1])\n",
    "\n",
    "                    del image\n",
    "                   \n",
    "\n",
    "\n",
    "                image_crop_list = [x/1. for x in image_crop_list]\n",
    "                image_crop_list = [preprocess_input(x) for x in image_crop_list]\n",
    "\n",
    "                x_batch = np.array(image_crop_list, np.float32)\n",
    "                y_batch = np.array(image_classes_list)         \n",
    "\n",
    "                yield (x_batch, y_batch)"
   ]
  },
  {
   "cell_type": "code",
   "execution_count": 13,
   "metadata": {
    "ExecuteTime": {
     "end_time": "2018-02-02T20:42:47.835604Z",
     "start_time": "2018-02-02T20:42:47.729201Z"
    },
    "collapsed": true
   },
   "outputs": [],
   "source": [
    "valid_aug_generator = valid_gen(validation_generator.filenames,to_categorical(validation_generator.classes),batch_size,image_size,validation_datagen) "
   ]
  },
  {
   "cell_type": "code",
   "execution_count": 14,
   "metadata": {
    "ExecuteTime": {
     "end_time": "2018-02-02T20:42:48.030527Z",
     "start_time": "2018-02-02T20:42:47.990040Z"
    },
    "collapsed": true
   },
   "outputs": [],
   "source": [
    "model.compile(loss='categorical_crossentropy',\n",
    "             optimizer=Adam(lr=1e-4),\n",
    "             metrics=['accuracy'])"
   ]
  },
  {
   "cell_type": "code",
   "execution_count": 15,
   "metadata": {
    "ExecuteTime": {
     "end_time": "2018-02-02T20:42:50.255055Z",
     "start_time": "2018-02-02T20:42:48.499277Z"
    },
    "collapsed": true
   },
   "outputs": [],
   "source": [
    "from pushbullet import Pushbullet\n",
    "pb = Pushbullet('o.KiDDDXPuzV4qKbXh4Lywbgw1tK2oFfq1')"
   ]
  },
  {
   "cell_type": "code",
   "execution_count": 16,
   "metadata": {
    "ExecuteTime": {
     "end_time": "2018-02-02T20:42:50.264943Z",
     "start_time": "2018-02-02T20:42:50.258966Z"
    },
    "collapsed": true
   },
   "outputs": [],
   "source": [
    "pushbullet_callback = LambdaCallback(\n",
    "    on_epoch_end=lambda epoch, logs: pb.push_note(\"epoch: \"+str(epoch),\"train_loss: \"+str(logs['loss'])+\"    val_loss\"+str(logs['val_loss'])))"
   ]
  },
  {
   "cell_type": "code",
   "execution_count": 17,
   "metadata": {
    "ExecuteTime": {
     "end_time": "2018-02-02T20:42:50.642743Z",
     "start_time": "2018-02-02T20:42:50.634137Z"
    },
    "collapsed": true
   },
   "outputs": [],
   "source": [
    "callbacks = [ModelCheckpoint(filepath='cacnn_image_aug_1.hdf5', verbose=1, save_best_only=True, save_weights_only=True),\n",
    "ReduceLROnPlateau(monitor='val_loss', factor=0.5, patience=3, verbose=1,epsilon=0.01),\n",
    "EarlyStopping(monitor='val_loss', patience=10, verbose=1),\n",
    "CSVLogger('./4-metrics_cacnn_image_aug_1.csv'),\n",
    "TensorBoard(log_dir='logs_cacnn_image_aug', write_graph=True),\n",
    "            pushbullet_callback]"
   ]
  },
  {
   "cell_type": "code",
   "execution_count": null,
   "metadata": {
    "ExecuteTime": {
     "start_time": "2018-02-02T20:45:31.284Z"
    },
    "scrolled": true
   },
   "outputs": [
    {
     "name": "stdout",
     "output_type": "stream",
     "text": [
      "Epoch 1/100\n",
      "287/288 [============================>.] - ETA: 1s - loss: 1.5874 - acc: 0.4769\n",
      "Epoch 00001: val_loss improved from inf to 1.18234, saving model to cacnn_image_aug_1.hdf5\n",
      "288/288 [==============================] - 456s 2s/step - loss: 1.5857 - acc: 0.4774 - val_loss: 1.1823 - val_acc: 0.6206\n",
      "Epoch 2/100\n",
      "287/288 [============================>.] - ETA: 1s - loss: 1.1637 - acc: 0.6161\n",
      "Epoch 00002: val_loss improved from 1.18234 to 1.05759, saving model to cacnn_image_aug_1.hdf5\n",
      "288/288 [==============================] - 415s 1s/step - loss: 1.1637 - acc: 0.6161 - val_loss: 1.0576 - val_acc: 0.6547\n",
      "Epoch 3/100\n",
      "254/288 [=========================>....] - ETA: 40s - loss: 1.0842 - acc: 0.6422"
     ]
    }
   ],
   "source": [
    "history = model.fit_generator(\n",
    "                    train_crop_generator,\n",
    "                    steps_per_epoch = 8*int(np.ceil(train_total/batch_size)),\n",
    "                    epochs=100,\n",
    "                    validation_data=valid_aug_generator,\n",
    "                    validation_steps= 8*int(np.ceil(validation_total/batch_size)),\n",
    "                    verbose=1,\n",
    "                    callbacks=callbacks)"
   ]
  },
  {
   "cell_type": "code",
   "execution_count": 18,
   "metadata": {
    "ExecuteTime": {
     "end_time": "2018-02-02T20:42:52.133874Z",
     "start_time": "2018-02-02T20:42:52.021749Z"
    },
    "collapsed": true
   },
   "outputs": [],
   "source": [
    "model.load_weights('cacnn_2_image_aug_1.hdf5')"
   ]
  },
  {
   "cell_type": "code",
   "execution_count": null,
   "metadata": {
    "ExecuteTime": {
     "start_time": "2018-02-02T20:42:52.588Z"
    }
   },
   "outputs": [
    {
     "data": {
      "text/plain": [
       "[2.383350227560316, 0.0572857144820903]"
      ]
     },
     "execution_count": 19,
     "metadata": {},
     "output_type": "execute_result"
    }
   ],
   "source": [
    "model.evaluate_generator(valid_aug_generator,8*int(np.ceil(validation_total/batch_size)))"
   ]
  },
  {
   "cell_type": "code",
   "execution_count": 33,
   "metadata": {
    "collapsed": true
   },
   "outputs": [],
   "source": [
    "# validation predictions for analysis"
   ]
  },
  {
   "cell_type": "code",
   "execution_count": 34,
   "metadata": {
    "collapsed": true
   },
   "outputs": [],
   "source": [
    "predictions_valid = model.predict_generator(validation_generator,int(np.ceil(validation_total/batch_size)))\n",
    "predictions_valid = np.argmax(predictions_valid, axis=1)"
   ]
  },
  {
   "cell_type": "code",
   "execution_count": 35,
   "metadata": {},
   "outputs": [
    {
     "data": {
      "text/plain": [
       "{'HTC-1-M7': 0,\n",
       " 'LG-Nexus-5x': 1,\n",
       " 'Motorola-Droid-Maxx': 2,\n",
       " 'Motorola-Nexus-6': 3,\n",
       " 'Motorola-X': 4,\n",
       " 'Samsung-Galaxy-Note3': 5,\n",
       " 'Samsung-Galaxy-S4': 6,\n",
       " 'Sony-NEX-7': 7,\n",
       " 'iPhone-4s': 8,\n",
       " 'iPhone-6': 9}"
      ]
     },
     "execution_count": 35,
     "metadata": {},
     "output_type": "execute_result"
    }
   ],
   "source": [
    "validation_generator.class_indices"
   ]
  },
  {
   "cell_type": "code",
   "execution_count": 36,
   "metadata": {
    "collapsed": true
   },
   "outputs": [],
   "source": [
    "true_positive = np.zeros(10)\n",
    "false_positive = np.zeros(10)\n",
    "true_negative = np.zeros(10)\n",
    "false_negative = np.zeros(10)\n",
    "for i in range(len(predictions_valid)):\n",
    "    if(predictions_valid[i]==validation_generator.classes[i]):\n",
    "        true_positive[predictions_valid[i]] = true_positive[predictions_valid[i]] + 1\n",
    "    else:\n",
    "        false_positive[predictions_valid[i]] = false_positive[predictions_valid[i]] + 1\n",
    "        false_negative[validation_generator.classes[i]] = false_negative[validation_generator.classes[i]] +1"
   ]
  },
  {
   "cell_type": "code",
   "execution_count": 37,
   "metadata": {},
   "outputs": [
    {
     "name": "stdout",
     "output_type": "stream",
     "text": [
      "true_positive\n",
      "[ 86.  72.  53.  53.  62.  64.  82.  68.  68.  81.]\n",
      "false_positive\n",
      "[ 16.  27.   5.  19.  31.  22.  12.   7.   8.  39.]\n",
      "false_negative\n",
      "[ 12.  27.  22.  24.  24.  12.  17.  18.  20.  10.]\n",
      "Total\n",
      "[ 98.  99.  75.  77.  86.  76.  99.  86.  88.  91.]\n"
     ]
    }
   ],
   "source": [
    "print('true_positive')\n",
    "print(true_positive)\n",
    "print('false_positive')\n",
    "print(false_positive)\n",
    "print('false_negative')\n",
    "print(false_negative)\n",
    "print('Total')\n",
    "print(true_positive+false_negative)\n"
   ]
  },
  {
   "cell_type": "code",
   "execution_count": 1,
   "metadata": {
    "ExecuteTime": {
     "end_time": "2018-02-20T14:03:47.565030Z",
     "start_time": "2018-02-20T14:03:47.560813Z"
    },
    "collapsed": true
   },
   "outputs": [],
   "source": [
    "#test predictions - 512 size"
   ]
  },
  {
   "cell_type": "code",
   "execution_count": 22,
   "metadata": {
    "collapsed": true
   },
   "outputs": [],
   "source": [
    "filenames_list = []\n",
    "images_list = []\n",
    "for i in os.listdir('test/temp/'):\n",
    "    img = Image.open('test/temp/'+i)\n",
    "    filenames_list.append(i)\n",
    "    images_list.append(np.array(img, np.float32))    "
   ]
  },
  {
   "cell_type": "code",
   "execution_count": 23,
   "metadata": {
    "collapsed": true
   },
   "outputs": [],
   "source": [
    "images_list = [preprocess_input(x) for x in images_list]"
   ]
  },
  {
   "cell_type": "code",
   "execution_count": 24,
   "metadata": {
    "collapsed": true
   },
   "outputs": [],
   "source": [
    "new_array_arr = np.array(images_list)"
   ]
  },
  {
   "cell_type": "code",
   "execution_count": 25,
   "metadata": {},
   "outputs": [
    {
     "data": {
      "text/plain": [
       "(2640, 512, 512, 3)"
      ]
     },
     "execution_count": 25,
     "metadata": {},
     "output_type": "execute_result"
    }
   ],
   "source": [
    "new_array_arr.shape"
   ]
  },
  {
   "cell_type": "code",
   "execution_count": 26,
   "metadata": {
    "collapsed": true
   },
   "outputs": [],
   "source": [
    "test_preds = model.predict(new_array_arr)"
   ]
  },
  {
   "cell_type": "code",
   "execution_count": 28,
   "metadata": {
    "collapsed": true
   },
   "outputs": [],
   "source": [
    "class_ids = {train_generator.class_indices[x]: x for x in train_generator.class_indices}"
   ]
  },
  {
   "cell_type": "code",
   "execution_count": 52,
   "metadata": {
    "collapsed": true
   },
   "outputs": [],
   "source": [
    "predicted_classes = [class_ids[np.argmax(i)] for i in test_preds]"
   ]
  },
  {
   "cell_type": "code",
   "execution_count": 58,
   "metadata": {
    "collapsed": true
   },
   "outputs": [],
   "source": [
    "for index,i in enumerate(filenames_list):\n",
    "    if(i.split('_')[-1]=='manip.tif'):\n",
    "        predicted_classes[index]=''"
   ]
  },
  {
   "cell_type": "code",
   "execution_count": 60,
   "metadata": {
    "collapsed": true
   },
   "outputs": [],
   "source": [
    "submission = pd.DataFrame({'fname':filenames_list,'camera':predicted_classes})\n",
    "submission.to_csv('submission_resnet_with_aug_trained_fully_512_only_unalt.csv', encoding=\"utf8\", index=False)"
   ]
  },
  {
   "cell_type": "code",
   "execution_count": 61,
   "metadata": {},
   "outputs": [
    {
     "data": {
      "text/html": [
       "<a href='submission_resnet_with_aug_trained_fully_512_only_unalt.csv' target='_blank'>submission_resnet_with_aug_trained_fully_512_only_unalt.csv</a><br>"
      ],
      "text/plain": [
       "/home/janardhan/camera_model/submission_resnet_with_aug_trained_fully_512_only_unalt.csv"
      ]
     },
     "execution_count": 61,
     "metadata": {},
     "output_type": "execute_result"
    }
   ],
   "source": [
    "from IPython.display import FileLink\n",
    "FileLink('submission_resnet_with_aug_trained_fully_512_only_unalt.csv')"
   ]
  },
  {
   "cell_type": "code",
   "execution_count": null,
   "metadata": {
    "collapsed": true
   },
   "outputs": [],
   "source": []
  }
 ],
 "metadata": {
  "kernelspec": {
   "display_name": "Python 3",
   "language": "python",
   "name": "python3"
  },
  "language_info": {
   "codemirror_mode": {
    "name": "ipython",
    "version": 3
   },
   "file_extension": ".py",
   "mimetype": "text/x-python",
   "name": "python",
   "nbconvert_exporter": "python",
   "pygments_lexer": "ipython3",
   "version": "3.5.4"
  },
  "toc": {
   "nav_menu": {},
   "number_sections": true,
   "sideBar": true,
   "skip_h1_title": false,
   "toc_cell": false,
   "toc_position": {},
   "toc_section_display": "block",
   "toc_window_display": false
  }
 },
 "nbformat": 4,
 "nbformat_minor": 2
}
