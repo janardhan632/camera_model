{
 "cells": [
  {
   "cell_type": "code",
   "execution_count": 1,
   "metadata": {
    "ExecuteTime": {
     "end_time": "2018-02-03T10:01:59.476750Z",
     "start_time": "2018-02-03T10:01:55.649382Z"
    }
   },
   "outputs": [
    {
     "name": "stderr",
     "output_type": "stream",
     "text": [
      "Using TensorFlow backend.\n"
     ]
    }
   ],
   "source": [
    "from keras.preprocessing.image import ImageDataGenerator\n",
    "from keras.models import Sequential, Model\n",
    "from keras.layers import Dropout, Flatten, Dense, Input\n",
    "from keras import applications\n",
    "from keras.layers import AveragePooling2D, GlobalAveragePooling2D\n",
    "from keras.callbacks import ModelCheckpoint, ReduceLROnPlateau, EarlyStopping, CSVLogger, TensorBoard, LambdaCallback\n",
    "from keras.applications.mobilenet import MobileNet, preprocess_input \n",
    "from keras.layers import Conv2D, Convolution2D, MaxPooling2D, ZeroPadding2D, BatchNormalization, Activation\n",
    "from keras.optimizers import Adam\n",
    "from keras import backend as K\n",
    "import numpy as np\n",
    "import pandas as pd\n",
    "from keras import layers\n",
    "import matplotlib.pyplot as plt\n",
    "import matplotlib.image as mpimg\n",
    "from keras.models import load_model\n",
    "import random\n",
    "import cv2\n",
    "from PIL import Image\n",
    "import os\n",
    "from keras.utils import to_categorical\n",
    "from collections import defaultdict\n",
    "import jpeg4py as jpeg\n",
    "from io import BytesIO"
   ]
  },
  {
   "cell_type": "code",
   "execution_count": 2,
   "metadata": {
    "ExecuteTime": {
     "end_time": "2018-02-03T10:01:59.481917Z",
     "start_time": "2018-02-03T10:01:59.478400Z"
    },
    "collapsed": true
   },
   "outputs": [],
   "source": [
    "#parameters\n",
    "classes = 10\n",
    "batch_size=50\n",
    "image_size = 224\n",
    "train_total = 3500\n",
    "validation_total = 4370"
   ]
  },
  {
   "cell_type": "code",
   "execution_count": 3,
   "metadata": {
    "ExecuteTime": {
     "end_time": "2018-02-03T10:02:03.900023Z",
     "start_time": "2018-02-03T10:01:59.483829Z"
    },
    "collapsed": true
   },
   "outputs": [],
   "source": [
    "model_densenet = DenseNet201(include_top=False, weights = 'imagenet',input_shape=(image_size,image_size,3))"
   ]
  },
  {
   "cell_type": "code",
   "execution_count": 5,
   "metadata": {
    "ExecuteTime": {
     "end_time": "2018-02-03T10:02:04.121257Z",
     "start_time": "2018-02-03T10:02:03.932801Z"
    },
    "collapsed": true
   },
   "outputs": [],
   "source": [
    "x = model_densenet.output\n",
    "x = GlobalAveragePooling2D()(x)\n",
    "x = Dropout(0.5)(x)\n",
    "x = Dense(256, activation='relu')(x)\n",
    "x = Dropout(0.5)(x)\n",
    "x = BatchNormalization()(x)\n",
    "x = Dense(128, activation='relu')(x)\n",
    "x = Dropout(0.5)(x)\n",
    "x = BatchNormalization()(x)\n",
    "x = Dense(classes, activation='softmax')(x)"
   ]
  },
  {
   "cell_type": "code",
   "execution_count": 6,
   "metadata": {
    "ExecuteTime": {
     "end_time": "2018-02-03T10:02:04.125749Z",
     "start_time": "2018-02-03T10:02:04.122839Z"
    },
    "collapsed": true
   },
   "outputs": [],
   "source": [
    "for layer in model_densenet.layers:\n",
    "    layer.trainable = True"
   ]
  },
  {
   "cell_type": "code",
   "execution_count": 8,
   "metadata": {
    "ExecuteTime": {
     "end_time": "2018-02-03T10:02:04.169830Z",
     "start_time": "2018-02-03T10:02:04.132800Z"
    }
   },
   "outputs": [
    {
     "name": "stdout",
     "output_type": "stream",
     "text": [
      "_________________________________________________________________\n",
      "Layer (type)                 Output Shape              Param #   \n",
      "=================================================================\n",
      "input_1 (InputLayer)         (None, 224, 224, 3)       0         \n",
      "_________________________________________________________________\n",
      "conv1 (Conv2D)               (None, 112, 112, 32)      864       \n",
      "_________________________________________________________________\n",
      "conv1_bn (BatchNormalization (None, 112, 112, 32)      128       \n",
      "_________________________________________________________________\n",
      "conv1_relu (Activation)      (None, 112, 112, 32)      0         \n",
      "_________________________________________________________________\n",
      "conv_dw_1 (DepthwiseConv2D)  (None, 112, 112, 32)      288       \n",
      "_________________________________________________________________\n",
      "conv_dw_1_bn (BatchNormaliza (None, 112, 112, 32)      128       \n",
      "_________________________________________________________________\n",
      "conv_dw_1_relu (Activation)  (None, 112, 112, 32)      0         \n",
      "_________________________________________________________________\n",
      "conv_pw_1 (Conv2D)           (None, 112, 112, 64)      2048      \n",
      "_________________________________________________________________\n",
      "conv_pw_1_bn (BatchNormaliza (None, 112, 112, 64)      256       \n",
      "_________________________________________________________________\n",
      "conv_pw_1_relu (Activation)  (None, 112, 112, 64)      0         \n",
      "_________________________________________________________________\n",
      "conv_dw_2 (DepthwiseConv2D)  (None, 56, 56, 64)        576       \n",
      "_________________________________________________________________\n",
      "conv_dw_2_bn (BatchNormaliza (None, 56, 56, 64)        256       \n",
      "_________________________________________________________________\n",
      "conv_dw_2_relu (Activation)  (None, 56, 56, 64)        0         \n",
      "_________________________________________________________________\n",
      "conv_pw_2 (Conv2D)           (None, 56, 56, 128)       8192      \n",
      "_________________________________________________________________\n",
      "conv_pw_2_bn (BatchNormaliza (None, 56, 56, 128)       512       \n",
      "_________________________________________________________________\n",
      "conv_pw_2_relu (Activation)  (None, 56, 56, 128)       0         \n",
      "_________________________________________________________________\n",
      "conv_dw_3 (DepthwiseConv2D)  (None, 56, 56, 128)       1152      \n",
      "_________________________________________________________________\n",
      "conv_dw_3_bn (BatchNormaliza (None, 56, 56, 128)       512       \n",
      "_________________________________________________________________\n",
      "conv_dw_3_relu (Activation)  (None, 56, 56, 128)       0         \n",
      "_________________________________________________________________\n",
      "conv_pw_3 (Conv2D)           (None, 56, 56, 128)       16384     \n",
      "_________________________________________________________________\n",
      "conv_pw_3_bn (BatchNormaliza (None, 56, 56, 128)       512       \n",
      "_________________________________________________________________\n",
      "conv_pw_3_relu (Activation)  (None, 56, 56, 128)       0         \n",
      "_________________________________________________________________\n",
      "conv_dw_4 (DepthwiseConv2D)  (None, 28, 28, 128)       1152      \n",
      "_________________________________________________________________\n",
      "conv_dw_4_bn (BatchNormaliza (None, 28, 28, 128)       512       \n",
      "_________________________________________________________________\n",
      "conv_dw_4_relu (Activation)  (None, 28, 28, 128)       0         \n",
      "_________________________________________________________________\n",
      "conv_pw_4 (Conv2D)           (None, 28, 28, 256)       32768     \n",
      "_________________________________________________________________\n",
      "conv_pw_4_bn (BatchNormaliza (None, 28, 28, 256)       1024      \n",
      "_________________________________________________________________\n",
      "conv_pw_4_relu (Activation)  (None, 28, 28, 256)       0         \n",
      "_________________________________________________________________\n",
      "conv_dw_5 (DepthwiseConv2D)  (None, 28, 28, 256)       2304      \n",
      "_________________________________________________________________\n",
      "conv_dw_5_bn (BatchNormaliza (None, 28, 28, 256)       1024      \n",
      "_________________________________________________________________\n",
      "conv_dw_5_relu (Activation)  (None, 28, 28, 256)       0         \n",
      "_________________________________________________________________\n",
      "conv_pw_5 (Conv2D)           (None, 28, 28, 256)       65536     \n",
      "_________________________________________________________________\n",
      "conv_pw_5_bn (BatchNormaliza (None, 28, 28, 256)       1024      \n",
      "_________________________________________________________________\n",
      "conv_pw_5_relu (Activation)  (None, 28, 28, 256)       0         \n",
      "_________________________________________________________________\n",
      "conv_dw_6 (DepthwiseConv2D)  (None, 14, 14, 256)       2304      \n",
      "_________________________________________________________________\n",
      "conv_dw_6_bn (BatchNormaliza (None, 14, 14, 256)       1024      \n",
      "_________________________________________________________________\n",
      "conv_dw_6_relu (Activation)  (None, 14, 14, 256)       0         \n",
      "_________________________________________________________________\n",
      "conv_pw_6 (Conv2D)           (None, 14, 14, 512)       131072    \n",
      "_________________________________________________________________\n",
      "conv_pw_6_bn (BatchNormaliza (None, 14, 14, 512)       2048      \n",
      "_________________________________________________________________\n",
      "conv_pw_6_relu (Activation)  (None, 14, 14, 512)       0         \n",
      "_________________________________________________________________\n",
      "conv_dw_7 (DepthwiseConv2D)  (None, 14, 14, 512)       4608      \n",
      "_________________________________________________________________\n",
      "conv_dw_7_bn (BatchNormaliza (None, 14, 14, 512)       2048      \n",
      "_________________________________________________________________\n",
      "conv_dw_7_relu (Activation)  (None, 14, 14, 512)       0         \n",
      "_________________________________________________________________\n",
      "conv_pw_7 (Conv2D)           (None, 14, 14, 512)       262144    \n",
      "_________________________________________________________________\n",
      "conv_pw_7_bn (BatchNormaliza (None, 14, 14, 512)       2048      \n",
      "_________________________________________________________________\n",
      "conv_pw_7_relu (Activation)  (None, 14, 14, 512)       0         \n",
      "_________________________________________________________________\n",
      "conv_dw_8 (DepthwiseConv2D)  (None, 14, 14, 512)       4608      \n",
      "_________________________________________________________________\n",
      "conv_dw_8_bn (BatchNormaliza (None, 14, 14, 512)       2048      \n",
      "_________________________________________________________________\n",
      "conv_dw_8_relu (Activation)  (None, 14, 14, 512)       0         \n",
      "_________________________________________________________________\n",
      "conv_pw_8 (Conv2D)           (None, 14, 14, 512)       262144    \n",
      "_________________________________________________________________\n",
      "conv_pw_8_bn (BatchNormaliza (None, 14, 14, 512)       2048      \n",
      "_________________________________________________________________\n",
      "conv_pw_8_relu (Activation)  (None, 14, 14, 512)       0         \n",
      "_________________________________________________________________\n",
      "conv_dw_9 (DepthwiseConv2D)  (None, 14, 14, 512)       4608      \n",
      "_________________________________________________________________\n",
      "conv_dw_9_bn (BatchNormaliza (None, 14, 14, 512)       2048      \n",
      "_________________________________________________________________\n",
      "conv_dw_9_relu (Activation)  (None, 14, 14, 512)       0         \n",
      "_________________________________________________________________\n",
      "conv_pw_9 (Conv2D)           (None, 14, 14, 512)       262144    \n",
      "_________________________________________________________________\n",
      "conv_pw_9_bn (BatchNormaliza (None, 14, 14, 512)       2048      \n",
      "_________________________________________________________________\n",
      "conv_pw_9_relu (Activation)  (None, 14, 14, 512)       0         \n",
      "_________________________________________________________________\n",
      "conv_dw_10 (DepthwiseConv2D) (None, 14, 14, 512)       4608      \n",
      "_________________________________________________________________\n",
      "conv_dw_10_bn (BatchNormaliz (None, 14, 14, 512)       2048      \n",
      "_________________________________________________________________\n",
      "conv_dw_10_relu (Activation) (None, 14, 14, 512)       0         \n",
      "_________________________________________________________________\n",
      "conv_pw_10 (Conv2D)          (None, 14, 14, 512)       262144    \n",
      "_________________________________________________________________\n",
      "conv_pw_10_bn (BatchNormaliz (None, 14, 14, 512)       2048      \n",
      "_________________________________________________________________\n",
      "conv_pw_10_relu (Activation) (None, 14, 14, 512)       0         \n",
      "_________________________________________________________________\n",
      "conv_dw_11 (DepthwiseConv2D) (None, 14, 14, 512)       4608      \n",
      "_________________________________________________________________\n",
      "conv_dw_11_bn (BatchNormaliz (None, 14, 14, 512)       2048      \n",
      "_________________________________________________________________\n",
      "conv_dw_11_relu (Activation) (None, 14, 14, 512)       0         \n",
      "_________________________________________________________________\n",
      "conv_pw_11 (Conv2D)          (None, 14, 14, 512)       262144    \n",
      "_________________________________________________________________\n",
      "conv_pw_11_bn (BatchNormaliz (None, 14, 14, 512)       2048      \n",
      "_________________________________________________________________\n",
      "conv_pw_11_relu (Activation) (None, 14, 14, 512)       0         \n",
      "_________________________________________________________________\n",
      "conv_dw_12 (DepthwiseConv2D) (None, 7, 7, 512)         4608      \n",
      "_________________________________________________________________\n",
      "conv_dw_12_bn (BatchNormaliz (None, 7, 7, 512)         2048      \n",
      "_________________________________________________________________\n",
      "conv_dw_12_relu (Activation) (None, 7, 7, 512)         0         \n",
      "_________________________________________________________________\n",
      "conv_pw_12 (Conv2D)          (None, 7, 7, 1024)        524288    \n",
      "_________________________________________________________________\n",
      "conv_pw_12_bn (BatchNormaliz (None, 7, 7, 1024)        4096      \n",
      "_________________________________________________________________\n",
      "conv_pw_12_relu (Activation) (None, 7, 7, 1024)        0         \n",
      "_________________________________________________________________\n",
      "conv_dw_13 (DepthwiseConv2D) (None, 7, 7, 1024)        9216      \n",
      "_________________________________________________________________\n",
      "conv_dw_13_bn (BatchNormaliz (None, 7, 7, 1024)        4096      \n",
      "_________________________________________________________________\n",
      "conv_dw_13_relu (Activation) (None, 7, 7, 1024)        0         \n",
      "_________________________________________________________________\n",
      "conv_pw_13 (Conv2D)          (None, 7, 7, 1024)        1048576   \n",
      "_________________________________________________________________\n",
      "conv_pw_13_bn (BatchNormaliz (None, 7, 7, 1024)        4096      \n",
      "_________________________________________________________________\n",
      "conv_pw_13_relu (Activation) (None, 7, 7, 1024)        0         \n",
      "_________________________________________________________________\n",
      "global_average_pooling2d_1 ( (None, 1024)              0         \n",
      "_________________________________________________________________\n",
      "dropout_1 (Dropout)          (None, 1024)              0         \n",
      "_________________________________________________________________\n",
      "dense_1 (Dense)              (None, 256)               262400    \n",
      "_________________________________________________________________\n",
      "dropout_2 (Dropout)          (None, 256)               0         \n",
      "_________________________________________________________________\n",
      "batch_normalization_1 (Batch (None, 256)               1024      \n",
      "_________________________________________________________________\n",
      "dense_2 (Dense)              (None, 128)               32896     \n",
      "_________________________________________________________________\n",
      "dropout_3 (Dropout)          (None, 128)               0         \n",
      "_________________________________________________________________\n",
      "batch_normalization_2 (Batch (None, 128)               512       \n",
      "_________________________________________________________________\n",
      "dense_3 (Dense)              (None, 10)                1290      \n",
      "=================================================================\n",
      "Total params: 3,526,986\n",
      "Trainable params: 3,504,330\n",
      "Non-trainable params: 22,656\n",
      "_________________________________________________________________\n"
     ]
    }
   ],
   "source": [
    "model = Model(inputs=model_densenet.input, outputs=x)\n",
    "model.summary()"
   ]
  },
  {
   "cell_type": "code",
   "execution_count": 9,
   "metadata": {
    "ExecuteTime": {
     "end_time": "2018-02-03T10:02:04.175341Z",
     "start_time": "2018-02-03T10:02:04.171717Z"
    },
    "collapsed": true
   },
   "outputs": [],
   "source": [
    "train_datagen = ImageDataGenerator(horizontal_flip=True)\n",
    "validation_datagen = ImageDataGenerator(preprocessing_function=preprocess_input)\n",
    "                    "
   ]
  },
  {
   "cell_type": "code",
   "execution_count": 10,
   "metadata": {
    "ExecuteTime": {
     "end_time": "2018-02-03T10:02:55.763862Z",
     "start_time": "2018-02-03T10:02:04.177213Z"
    },
    "scrolled": true
   },
   "outputs": [
    {
     "name": "stdout",
     "output_type": "stream",
     "text": [
      "Found 790600 images belonging to 10 classes.\n"
     ]
    }
   ],
   "source": [
    "train_generator = train_datagen.flow_from_directory(\n",
    "                    'train',\n",
    "                    target_size=(image_size,image_size),\n",
    "                    batch_size=batch_size,\n",
    "                    class_mode='categorical',\n",
    "                    shuffle=True\n",
    "                    )"
   ]
  },
  {
   "cell_type": "code",
   "execution_count": 10,
   "metadata": {
    "ExecuteTime": {
     "end_time": "2018-02-03T10:02:55.874741Z",
     "start_time": "2018-02-03T10:02:55.765586Z"
    }
   },
   "outputs": [
    {
     "name": "stdout",
     "output_type": "stream",
     "text": [
      "Found 4370 images belonging to 10 classes.\n"
     ]
    }
   ],
   "source": [
    "validation_generator = validation_datagen.flow_from_directory(\n",
    "                        '../validation_224/',\n",
    "                        target_size=(image_size,image_size),\n",
    "                        batch_size=batch_size,\n",
    "                        class_mode='categorical',\n",
    "                        shuffle=False)"
   ]
  },
  {
   "cell_type": "code",
   "execution_count": 11,
   "metadata": {
    "ExecuteTime": {
     "end_time": "2018-02-03T10:02:55.881266Z",
     "start_time": "2018-02-03T10:02:55.876278Z"
    },
    "collapsed": true
   },
   "outputs": [],
   "source": [
    "def random_crop(image, crop_size):\n",
    "    h,w,d = image.shape\n",
    "    rand_num_h = random.randint(0,h-crop_size)\n",
    "    rand_num_w = random.randint(0,w-crop_size)\n",
    "    image_crop = image[rand_num_h:rand_num_h+crop_size,rand_num_w:rand_num_w+crop_size,:]\n",
    "    del image\n",
    "    return image_crop"
   ]
  },
  {
   "cell_type": "code",
   "execution_count": 12,
   "metadata": {
    "ExecuteTime": {
     "end_time": "2018-02-03T10:02:55.889783Z",
     "start_time": "2018-02-03T10:02:55.882963Z"
    },
    "collapsed": true
   },
   "outputs": [],
   "source": [
    "def random_crop_valid(image, crop_size):\n",
    "    h,w,d = image.shape\n",
    "    image_crop = image[h//2-crop_size//2:h//2+crop_size//2,w//2-crop_size//2:w//2+crop_size//2,:]\n",
    "    \n",
    "    return image_crop"
   ]
  },
  {
   "cell_type": "code",
   "execution_count": 13,
   "metadata": {
    "ExecuteTime": {
     "end_time": "2018-02-03T10:02:55.948338Z",
     "start_time": "2018-02-03T10:02:55.891330Z"
    },
    "collapsed": true
   },
   "outputs": [],
   "source": [
    "def train_gen(train_files, train_classes, batch_size, target_size, imggen):\n",
    "    min_batch_size = batch_size //10\n",
    "    train_data = list(zip(train_files, train_classes))\n",
    "    train_data_dict = defaultdict(list)\n",
    "    for i in range(len(train_data)):\n",
    "        train_data_dict[train_data[i][0].split('/')[0]].append(train_data[i])\n",
    "       \n",
    "    while(True):\n",
    "        for i in train_data_dict.keys():\n",
    "            random.shuffle(train_data_dict[i])\n",
    "        for start in range(0, len(train_data), min_batch_size):\n",
    "            image_crop_list = []\n",
    "            image_classes_list = []\n",
    "            for j in train_data_dict.keys():\n",
    "                end = min(start + min_batch_size, len(train_data_dict[j])) \n",
    "    \n",
    "                for i in range(start,end):\n",
    "                    image_classes_list.append(train_data_dict[j][i][1])\n",
    "                \n",
    "                x_batch = [train_data_dict[j][i][0] for i in range(start,end)]\n",
    "                for i in x_batch:\n",
    "                    image = mpimg.imread('train/' + i)\n",
    "                    image = random_crop(image,image_size)\n",
    "                    if(np.random.rand()<0.5):\n",
    "                        image = np.rot90(image,1,(0,1))\n",
    "                    image_crop_list.append(image)\n",
    "                    del image\n",
    "                    #del aug_image_recrop\n",
    "            \n",
    "            if(len(image_classes_list)<batch_size-2*min_batch_size):\n",
    "                break\n",
    "            \n",
    "            image_crop_list = [x/1. for x in image_crop_list]\n",
    "            image_crop_list = [imggen.random_transform(x) for x in image_crop_list]\n",
    "            image_crop_list = [preprocess_input(x) for x in image_crop_list]\n",
    "            \n",
    "            x_batch = np.array(image_crop_list, np.float32)\n",
    "            y_batch = np.array(image_classes_list)         \n",
    "            \n",
    "            yield (x_batch, y_batch)"
   ]
  },
  {
   "cell_type": "code",
   "execution_count": 14,
   "metadata": {
    "ExecuteTime": {
     "end_time": "2018-02-03T10:02:55.975259Z",
     "start_time": "2018-02-03T10:02:55.950087Z"
    },
    "collapsed": true
   },
   "outputs": [],
   "source": [
    "def valid_gen(valid_files, valid_classes, batch_size, target_size, imggen):\n",
    "\n",
    "    valid_data = list(zip(valid_files, valid_classes))\n",
    "  \n",
    "    while(True):\n",
    "        \n",
    "        for start in range(0, len(valid_data), batch_size):\n",
    "            image_crop_list = []\n",
    "            image_classes_list = []\n",
    "            end = min(start + batch_size, len(valid_data)) \n",
    "    \n",
    "            x_batch = [valid_data[i][0] for i in range(start,end)]\n",
    "            \n",
    "            for index,i in enumerate(x_batch):\n",
    "                image = mpimg.imread('../validation_224/' + i)\n",
    "                if(len(image.shape)<3):\n",
    "                        continue\n",
    "                #rand_num = random.randint(0,7)\n",
    "                \n",
    "                #augmented_image = image_aug_valid(image,rand_num)\n",
    "                #image = random_crop_valid(image,image_size)\n",
    "                image_crop_list.append(image)\n",
    "                image_classes_list.append(valid_data[start+index][1])\n",
    "                \n",
    "                del image\n",
    "               \n",
    "                #del aug_image_recrop\n",
    "            \n",
    "            \n",
    "            image_crop_list = [x/1. for x in image_crop_list]\n",
    "            #image_crop_list = [imggen.random_transform(x) for x in image_crop_list]\n",
    "            image_crop_list = [preprocess_input(x) for x in image_crop_list]\n",
    "            \n",
    "            x_batch = np.array(image_crop_list, np.float32)\n",
    "            y_batch = np.array(image_classes_list)         \n",
    "            \n",
    "            yield (x_batch, y_batch)"
   ]
  },
  {
   "cell_type": "code",
   "execution_count": 15,
   "metadata": {
    "ExecuteTime": {
     "end_time": "2018-02-03T10:02:55.980617Z",
     "start_time": "2018-02-03T10:02:55.977041Z"
    },
    "collapsed": true
   },
   "outputs": [],
   "source": [
    "valid_aug_generator = valid_gen(validation_generator.filenames,to_categorical(validation_generator.classes),batch_size,image_size,validation_datagen) "
   ]
  },
  {
   "cell_type": "code",
   "execution_count": 17,
   "metadata": {
    "ExecuteTime": {
     "end_time": "2018-02-03T10:02:56.024103Z",
     "start_time": "2018-02-03T10:02:55.982137Z"
    },
    "collapsed": true
   },
   "outputs": [],
   "source": [
    "train_crop_generator = train_gen(train_generator.filenames,to_categorical(train_generator.classes),batch_size,image_size,train_datagen) "
   ]
  },
  {
   "cell_type": "code",
   "execution_count": 10,
   "metadata": {
    "ExecuteTime": {
     "end_time": "2018-02-03T10:02:56.059732Z",
     "start_time": "2018-02-03T10:02:56.025742Z"
    },
    "collapsed": true
   },
   "outputs": [],
   "source": [
    "model.compile(loss='categorical_crossentropy',\n",
    "             optimizer=Adam(lr=2.5e-5),\n",
    "             metrics=['accuracy'])"
   ]
  },
  {
   "cell_type": "code",
   "execution_count": 17,
   "metadata": {
    "ExecuteTime": {
     "end_time": "2018-02-03T10:02:56.484069Z",
     "start_time": "2018-02-03T10:02:56.061251Z"
    },
    "collapsed": true
   },
   "outputs": [],
   "source": [
    "from pushbullet import Pushbullet\n",
    "pb = Pushbullet('o.KiDDDXPuzV4qKbXh4Lywbgw1tK2oFfq1')"
   ]
  },
  {
   "cell_type": "code",
   "execution_count": 18,
   "metadata": {
    "ExecuteTime": {
     "end_time": "2018-02-03T10:03:02.103151Z",
     "start_time": "2018-02-03T10:03:02.099441Z"
    },
    "collapsed": true
   },
   "outputs": [],
   "source": [
    "pushbullet_callback = LambdaCallback(\n",
    "    on_epoch_end=lambda epoch, logs: pb.push_note(\"epoch: \"+str(epoch),\"train_loss: \"+str(logs['loss'])+\"    val_loss\"+str(logs['val_loss'])))"
   ]
  },
  {
   "cell_type": "code",
   "execution_count": 19,
   "metadata": {
    "ExecuteTime": {
     "end_time": "2018-02-03T10:04:10.306771Z",
     "start_time": "2018-02-03T10:04:10.302093Z"
    },
    "collapsed": true
   },
   "outputs": [],
   "source": [
    "callbacks = [ModelCheckpoint(filepath='mobilenet_unalt_3.hdf5', verbose=1, save_best_only=True, save_weights_only=True),\n",
    "ReduceLROnPlateau(monitor='val_loss', factor=0.5, patience=2, verbose=1),\n",
    "#EarlyStopping(monitor='val_loss', patience=10, verbose=1),\n",
    "CSVLogger('./3-metrics_mobilenet_2.csv'),\n",
    "TensorBoard(log_dir='logs_mobilenet', write_graph=True),\n",
    "            pushbullet_callback]"
   ]
  },
  {
   "cell_type": "code",
   "execution_count": null,
   "metadata": {
    "ExecuteTime": {
     "start_time": "2018-02-03T10:04:12.248Z"
    },
    "scrolled": true
   },
   "outputs": [
    {
     "name": "stdout",
     "output_type": "stream",
     "text": [
      "Epoch 1/100\n",
      "1399/1400 [============================>.] - ETA: 0s - loss: 0.0589 - acc: 0.9837\n",
      "Epoch 00001: val_loss improved from inf to 0.21349, saving model to mobilenet_unalt_3.hdf5\n",
      "1400/1400 [==============================] - 545s 389ms/step - loss: 0.0588 - acc: 0.9837 - val_loss: 0.2135 - val_acc: 0.9437\n",
      "Epoch 2/100\n",
      "1399/1400 [============================>.] - ETA: 0s - loss: 0.0529 - acc: 0.9852\n",
      "Epoch 00002: val_loss improved from 0.21349 to 0.19422, saving model to mobilenet_unalt_3.hdf5\n",
      "1400/1400 [==============================] - 541s 387ms/step - loss: 0.0529 - acc: 0.9852 - val_loss: 0.1942 - val_acc: 0.9463\n",
      "Epoch 3/100\n",
      "1399/1400 [============================>.] - ETA: 0s - loss: 0.0491 - acc: 0.9864\n",
      "Epoch 00003: val_loss improved from 0.19422 to 0.17961, saving model to mobilenet_unalt_3.hdf5\n",
      "1400/1400 [==============================] - 555s 396ms/step - loss: 0.0491 - acc: 0.9865 - val_loss: 0.1796 - val_acc: 0.9500\n",
      "Epoch 4/100\n",
      "1399/1400 [============================>.] - ETA: 0s - loss: 0.0469 - acc: 0.9867\n",
      "Epoch 00004: val_loss did not improve\n",
      "1400/1400 [==============================] - 566s 404ms/step - loss: 0.0469 - acc: 0.9867 - val_loss: 0.2010 - val_acc: 0.9526\n",
      "Epoch 5/100\n",
      "1399/1400 [============================>.] - ETA: 0s - loss: 0.0451 - acc: 0.9872\n",
      "Epoch 00005: val_loss did not improve\n",
      "1400/1400 [==============================] - 579s 413ms/step - loss: 0.0452 - acc: 0.9872 - val_loss: 0.2045 - val_acc: 0.9457\n",
      "Epoch 6/100\n",
      "1399/1400 [============================>.] - ETA: 0s - loss: 0.0437 - acc: 0.9873\n",
      "Epoch 00006: val_loss did not improve\n",
      "\n",
      "Epoch 00006: ReduceLROnPlateau reducing learning rate to 1.249999968422344e-05.\n",
      "1400/1400 [==============================] - 582s 416ms/step - loss: 0.0437 - acc: 0.9873 - val_loss: 0.2522 - val_acc: 0.9374\n",
      "Epoch 7/100\n",
      "1399/1400 [============================>.] - ETA: 0s - loss: 0.0401 - acc: 0.9884\n",
      "Epoch 00007: val_loss did not improve\n",
      "1400/1400 [==============================] - 582s 416ms/step - loss: 0.0401 - acc: 0.9884 - val_loss: 0.2297 - val_acc: 0.9440\n",
      "Epoch 8/100\n",
      "1399/1400 [============================>.] - ETA: 0s - loss: 0.0459 - acc: 0.9873\n",
      "Epoch 00008: val_loss did not improve\n",
      "\n",
      "Epoch 00008: ReduceLROnPlateau reducing learning rate to 6.24999984211172e-06.\n",
      "1400/1400 [==============================] - 524s 374ms/step - loss: 0.0459 - acc: 0.9873 - val_loss: 0.2150 - val_acc: 0.9443\n",
      "Epoch 9/100\n",
      "1196/1400 [========================>.....] - ETA: 1:05 - loss: 0.0537 - acc: 0.9852"
     ]
    }
   ],
   "source": [
    "model.fit_generator(\n",
    "                    train_crop_generator,\n",
    "                    steps_per_epoch = 20*int(np.ceil(train_total/batch_size)),\n",
    "                    epochs=100,\n",
    "                    validation_data=valid_aug_generator,\n",
    "                    validation_steps= 4*int(np.ceil(validation_total/batch_size)),\n",
    "                    verbose=1,\n",
    "                    callbacks=callbacks)"
   ]
  },
  {
   "cell_type": "code",
   "execution_count": 11,
   "metadata": {
    "ExecuteTime": {
     "end_time": "2018-02-03T11:48:08.135637Z",
     "start_time": "2018-02-03T11:48:07.963364Z"
    },
    "collapsed": true
   },
   "outputs": [],
   "source": [
    "model.load_weights('mobilenet_unalt_3.hdf5')"
   ]
  },
  {
   "cell_type": "code",
   "execution_count": 23,
   "metadata": {
    "ExecuteTime": {
     "end_time": "2018-02-03T11:48:26.946900Z",
     "start_time": "2018-02-03T11:48:08.857379Z"
    }
   },
   "outputs": [
    {
     "data": {
      "text/plain": [
       "[0.089218300121530814, 0.9771167095793194]"
      ]
     },
     "execution_count": 23,
     "metadata": {},
     "output_type": "execute_result"
    }
   ],
   "source": [
    "model.evaluate_generator(valid_aug_generator,int(np.ceil(validation_total/batch_size)))"
   ]
  },
  {
   "cell_type": "code",
   "execution_count": 21,
   "metadata": {
    "ExecuteTime": {
     "end_time": "2018-02-03T11:49:11.801449Z",
     "start_time": "2018-02-03T11:49:11.798968Z"
    },
    "collapsed": true
   },
   "outputs": [],
   "source": [
    "preds_mobilenet = model.predict_generator(valid_aug_generator,int(np.ceil(validation_total/batch_size)))"
   ]
  },
  {
   "cell_type": "code",
   "execution_count": 1,
   "metadata": {
    "ExecuteTime": {
     "end_time": "2018-02-20T14:13:08.172166Z",
     "start_time": "2018-02-20T14:13:08.168895Z"
    },
    "collapsed": true
   },
   "outputs": [],
   "source": [
    "# validation set predictions - 224"
   ]
  },
  {
   "cell_type": "code",
   "execution_count": 22,
   "metadata": {
    "collapsed": true
   },
   "outputs": [],
   "source": [
    "f = defaultdict(list)\n",
    "for i,j in enumerate(validation_generator.filenames):\n",
    "    f[j.split('/')[-1][2:]].append(i)\n",
    "    "
   ]
  },
  {
   "cell_type": "code",
   "execution_count": 24,
   "metadata": {
    "collapsed": true
   },
   "outputs": [],
   "source": [
    "result_filenames=[]\n",
    "predicted_classes=[]\n",
    "for i in validation_filenames:\n",
    "    x = np.mean(preds_mobilenet[f[i.split('/')[-1]]],axis=0)\n",
    "    result_filenames.append(i)\n",
    "    predicted_classes.append(x)"
   ]
  },
  {
   "cell_type": "code",
   "execution_count": 23,
   "metadata": {
    "collapsed": true
   },
   "outputs": [],
   "source": [
    "validation_filenames = np.load('filenames_list.npy')"
   ]
  },
  {
   "cell_type": "code",
   "execution_count": 26,
   "metadata": {
    "collapsed": true
   },
   "outputs": [],
   "source": [
    "np.save('mobilenet_preds_224.npy',predicted_classes)"
   ]
  },
  {
   "cell_type": "code",
   "execution_count": 28,
   "metadata": {
    "collapsed": true
   },
   "outputs": [],
   "source": [
    "np.save('filenames_list.npy',validation_generator.filenames)\n",
    "np.save('target_classes.npy',validation_generator.classes)"
   ]
  },
  {
   "cell_type": "code",
   "execution_count": 26,
   "metadata": {
    "collapsed": true
   },
   "outputs": [],
   "source": [
    "np.save('mobilenet_preds.npy',preds_mobilenet)"
   ]
  },
  {
   "cell_type": "code",
   "execution_count": 22,
   "metadata": {
    "collapsed": true
   },
   "outputs": [],
   "source": [
    "predictions_valid = model.predict_generator(valid_aug_generator,int(np.ceil(validation_total/batch_size)))\n",
    "predictions_valid = np.argmax(predictions_valid, axis=1)"
   ]
  },
  {
   "cell_type": "code",
   "execution_count": 23,
   "metadata": {},
   "outputs": [
    {
     "data": {
      "text/plain": [
       "{'HTC-1-M7': 0,\n",
       " 'LG-Nexus-5x': 1,\n",
       " 'Motorola-Droid-Maxx': 2,\n",
       " 'Motorola-Nexus-6': 3,\n",
       " 'Motorola-X': 4,\n",
       " 'Samsung-Galaxy-Note3': 5,\n",
       " 'Samsung-Galaxy-S4': 6,\n",
       " 'Sony-NEX-7': 7,\n",
       " 'iPhone-4s': 8,\n",
       " 'iPhone-6': 9}"
      ]
     },
     "execution_count": 23,
     "metadata": {},
     "output_type": "execute_result"
    }
   ],
   "source": [
    "validation_generator.class_indices"
   ]
  },
  {
   "cell_type": "code",
   "execution_count": 41,
   "metadata": {
    "collapsed": true
   },
   "outputs": [],
   "source": [
    "np.save('predictions.npy',predictions_valid)\n",
    "np.save('correct_classes.npy',validation_generator.classes)"
   ]
  },
  {
   "cell_type": "code",
   "execution_count": 24,
   "metadata": {
    "collapsed": true
   },
   "outputs": [],
   "source": [
    "true_positive = np.zeros(10)\n",
    "false_positive = np.zeros(10)\n",
    "true_negative = np.zeros(10)\n",
    "false_negative = np.zeros(10)\n",
    "for i in range(len(predictions_valid)):\n",
    "    if(predictions_valid[i]==validation_generator.classes[i]):\n",
    "        true_positive[predictions_valid[i]] = true_positive[predictions_valid[i]] + 1\n",
    "    else:\n",
    "        false_positive[predictions_valid[i]] = false_positive[predictions_valid[i]] + 1\n",
    "        false_negative[validation_generator.classes[i]] = false_negative[validation_generator.classes[i]] +1"
   ]
  },
  {
   "cell_type": "code",
   "execution_count": 25,
   "metadata": {},
   "outputs": [
    {
     "name": "stdout",
     "output_type": "stream",
     "text": [
      "true_positive\n",
      "[ 97.  98.  67.  68.  82.  73.  97.  80.  86.  89.]\n",
      "false_positive\n",
      "[ 6.  4.  3.  4.  1.  3.  4.  1.  4.  8.]\n",
      "false_negative\n",
      "[ 1.  1.  8.  9.  4.  3.  2.  6.  2.  2.]\n",
      "Total\n",
      "[ 98.  99.  75.  77.  86.  76.  99.  86.  88.  91.]\n"
     ]
    }
   ],
   "source": [
    "print('true_positive')\n",
    "print(true_positive)\n",
    "print('false_positive')\n",
    "print(false_positive)\n",
    "print('false_negative')\n",
    "print(false_negative)\n",
    "print('Total')\n",
    "print(true_positive+false_negative)\n"
   ]
  },
  {
   "cell_type": "code",
   "execution_count": 12,
   "metadata": {
    "collapsed": true
   },
   "outputs": [],
   "source": [
    "#test set predictions - 224"
   ]
  },
  {
   "cell_type": "code",
   "execution_count": 12,
   "metadata": {
    "collapsed": true
   },
   "outputs": [],
   "source": [
    "filenames_list = []\n",
    "images_list = []\n",
    "for i in os.listdir('test_224/temp/'):\n",
    "    img = Image.open('test_224/temp/'+i)\n",
    "    filenames_list.append(i)\n",
    "    images_list.append(np.array(img, np.float32))\n",
    "    "
   ]
  },
  {
   "cell_type": "code",
   "execution_count": 13,
   "metadata": {},
   "outputs": [
    {
     "data": {
      "text/plain": [
       "(13200, 224, 224, 3)"
      ]
     },
     "execution_count": 13,
     "metadata": {},
     "output_type": "execute_result"
    }
   ],
   "source": [
    "images_list = [preprocess_input(x) for x in images_list]\n",
    "new_array_arr = np.array(images_list)\n",
    "new_array_arr.shape"
   ]
  },
  {
   "cell_type": "code",
   "execution_count": 14,
   "metadata": {
    "collapsed": true
   },
   "outputs": [],
   "source": [
    "test_preds_224 = model.predict(new_array_arr)"
   ]
  },
  {
   "cell_type": "code",
   "execution_count": 15,
   "metadata": {
    "collapsed": true
   },
   "outputs": [],
   "source": [
    "f = defaultdict(list)\n",
    "for i,j in enumerate(filenames_list):\n",
    "    f[j[2:]].append(i)"
   ]
  },
  {
   "cell_type": "code",
   "execution_count": 16,
   "metadata": {
    "collapsed": true
   },
   "outputs": [],
   "source": [
    "test_filenames = np.load('test_filenames.npy')"
   ]
  },
  {
   "cell_type": "code",
   "execution_count": 17,
   "metadata": {
    "collapsed": true
   },
   "outputs": [],
   "source": [
    "result_filenames=[]\n",
    "predicted_classes=[]\n",
    "for i in test_filenames:\n",
    "    x = np.mean(test_preds_224[f[i.split('/')[-1]]],axis=0)\n",
    "    result_filenames.append(i)\n",
    "    predicted_classes.append(x)"
   ]
  },
  {
   "cell_type": "code",
   "execution_count": 18,
   "metadata": {
    "collapsed": true
   },
   "outputs": [],
   "source": [
    "np.save('mobilenet_test_preds_224.npy',predicted_classes)"
   ]
  },
  {
   "cell_type": "code",
   "execution_count": 2,
   "metadata": {
    "ExecuteTime": {
     "end_time": "2018-02-20T14:13:54.446825Z",
     "start_time": "2018-02-20T14:13:54.443623Z"
    },
    "collapsed": true
   },
   "outputs": [],
   "source": [
    "# test set predictions - 512"
   ]
  },
  {
   "cell_type": "code",
   "execution_count": 18,
   "metadata": {
    "collapsed": true
   },
   "outputs": [],
   "source": [
    "filenames_list = []\n",
    "images_list = []\n",
    "for i in os.listdir('test/temp/'):\n",
    "    img = Image.open('test/temp/'+i)\n",
    "    filenames_list.append(i)\n",
    "    images_list.append(np.array(img, np.float32))\n",
    "    "
   ]
  },
  {
   "cell_type": "code",
   "execution_count": 19,
   "metadata": {
    "collapsed": true
   },
   "outputs": [],
   "source": [
    "images_list = [preprocess_input(x) for x in images_list]"
   ]
  },
  {
   "cell_type": "code",
   "execution_count": 20,
   "metadata": {
    "collapsed": true
   },
   "outputs": [],
   "source": [
    "new_array_arr = np.array(images_list)\n"
   ]
  },
  {
   "cell_type": "code",
   "execution_count": 21,
   "metadata": {},
   "outputs": [
    {
     "data": {
      "text/plain": [
       "(2640, 512, 512, 3)"
      ]
     },
     "execution_count": 21,
     "metadata": {},
     "output_type": "execute_result"
    }
   ],
   "source": [
    "new_array_arr.shape"
   ]
  },
  {
   "cell_type": "code",
   "execution_count": 22,
   "metadata": {
    "collapsed": true
   },
   "outputs": [],
   "source": [
    "test_preds = model.predict(new_array_arr)"
   ]
  },
  {
   "cell_type": "code",
   "execution_count": 23,
   "metadata": {},
   "outputs": [
    {
     "data": {
      "text/plain": [
       "array([  4.17633884e-04,   8.13390288e-05,   9.98732269e-01,\n",
       "         4.84149241e-05,   1.61176664e-04,   3.23370041e-05,\n",
       "         5.92375109e-05,   1.19121309e-04,   2.59967608e-04,\n",
       "         8.85234404e-05], dtype=float32)"
      ]
     },
     "execution_count": 23,
     "metadata": {},
     "output_type": "execute_result"
    }
   ],
   "source": [
    "test_preds[0]"
   ]
  },
  {
   "cell_type": "code",
   "execution_count": 24,
   "metadata": {
    "collapsed": true
   },
   "outputs": [],
   "source": [
    "np.save('mobilenet_test_preds.npy',test_preds)"
   ]
  },
  {
   "cell_type": "code",
   "execution_count": 58,
   "metadata": {
    "collapsed": true
   },
   "outputs": [],
   "source": [
    "f = defaultdict(list)\n",
    "for i,j in enumerate(filenames_list):\n",
    "    f[j[2:]].append(i)"
   ]
  },
  {
   "cell_type": "code",
   "execution_count": 60,
   "metadata": {
    "collapsed": true
   },
   "outputs": [],
   "source": [
    "class_ids = {train_generator.class_indices[x]: x for x in train_generator.class_indices}"
   ]
  },
  {
   "cell_type": "code",
   "execution_count": 30,
   "metadata": {
    "collapsed": true
   },
   "outputs": [],
   "source": [
    "for index,i in enumerate(result_filenames):\n",
    "    if(i.split('_')[-1]=='manip.tif'):\n",
    "        predicted_classes[index]=''"
   ]
  },
  {
   "cell_type": "code",
   "execution_count": 65,
   "metadata": {
    "collapsed": true
   },
   "outputs": [],
   "source": [
    "submission = pd.DataFrame({'fname':result_filenames,'camera':predicted_classes})\n",
    "submission.to_csv('submission_resnet_v2_ext_data_moto_x.csv', encoding=\"utf8\", index=False)"
   ]
  },
  {
   "cell_type": "code",
   "execution_count": 66,
   "metadata": {},
   "outputs": [
    {
     "data": {
      "text/html": [
       "<a href='submission_resnet_v2_ext_data_moto_x.csv' target='_blank'>submission_resnet_v2_ext_data_moto_x.csv</a><br>"
      ],
      "text/plain": [
       "/home/janardhan/camera_model/submission_resnet_v2_ext_data_moto_x.csv"
      ]
     },
     "execution_count": 66,
     "metadata": {},
     "output_type": "execute_result"
    }
   ],
   "source": [
    "from IPython.display import FileLink\n",
    "FileLink('submission_resnet_v2_ext_data_moto_x.csv')"
   ]
  },
  {
   "cell_type": "code",
   "execution_count": null,
   "metadata": {
    "collapsed": true
   },
   "outputs": [],
   "source": [
    "# only densenet - manip+unalt - Private LB score - 97.22"
   ]
  }
 ],
 "metadata": {
  "kernelspec": {
   "display_name": "Python 3",
   "language": "python",
   "name": "python3"
  },
  "language_info": {
   "codemirror_mode": {
    "name": "ipython",
    "version": 3
   },
   "file_extension": ".py",
   "mimetype": "text/x-python",
   "name": "python",
   "nbconvert_exporter": "python",
   "pygments_lexer": "ipython3",
   "version": "3.5.4"
  },
  "toc": {
   "nav_menu": {},
   "number_sections": true,
   "sideBar": true,
   "skip_h1_title": false,
   "toc_cell": false,
   "toc_position": {},
   "toc_section_display": "block",
   "toc_window_display": false
  }
 },
 "nbformat": 4,
 "nbformat_minor": 2
}
