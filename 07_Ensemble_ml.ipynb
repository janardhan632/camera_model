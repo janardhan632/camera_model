{
 "cells": [
  {
   "cell_type": "code",
   "execution_count": 1,
   "metadata": {
    "ExecuteTime": {
     "end_time": "2018-02-07T16:50:15.528586Z",
     "start_time": "2018-02-07T16:50:14.273048Z"
    }
   },
   "outputs": [
    {
     "name": "stderr",
     "output_type": "stream",
     "text": [
      "/home/janardhan/anaconda3/envs/dl/lib/python3.5/site-packages/sklearn/cross_validation.py:41: DeprecationWarning: This module was deprecated in version 0.18 in favor of the model_selection module into which all the refactored classes and functions are moved. Also note that the interface of the new CV iterators are different from that of this module. This module will be removed in 0.20.\n",
      "  \"This module will be removed in 0.20.\", DeprecationWarning)\n",
      "Using TensorFlow backend.\n"
     ]
    }
   ],
   "source": [
    "import numpy as np\n",
    "import pandas as pd\n",
    "from sklearn.cross_validation import train_test_split\n",
    "from sklearn.model_selection import GridSearchCV\n",
    "from sklearn.metrics import accuracy_score, make_scorer\n",
    "from sklearn.ensemble import RandomForestClassifier\n",
    "from sklearn.model_selection import GridSearchCV\n",
    "from sklearn.utils.class_weight import compute_class_weight\n",
    "from keras.utils import to_categorical\n",
    "from sklearn.linear_model import LogisticRegression\n",
    "from sklearn.tree import DecisionTreeClassifier\n",
    "from sklearn.svm import SVC\n",
    "from xgboost.sklearn import XGBClassifier"
   ]
  },
  {
   "cell_type": "code",
   "execution_count": 1,
   "metadata": {
    "ExecuteTime": {
     "end_time": "2018-02-20T14:17:24.062255Z",
     "start_time": "2018-02-20T14:17:24.056830Z"
    },
    "collapsed": true
   },
   "outputs": [],
   "source": [
    "# loading validations predictions for ensembling"
   ]
  },
  {
   "cell_type": "code",
   "execution_count": 2,
   "metadata": {
    "ExecuteTime": {
     "end_time": "2018-02-07T16:50:16.139772Z",
     "start_time": "2018-02-07T16:50:16.132274Z"
    },
    "collapsed": true
   },
   "outputs": [],
   "source": [
    "filenames = np.load('filenames_list.npy')"
   ]
  },
  {
   "cell_type": "code",
   "execution_count": 290,
   "metadata": {
    "ExecuteTime": {
     "end_time": "2018-02-07T18:40:48.134643Z",
     "start_time": "2018-02-07T18:40:48.130735Z"
    },
    "collapsed": true
   },
   "outputs": [],
   "source": [
    "resnet_preds = np.load('resnet_preds.npy')\n",
    "mobilenet_preds = np.load('mobilenet_preds.npy')\n",
    "cacnn_preds = np.load('cacnn_preds.npy')"
   ]
  },
  {
   "cell_type": "code",
   "execution_count": 291,
   "metadata": {
    "ExecuteTime": {
     "end_time": "2018-02-07T18:40:48.517534Z",
     "start_time": "2018-02-07T18:40:48.513302Z"
    },
    "collapsed": true
   },
   "outputs": [],
   "source": [
    "resnet_preds_224 = np.load('resnet_preds_224.npy')\n",
    "mobilenet_preds_224 = np.load('mobilenet_preds_224.npy')\n",
    "cacnn_preds_224 = np.load('cacnn_preds_224.npy')"
   ]
  },
  {
   "cell_type": "code",
   "execution_count": 292,
   "metadata": {
    "ExecuteTime": {
     "end_time": "2018-02-07T18:40:49.054573Z",
     "start_time": "2018-02-07T18:40:49.050308Z"
    },
    "collapsed": true
   },
   "outputs": [],
   "source": [
    "resnet_preds_classes = np.argmax(resnet_preds,axis=1)\n",
    "mobilenet_preds_classes = np.argmax(mobilenet_preds,axis=1)\n",
    "cacnn_preds_classes = np.argmax(cacnn_preds,axis=1)"
   ]
  },
  {
   "cell_type": "code",
   "execution_count": 293,
   "metadata": {
    "ExecuteTime": {
     "end_time": "2018-02-07T18:40:49.340569Z",
     "start_time": "2018-02-07T18:40:49.334836Z"
    },
    "collapsed": true
   },
   "outputs": [],
   "source": [
    "resnet_preds_classes_224 = np.argmax(resnet_preds_224,axis=1)\n",
    "mobilenet_preds_classes_224 = np.argmax(mobilenet_preds_224,axis=1)\n",
    "cacnn_preds_classes_224 = np.argmax(cacnn_preds_224,axis=1)"
   ]
  },
  {
   "cell_type": "code",
   "execution_count": 294,
   "metadata": {
    "ExecuteTime": {
     "end_time": "2018-02-07T18:40:52.010160Z",
     "start_time": "2018-02-07T18:40:52.007699Z"
    },
    "collapsed": true
   },
   "outputs": [],
   "source": [
    "mean_preds = (resnet_preds+mobilenet_preds+cacnn_preds+resnet_preds_224+mobilenet_preds_224+cacnn_preds_224)/6"
   ]
  },
  {
   "cell_type": "code",
   "execution_count": 295,
   "metadata": {
    "ExecuteTime": {
     "end_time": "2018-02-07T18:40:52.798389Z",
     "start_time": "2018-02-07T18:40:52.789340Z"
    }
   },
   "outputs": [
    {
     "data": {
      "text/plain": [
       "array([ 24, 850])"
      ]
     },
     "execution_count": 295,
     "metadata": {},
     "output_type": "execute_result"
    }
   ],
   "source": [
    "np.bincount(np.argmax(mean_preds,axis=1)==target_classes)"
   ]
  },
  {
   "cell_type": "code",
   "execution_count": 296,
   "metadata": {
    "ExecuteTime": {
     "end_time": "2018-02-07T18:40:54.724251Z",
     "start_time": "2018-02-07T18:40:54.721746Z"
    },
    "collapsed": true
   },
   "outputs": [],
   "source": [
    "feature_arr_classes = np.array([mobilenet_preds_classes,resnet_preds_classes,cacnn_preds_classes,mobilenet_preds_classes_224,resnet_preds_classes_224,cacnn_preds_classes_224])"
   ]
  },
  {
   "cell_type": "code",
   "execution_count": 297,
   "metadata": {
    "ExecuteTime": {
     "end_time": "2018-02-07T18:40:55.122442Z",
     "start_time": "2018-02-07T18:40:55.113432Z"
    },
    "collapsed": true
   },
   "outputs": [],
   "source": [
    "max_voting = [np.argmax(np.bincount(feature_arr_classes[:,i])) for i in range(874)]"
   ]
  },
  {
   "cell_type": "code",
   "execution_count": 298,
   "metadata": {
    "ExecuteTime": {
     "end_time": "2018-02-07T18:40:55.427337Z",
     "start_time": "2018-02-07T18:40:55.418605Z"
    }
   },
   "outputs": [
    {
     "data": {
      "text/plain": [
       "array([ 24, 850])"
      ]
     },
     "execution_count": 298,
     "metadata": {},
     "output_type": "execute_result"
    }
   ],
   "source": [
    "np.bincount(max_voting==target_classes)"
   ]
  },
  {
   "cell_type": "code",
   "execution_count": 15,
   "metadata": {
    "ExecuteTime": {
     "end_time": "2018-02-07T16:51:01.529944Z",
     "start_time": "2018-02-07T16:51:01.522399Z"
    },
    "collapsed": true
   },
   "outputs": [],
   "source": [
    "cnt=0\n",
    "for i in range(len(resnet_preds_classes)):\n",
    "    if(mobilenet_preds_classes_224[i]!=mobilenet_preds_classes[i]):\n",
    "        cnt = cnt +1"
   ]
  },
  {
   "cell_type": "code",
   "execution_count": 16,
   "metadata": {
    "ExecuteTime": {
     "end_time": "2018-02-07T16:51:01.927910Z",
     "start_time": "2018-02-07T16:51:01.923992Z"
    }
   },
   "outputs": [
    {
     "data": {
      "text/plain": [
       "(874,)"
      ]
     },
     "execution_count": 16,
     "metadata": {},
     "output_type": "execute_result"
    }
   ],
   "source": [
    "cacnn_preds_classes.shape"
   ]
  },
  {
   "cell_type": "code",
   "execution_count": 17,
   "metadata": {
    "ExecuteTime": {
     "end_time": "2018-02-07T16:51:03.295524Z",
     "start_time": "2018-02-07T16:51:03.292960Z"
    },
    "collapsed": true
   },
   "outputs": [],
   "source": [
    "target_classes = np.load('target_classes.npy')"
   ]
  },
  {
   "cell_type": "code",
   "execution_count": 18,
   "metadata": {
    "ExecuteTime": {
     "end_time": "2018-02-07T16:51:03.664110Z",
     "start_time": "2018-02-07T16:51:03.660072Z"
    },
    "collapsed": true
   },
   "outputs": [],
   "source": [
    "target_classes_one_hot = to_categorical(target_classes)"
   ]
  },
  {
   "cell_type": "code",
   "execution_count": 19,
   "metadata": {
    "ExecuteTime": {
     "end_time": "2018-02-07T16:51:05.660768Z",
     "start_time": "2018-02-07T16:51:05.655860Z"
    },
    "collapsed": true
   },
   "outputs": [],
   "source": [
    "feature_arr = np.concatenate([mobilenet_preds,resnet_preds,cacnn_preds,mobilenet_preds_224,resnet_preds_224,cacnn_preds_224],axis=1)"
   ]
  },
  {
   "cell_type": "code",
   "execution_count": 21,
   "metadata": {
    "ExecuteTime": {
     "end_time": "2018-02-07T16:51:13.353591Z",
     "start_time": "2018-02-07T16:51:13.350332Z"
    }
   },
   "outputs": [
    {
     "data": {
      "text/plain": [
       "array([ 20, 854])"
      ]
     },
     "execution_count": 21,
     "metadata": {},
     "output_type": "execute_result"
    }
   ],
   "source": [
    "np.bincount(mobilenet_preds_classes==target_classes)"
   ]
  },
  {
   "cell_type": "code",
   "execution_count": 22,
   "metadata": {
    "ExecuteTime": {
     "end_time": "2018-02-07T16:51:53.521008Z",
     "start_time": "2018-02-07T16:51:53.515985Z"
    },
    "collapsed": true
   },
   "outputs": [],
   "source": [
    "features_df = pd.DataFrame(feature_arr)"
   ]
  },
  {
   "cell_type": "code",
   "execution_count": 2,
   "metadata": {
    "ExecuteTime": {
     "end_time": "2018-02-20T14:18:00.262072Z",
     "start_time": "2018-02-20T14:18:00.256399Z"
    },
    "collapsed": true
   },
   "outputs": [],
   "source": [
    "# splitting the data into train test split"
   ]
  },
  {
   "cell_type": "code",
   "execution_count": 24,
   "metadata": {
    "ExecuteTime": {
     "end_time": "2018-02-07T16:51:55.486139Z",
     "start_time": "2018-02-07T16:51:55.482470Z"
    },
    "collapsed": true
   },
   "outputs": [],
   "source": [
    "X_train, X_test, y_train, y_test = train_test_split(features_df, target_classes, test_size = 0.2, random_state = 0)"
   ]
  },
  {
   "cell_type": "code",
   "execution_count": 25,
   "metadata": {
    "ExecuteTime": {
     "end_time": "2018-02-07T16:51:56.091274Z",
     "start_time": "2018-02-07T16:51:56.083504Z"
    }
   },
   "outputs": [
    {
     "name": "stdout",
     "output_type": "stream",
     "text": [
      "699\n",
      "175\n"
     ]
    }
   ],
   "source": [
    "print(X_train.shape[0])\n",
    "print(X_test.shape[0])"
   ]
  },
  {
   "cell_type": "code",
   "execution_count": 3,
   "metadata": {
    "ExecuteTime": {
     "end_time": "2018-02-20T14:18:13.239768Z",
     "start_time": "2018-02-20T14:18:13.235835Z"
    },
    "collapsed": true
   },
   "outputs": [],
   "source": [
    "# ensembling with Random Forest"
   ]
  },
  {
   "cell_type": "code",
   "execution_count": 26,
   "metadata": {
    "ExecuteTime": {
     "end_time": "2018-02-07T16:51:58.849698Z",
     "start_time": "2018-02-07T16:51:58.847206Z"
    },
    "collapsed": true
   },
   "outputs": [],
   "source": [
    "model_rf = RandomForestClassifier(n_estimators=25,verbose=0,oob_score=True)"
   ]
  },
  {
   "cell_type": "code",
   "execution_count": 27,
   "metadata": {
    "ExecuteTime": {
     "end_time": "2018-02-07T16:51:59.640408Z",
     "start_time": "2018-02-07T16:51:59.633516Z"
    },
    "collapsed": true
   },
   "outputs": [],
   "source": [
    "parameters_rf = {'random_state':[10,20,30,40,50],'n_estimators':[2,4,7,10,20,40,80,100,150],'criterion':['gini','entropy'],'max_features':['auto','log2'],'class_weight':['balanced',None],'warm_start':['True','False']}"
   ]
  },
  {
   "cell_type": "code",
   "execution_count": 28,
   "metadata": {
    "ExecuteTime": {
     "end_time": "2018-02-07T16:52:00.037636Z",
     "start_time": "2018-02-07T16:52:00.033711Z"
    },
    "collapsed": true
   },
   "outputs": [],
   "source": [
    "grid_obj_rf = GridSearchCV(estimator= model_rf, param_grid= parameters_rf, scoring= 'accuracy',refit=True,cv=3,n_jobs=6)"
   ]
  },
  {
   "cell_type": "code",
   "execution_count": null,
   "metadata": {
    "ExecuteTime": {
     "end_time": "2018-02-07T16:53:41.514416Z",
     "start_time": "2018-02-07T16:52:00.471304Z"
    },
    "collapsed": true
   },
   "outputs": [],
   "source": [
    "grid_obj_rf.fit(X_train, y_train)"
   ]
  },
  {
   "cell_type": "code",
   "execution_count": 30,
   "metadata": {
    "ExecuteTime": {
     "end_time": "2018-02-07T16:53:41.519520Z",
     "start_time": "2018-02-07T16:53:41.516316Z"
    }
   },
   "outputs": [
    {
     "data": {
      "text/plain": [
       "{'class_weight': 'balanced',\n",
       " 'criterion': 'entropy',\n",
       " 'max_features': 'log2',\n",
       " 'n_estimators': 20,\n",
       " 'random_state': 40,\n",
       " 'warm_start': 'True'}"
      ]
     },
     "execution_count": 30,
     "metadata": {},
     "output_type": "execute_result"
    }
   ],
   "source": [
    "grid_obj_rf.best_params_"
   ]
  },
  {
   "cell_type": "code",
   "execution_count": 31,
   "metadata": {
    "ExecuteTime": {
     "end_time": "2018-02-07T16:53:41.621984Z",
     "start_time": "2018-02-07T16:53:41.520876Z"
    }
   },
   "outputs": [
    {
     "data": {
      "text/plain": [
       "0.98285714285714287"
      ]
     },
     "execution_count": 31,
     "metadata": {},
     "output_type": "execute_result"
    }
   ],
   "source": [
    "accuracy_score(grid_obj_rf.best_estimator_.predict(X_test),y_test)"
   ]
  },
  {
   "cell_type": "code",
   "execution_count": 32,
   "metadata": {
    "ExecuteTime": {
     "end_time": "2018-02-07T16:53:41.716113Z",
     "start_time": "2018-02-07T16:53:41.626079Z"
    }
   },
   "outputs": [
    {
     "data": {
      "text/plain": [
       "0.98426323319027187"
      ]
     },
     "execution_count": 32,
     "metadata": {},
     "output_type": "execute_result"
    }
   ],
   "source": [
    "grid_obj_rf.best_score_"
   ]
  },
  {
   "cell_type": "code",
   "execution_count": 218,
   "metadata": {
    "ExecuteTime": {
     "end_time": "2018-02-07T18:15:05.128141Z",
     "start_time": "2018-02-07T18:15:04.993922Z"
    }
   },
   "outputs": [
    {
     "data": {
      "text/plain": [
       "0.98398169336384445"
      ]
     },
     "execution_count": 218,
     "metadata": {},
     "output_type": "execute_result"
    }
   ],
   "source": [
    "model_rf1 = RandomForestClassifier(n_estimators=35,verbose=0,oob_score=True,random_state=40)\n",
    "model_rf1.fit(features_df,target_classes)\n",
    "model_rf1.oob_score_"
   ]
  },
  {
   "cell_type": "code",
   "execution_count": 67,
   "metadata": {
    "ExecuteTime": {
     "end_time": "2018-02-07T16:57:18.899063Z",
     "start_time": "2018-02-07T16:57:18.897119Z"
    },
    "collapsed": true
   },
   "outputs": [],
   "source": [
    "#logistic regression"
   ]
  },
  {
   "cell_type": "code",
   "execution_count": 68,
   "metadata": {
    "ExecuteTime": {
     "end_time": "2018-02-07T16:57:19.186159Z",
     "start_time": "2018-02-07T16:57:19.182961Z"
    },
    "collapsed": true
   },
   "outputs": [],
   "source": [
    "model_lr = LogisticRegression(verbose=0,class_weight='balanced')"
   ]
  },
  {
   "cell_type": "code",
   "execution_count": 99,
   "metadata": {
    "ExecuteTime": {
     "end_time": "2018-02-07T16:59:30.979311Z",
     "start_time": "2018-02-07T16:59:30.976301Z"
    },
    "collapsed": true
   },
   "outputs": [],
   "source": [
    "parameters_lr = {'random_state':[10,20,30,40,50],'C':[1.0,0.7,0.5,0.9],'solver':['newton-cg', 'sag', 'saga','lbfgs'],'multi_class':['ovr', 'multinomial'],'warm_start':[True,False]}"
   ]
  },
  {
   "cell_type": "code",
   "execution_count": 100,
   "metadata": {
    "ExecuteTime": {
     "end_time": "2018-02-07T16:59:32.750025Z",
     "start_time": "2018-02-07T16:59:32.747531Z"
    },
    "collapsed": true
   },
   "outputs": [],
   "source": [
    "grid_obj_lr = GridSearchCV(estimator= model_lr, param_grid= parameters_lr, scoring= 'accuracy',refit=True,cv=3,n_jobs=6)"
   ]
  },
  {
   "cell_type": "code",
   "execution_count": null,
   "metadata": {
    "ExecuteTime": {
     "end_time": "2018-02-07T17:00:28.108507Z",
     "start_time": "2018-02-07T16:59:33.390825Z"
    },
    "collapsed": true
   },
   "outputs": [],
   "source": [
    "grid_obj_lr.fit(X_train, y_train)"
   ]
  },
  {
   "cell_type": "code",
   "execution_count": 102,
   "metadata": {
    "ExecuteTime": {
     "end_time": "2018-02-07T17:00:28.114706Z",
     "start_time": "2018-02-07T17:00:28.110598Z"
    }
   },
   "outputs": [
    {
     "data": {
      "text/plain": [
       "{'C': 0.5,\n",
       " 'multi_class': 'multinomial',\n",
       " 'random_state': 10,\n",
       " 'solver': 'newton-cg',\n",
       " 'warm_start': True}"
      ]
     },
     "execution_count": 102,
     "metadata": {},
     "output_type": "execute_result"
    }
   ],
   "source": [
    "grid_obj_lr.best_params_"
   ]
  },
  {
   "cell_type": "code",
   "execution_count": 103,
   "metadata": {
    "ExecuteTime": {
     "end_time": "2018-02-07T17:00:28.209630Z",
     "start_time": "2018-02-07T17:00:28.116330Z"
    }
   },
   "outputs": [
    {
     "data": {
      "text/plain": [
       "0.98285714285714287"
      ]
     },
     "execution_count": 103,
     "metadata": {},
     "output_type": "execute_result"
    }
   ],
   "source": [
    "accuracy_score(grid_obj_lr.best_estimator_.predict(X_test),y_test)"
   ]
  },
  {
   "cell_type": "code",
   "execution_count": 104,
   "metadata": {
    "ExecuteTime": {
     "end_time": "2018-02-07T17:00:28.297905Z",
     "start_time": "2018-02-07T17:00:28.211097Z"
    }
   },
   "outputs": [
    {
     "data": {
      "text/plain": [
       "0.98140200286123036"
      ]
     },
     "execution_count": 104,
     "metadata": {},
     "output_type": "execute_result"
    }
   ],
   "source": [
    "grid_obj_lr.best_score_"
   ]
  },
  {
   "cell_type": "code",
   "execution_count": 75,
   "metadata": {
    "ExecuteTime": {
     "end_time": "2018-02-07T16:57:34.729821Z",
     "start_time": "2018-02-07T16:57:34.727733Z"
    },
    "collapsed": true
   },
   "outputs": [],
   "source": [
    "#decision tree"
   ]
  },
  {
   "cell_type": "code",
   "execution_count": 76,
   "metadata": {
    "ExecuteTime": {
     "end_time": "2018-02-07T16:57:35.517156Z",
     "start_time": "2018-02-07T16:57:35.511711Z"
    },
    "collapsed": true
   },
   "outputs": [],
   "source": [
    "model_dt = DecisionTreeClassifier(class_weight='balanced')"
   ]
  },
  {
   "cell_type": "code",
   "execution_count": 105,
   "metadata": {
    "ExecuteTime": {
     "end_time": "2018-02-07T17:00:36.966675Z",
     "start_time": "2018-02-07T17:00:36.963964Z"
    },
    "collapsed": true
   },
   "outputs": [],
   "source": [
    "parameters_dt = {'random_state':[10,20,30,40,50],'criterion':['gini','entropy'],'max_features':['auto','log2'],'min_samples_split':[2,5,7,10,13,15,20]}"
   ]
  },
  {
   "cell_type": "code",
   "execution_count": 106,
   "metadata": {
    "ExecuteTime": {
     "end_time": "2018-02-07T17:00:37.390700Z",
     "start_time": "2018-02-07T17:00:37.385762Z"
    },
    "collapsed": true
   },
   "outputs": [],
   "source": [
    "grid_obj_dt = GridSearchCV(estimator= model_dt, param_grid= parameters_dt, scoring= 'accuracy',refit=True,cv=3,n_jobs=6)"
   ]
  },
  {
   "cell_type": "code",
   "execution_count": 107,
   "metadata": {
    "ExecuteTime": {
     "end_time": "2018-02-07T17:00:39.041723Z",
     "start_time": "2018-02-07T17:00:38.054525Z"
    }
   },
   "outputs": [
    {
     "data": {
      "text/plain": [
       "GridSearchCV(cv=3, error_score='raise',\n",
       "       estimator=DecisionTreeClassifier(class_weight='balanced', criterion='gini',\n",
       "            max_depth=None, max_features=None, max_leaf_nodes=None,\n",
       "            min_impurity_decrease=0.0, min_impurity_split=None,\n",
       "            min_samples_leaf=1, min_samples_split=2,\n",
       "            min_weight_fraction_leaf=0.0, presort=False, random_state=None,\n",
       "            splitter='best'),\n",
       "       fit_params=None, iid=True, n_jobs=6,\n",
       "       param_grid={'criterion': ['gini', 'entropy'], 'max_features': ['auto', 'log2'], 'random_state': [10, 20, 30, 40, 50], 'min_samples_split': [2, 5, 7, 10, 13, 15, 20]},\n",
       "       pre_dispatch='2*n_jobs', refit=True, return_train_score='warn',\n",
       "       scoring='accuracy', verbose=0)"
      ]
     },
     "execution_count": 107,
     "metadata": {},
     "output_type": "execute_result"
    }
   ],
   "source": [
    "grid_obj_dt.fit(X_train, y_train)"
   ]
  },
  {
   "cell_type": "code",
   "execution_count": 108,
   "metadata": {
    "ExecuteTime": {
     "end_time": "2018-02-07T17:00:39.047700Z",
     "start_time": "2018-02-07T17:00:39.044085Z"
    }
   },
   "outputs": [
    {
     "data": {
      "text/plain": [
       "{'criterion': 'entropy',\n",
       " 'max_features': 'auto',\n",
       " 'min_samples_split': 2,\n",
       " 'random_state': 30}"
      ]
     },
     "execution_count": 108,
     "metadata": {},
     "output_type": "execute_result"
    }
   ],
   "source": [
    "grid_obj_dt.best_params_"
   ]
  },
  {
   "cell_type": "code",
   "execution_count": 109,
   "metadata": {
    "ExecuteTime": {
     "end_time": "2018-02-07T17:00:39.603729Z",
     "start_time": "2018-02-07T17:00:39.594242Z"
    }
   },
   "outputs": [
    {
     "data": {
      "text/plain": [
       "0.96571428571428575"
      ]
     },
     "execution_count": 109,
     "metadata": {},
     "output_type": "execute_result"
    }
   ],
   "source": [
    "accuracy_score(grid_obj_dt.best_estimator_.predict(X_test),y_test)"
   ]
  },
  {
   "cell_type": "code",
   "execution_count": 110,
   "metadata": {
    "ExecuteTime": {
     "end_time": "2018-02-07T17:00:41.330283Z",
     "start_time": "2018-02-07T17:00:41.326598Z"
    }
   },
   "outputs": [
    {
     "data": {
      "text/plain": [
       "0.97424892703862664"
      ]
     },
     "execution_count": 110,
     "metadata": {},
     "output_type": "execute_result"
    }
   ],
   "source": [
    "grid_obj_dt.best_score_"
   ]
  },
  {
   "cell_type": "code",
   "execution_count": 111,
   "metadata": {
    "ExecuteTime": {
     "end_time": "2018-02-07T17:00:45.225296Z",
     "start_time": "2018-02-07T17:00:45.223267Z"
    },
    "collapsed": true
   },
   "outputs": [],
   "source": [
    "#SVM"
   ]
  },
  {
   "cell_type": "code",
   "execution_count": 112,
   "metadata": {
    "ExecuteTime": {
     "end_time": "2018-02-07T17:00:45.722277Z",
     "start_time": "2018-02-07T17:00:45.716759Z"
    },
    "collapsed": true
   },
   "outputs": [],
   "source": [
    "model_svm = SVC(class_weight='balanced',probability=True)"
   ]
  },
  {
   "cell_type": "code",
   "execution_count": 113,
   "metadata": {
    "ExecuteTime": {
     "end_time": "2018-02-07T17:00:49.848546Z",
     "start_time": "2018-02-07T17:00:49.845925Z"
    },
    "collapsed": true
   },
   "outputs": [],
   "source": [
    "parameters_svm = {'random_state':[10,20,30,40,50],'C':[1.0,0.9,0.8,0.7,0.6,0.5,0.4],'kernel':['rbf','sigmoid','linear','poly']}"
   ]
  },
  {
   "cell_type": "code",
   "execution_count": 114,
   "metadata": {
    "ExecuteTime": {
     "end_time": "2018-02-07T17:00:50.312349Z",
     "start_time": "2018-02-07T17:00:50.307712Z"
    },
    "collapsed": true
   },
   "outputs": [],
   "source": [
    "grid_obj_svm = GridSearchCV(estimator= model_svm, param_grid= parameters_svm, scoring= 'accuracy',refit=True,cv=3,n_jobs=6)"
   ]
  },
  {
   "cell_type": "code",
   "execution_count": 115,
   "metadata": {
    "ExecuteTime": {
     "end_time": "2018-02-07T17:01:01.252204Z",
     "start_time": "2018-02-07T17:00:50.932644Z"
    }
   },
   "outputs": [
    {
     "data": {
      "text/plain": [
       "GridSearchCV(cv=3, error_score='raise',\n",
       "       estimator=SVC(C=1.0, cache_size=200, class_weight='balanced', coef0=0.0,\n",
       "  decision_function_shape='ovr', degree=3, gamma='auto', kernel='rbf',\n",
       "  max_iter=-1, probability=True, random_state=None, shrinking=True,\n",
       "  tol=0.001, verbose=False),\n",
       "       fit_params=None, iid=True, n_jobs=6,\n",
       "       param_grid={'kernel': ['rbf', 'sigmoid', 'linear', 'poly'], 'random_state': [10, 20, 30, 40, 50], 'C': [1.0, 0.9, 0.8, 0.7, 0.6, 0.5, 0.4]},\n",
       "       pre_dispatch='2*n_jobs', refit=True, return_train_score='warn',\n",
       "       scoring='accuracy', verbose=0)"
      ]
     },
     "execution_count": 115,
     "metadata": {},
     "output_type": "execute_result"
    }
   ],
   "source": [
    "grid_obj_svm.fit(X_train, y_train)"
   ]
  },
  {
   "cell_type": "code",
   "execution_count": 116,
   "metadata": {
    "ExecuteTime": {
     "end_time": "2018-02-07T17:01:01.257002Z",
     "start_time": "2018-02-07T17:01:01.253762Z"
    }
   },
   "outputs": [
    {
     "data": {
      "text/plain": [
       "{'C': 0.5, 'kernel': 'linear', 'random_state': 10}"
      ]
     },
     "execution_count": 116,
     "metadata": {},
     "output_type": "execute_result"
    }
   ],
   "source": [
    "grid_obj_svm.best_params_"
   ]
  },
  {
   "cell_type": "code",
   "execution_count": 117,
   "metadata": {
    "ExecuteTime": {
     "end_time": "2018-02-07T17:01:01.361106Z",
     "start_time": "2018-02-07T17:01:01.258352Z"
    }
   },
   "outputs": [
    {
     "data": {
      "text/plain": [
       "0.98285714285714287"
      ]
     },
     "execution_count": 117,
     "metadata": {},
     "output_type": "execute_result"
    }
   ],
   "source": [
    "accuracy_score(grid_obj_svm.best_estimator_.predict(X_test),y_test)"
   ]
  },
  {
   "cell_type": "code",
   "execution_count": 118,
   "metadata": {
    "ExecuteTime": {
     "end_time": "2018-02-07T17:01:01.433366Z",
     "start_time": "2018-02-07T17:01:01.365345Z"
    }
   },
   "outputs": [
    {
     "data": {
      "text/plain": [
       "0.98426323319027187"
      ]
     },
     "execution_count": 118,
     "metadata": {},
     "output_type": "execute_result"
    }
   ],
   "source": [
    "grid_obj_svm.best_score_"
   ]
  },
  {
   "cell_type": "code",
   "execution_count": 184,
   "metadata": {
    "ExecuteTime": {
     "end_time": "2018-02-07T15:38:46.038775Z",
     "start_time": "2018-02-07T15:38:45.957632Z"
    },
    "collapsed": true
   },
   "outputs": [],
   "source": [
    "#xgboost"
   ]
  },
  {
   "cell_type": "code",
   "execution_count": 92,
   "metadata": {
    "ExecuteTime": {
     "end_time": "2018-02-07T16:58:00.580725Z",
     "start_time": "2018-02-07T16:58:00.577920Z"
    },
    "collapsed": true
   },
   "outputs": [],
   "source": [
    "model_xgb = XGBClassifier(class_weight='balanced',objective='multi:softmax')"
   ]
  },
  {
   "cell_type": "code",
   "execution_count": 119,
   "metadata": {
    "ExecuteTime": {
     "end_time": "2018-02-07T17:01:08.293554Z",
     "start_time": "2018-02-07T17:01:08.285692Z"
    },
    "collapsed": true
   },
   "outputs": [],
   "source": [
    "parameters_xgb = {'random_state':[10,20,30,40,50],'max_depth':[1,2,3,5],'learning_rate':[0.1,0.3,0.5],'n_estimators':[5,7,10,30,60,100,140],'booster':['gbtree', 'gblinear','dart']}"
   ]
  },
  {
   "cell_type": "code",
   "execution_count": 120,
   "metadata": {
    "ExecuteTime": {
     "end_time": "2018-02-07T17:01:08.586261Z",
     "start_time": "2018-02-07T17:01:08.582213Z"
    },
    "collapsed": true
   },
   "outputs": [],
   "source": [
    "grid_obj_xgb = GridSearchCV(estimator= model_xgb, param_grid= parameters_xgb, scoring= 'accuracy',refit=True,cv=3,n_jobs=6)"
   ]
  },
  {
   "cell_type": "code",
   "execution_count": 121,
   "metadata": {
    "ExecuteTime": {
     "end_time": "2018-02-07T17:05:45.264070Z",
     "start_time": "2018-02-07T17:01:08.892041Z"
    }
   },
   "outputs": [
    {
     "data": {
      "text/plain": [
       "GridSearchCV(cv=3, error_score='raise',\n",
       "       estimator=XGBClassifier(base_score=0.5, booster='gbtree', class_weight='balanced',\n",
       "       colsample_bylevel=1, colsample_bytree=1, gamma=0, learning_rate=0.1,\n",
       "       max_delta_step=0, max_depth=3, min_child_weight=1, missing=None,\n",
       "       n_estimators=100, n_jobs=1, nthread=None, objective='multi:softmax',\n",
       "       random_state=0, reg_alpha=0, reg_lambda=1, scale_pos_weight=1,\n",
       "       seed=None, silent=True, subsample=1),\n",
       "       fit_params=None, iid=True, n_jobs=6,\n",
       "       param_grid={'max_depth': [1, 2, 3, 5], 'random_state': [10, 20, 30, 40, 50], 'learning_rate': [0.1, 0.3, 0.5], 'n_estimators': [5, 7, 10, 30, 60, 100, 140], 'booster': ['gbtree', 'gblinear', 'dart']},\n",
       "       pre_dispatch='2*n_jobs', refit=True, return_train_score='warn',\n",
       "       scoring='accuracy', verbose=0)"
      ]
     },
     "execution_count": 121,
     "metadata": {},
     "output_type": "execute_result"
    }
   ],
   "source": [
    "grid_obj_xgb.fit(X_train, y_train)"
   ]
  },
  {
   "cell_type": "code",
   "execution_count": 122,
   "metadata": {
    "ExecuteTime": {
     "end_time": "2018-02-07T17:05:45.269074Z",
     "start_time": "2018-02-07T17:05:45.265703Z"
    }
   },
   "outputs": [
    {
     "data": {
      "text/plain": [
       "{'booster': 'gblinear',\n",
       " 'learning_rate': 0.1,\n",
       " 'max_depth': 1,\n",
       " 'n_estimators': 60,\n",
       " 'random_state': 10}"
      ]
     },
     "execution_count": 122,
     "metadata": {},
     "output_type": "execute_result"
    }
   ],
   "source": [
    "grid_obj_xgb.best_params_"
   ]
  },
  {
   "cell_type": "code",
   "execution_count": 123,
   "metadata": {
    "ExecuteTime": {
     "end_time": "2018-02-07T17:05:45.373262Z",
     "start_time": "2018-02-07T17:05:45.270968Z"
    }
   },
   "outputs": [
    {
     "data": {
      "text/plain": [
       "0.98285714285714287"
      ]
     },
     "execution_count": 123,
     "metadata": {},
     "output_type": "execute_result"
    }
   ],
   "source": [
    "accuracy_score(grid_obj_xgb.best_estimator_.predict(X_test),y_test)"
   ]
  },
  {
   "cell_type": "code",
   "execution_count": 124,
   "metadata": {
    "ExecuteTime": {
     "end_time": "2018-02-07T17:05:45.460783Z",
     "start_time": "2018-02-07T17:05:45.375191Z"
    }
   },
   "outputs": [
    {
     "data": {
      "text/plain": [
       "0.98140200286123036"
      ]
     },
     "execution_count": 124,
     "metadata": {},
     "output_type": "execute_result"
    }
   ],
   "source": [
    "grid_obj_xgb.best_score_"
   ]
  },
  {
   "cell_type": "code",
   "execution_count": 125,
   "metadata": {
    "ExecuteTime": {
     "end_time": "2018-02-07T17:05:45.548410Z",
     "start_time": "2018-02-07T17:05:45.462564Z"
    },
    "collapsed": true
   },
   "outputs": [],
   "source": [
    "#mean, max-voting"
   ]
  },
  {
   "cell_type": "code",
   "execution_count": 143,
   "metadata": {
    "ExecuteTime": {
     "end_time": "2018-02-07T17:07:04.221910Z",
     "start_time": "2018-02-07T17:07:04.199965Z"
    },
    "collapsed": true
   },
   "outputs": [],
   "source": [
    "valid_preds_rf = grid_obj_rf.best_estimator_.predict_proba(features_df)\n",
    "valid_preds_lr = grid_obj_lr.best_estimator_.predict_proba(features_df)\n",
    "valid_preds_dt = grid_obj_dt.best_estimator_.predict_proba(features_df)\n",
    "valid_preds_svm = grid_obj_svm.best_estimator_.predict_proba(features_df)\n",
    "valid_preds_xgb = grid_obj_xgb.best_estimator_.predict_proba(features_df)"
   ]
  },
  {
   "cell_type": "code",
   "execution_count": 144,
   "metadata": {
    "ExecuteTime": {
     "end_time": "2018-02-07T17:07:13.416584Z",
     "start_time": "2018-02-07T17:07:13.410314Z"
    },
    "collapsed": true
   },
   "outputs": [],
   "source": [
    "valid_preds_mean = (valid_preds_rf+valid_preds_lr+valid_preds_dt+valid_preds_svm+valid_preds_xgb)/5"
   ]
  },
  {
   "cell_type": "code",
   "execution_count": 145,
   "metadata": {
    "ExecuteTime": {
     "end_time": "2018-02-07T17:07:15.985647Z",
     "start_time": "2018-02-07T17:07:15.981155Z"
    }
   },
   "outputs": [
    {
     "data": {
      "text/plain": [
       "array([  3, 871])"
      ]
     },
     "execution_count": 145,
     "metadata": {},
     "output_type": "execute_result"
    }
   ],
   "source": [
    "np.bincount(np.argmax(valid_preds_mean,axis=1)==target_classes)"
   ]
  },
  {
   "cell_type": "code",
   "execution_count": 149,
   "metadata": {
    "ExecuteTime": {
     "end_time": "2018-02-07T17:07:32.072712Z",
     "start_time": "2018-02-07T17:07:32.067297Z"
    },
    "collapsed": true
   },
   "outputs": [],
   "source": [
    "valid_preds_voting = np.array([np.argmax(valid_preds_rf,axis=1),np.argmax(valid_preds_lr,axis=1),np.argmax(valid_preds_dt,axis=1),np.argmax(valid_preds_svm,axis=1),np.argmax(valid_preds_xgb,axis=1)])"
   ]
  },
  {
   "cell_type": "code",
   "execution_count": 150,
   "metadata": {
    "ExecuteTime": {
     "end_time": "2018-02-07T17:07:32.514475Z",
     "start_time": "2018-02-07T17:07:32.502089Z"
    },
    "collapsed": true
   },
   "outputs": [],
   "source": [
    "valid_preds_max_voting = [np.argmax(np.bincount(valid_preds_voting[:,i])) for i in range(874)]"
   ]
  },
  {
   "cell_type": "code",
   "execution_count": 151,
   "metadata": {
    "ExecuteTime": {
     "end_time": "2018-02-07T17:07:32.841086Z",
     "start_time": "2018-02-07T17:07:32.836275Z"
    }
   },
   "outputs": [
    {
     "data": {
      "text/plain": [
       "array([  8, 866])"
      ]
     },
     "execution_count": 151,
     "metadata": {},
     "output_type": "execute_result"
    }
   ],
   "source": [
    "np.bincount(valid_preds_max_voting==target_classes)"
   ]
  },
  {
   "cell_type": "code",
   "execution_count": 4,
   "metadata": {
    "ExecuteTime": {
     "end_time": "2018-02-20T14:19:21.952737Z",
     "start_time": "2018-02-20T14:19:21.946930Z"
    },
    "collapsed": true
   },
   "outputs": [],
   "source": [
    "#ensembling with mean, and voting"
   ]
  },
  {
   "cell_type": "code",
   "execution_count": 235,
   "metadata": {
    "ExecuteTime": {
     "end_time": "2018-02-07T18:24:29.733627Z",
     "start_time": "2018-02-07T18:24:29.726904Z"
    },
    "collapsed": true
   },
   "outputs": [],
   "source": [
    "mobilenet_test_preds = np.load('mobilenet_test_preds.npy')\n",
    "resnet_test_preds = np.load('resnet_test_preds.npy')\n",
    "cacnn_test_preds = np.load('cacnn_test_preds.npy')\n",
    "mobilenet_test_preds_224 = np.load('mobilenet_test_preds_224.npy')\n",
    "resnet_test_preds_224 = np.load('resnet_test_preds_224.npy')\n",
    "cacnn_test_preds_224 = np.load('cacnn_test_preds_224.npy')"
   ]
  },
  {
   "cell_type": "code",
   "execution_count": 236,
   "metadata": {
    "ExecuteTime": {
     "end_time": "2018-02-07T18:24:30.666428Z",
     "start_time": "2018-02-07T18:24:30.663015Z"
    },
    "collapsed": true
   },
   "outputs": [],
   "source": [
    "test_filenames = np.load('test_filenames.npy')"
   ]
  },
  {
   "cell_type": "code",
   "execution_count": 237,
   "metadata": {
    "ExecuteTime": {
     "end_time": "2018-02-07T18:24:31.019396Z",
     "start_time": "2018-02-07T18:24:31.014538Z"
    },
    "collapsed": true
   },
   "outputs": [],
   "source": [
    "test_preds = np.concatenate([mobilenet_test_preds,resnet_test_preds,cacnn_test_preds,mobilenet_test_preds_224,resnet_test_preds_224,cacnn_test_preds_224],axis=1)"
   ]
  },
  {
   "cell_type": "code",
   "execution_count": 174,
   "metadata": {
    "ExecuteTime": {
     "end_time": "2018-02-07T18:05:14.488116Z",
     "start_time": "2018-02-07T18:05:14.481677Z"
    },
    "collapsed": true
   },
   "outputs": [],
   "source": [
    "test_features_df = pd.DataFrame(test_preds)"
   ]
  },
  {
   "cell_type": "code",
   "execution_count": 276,
   "metadata": {
    "ExecuteTime": {
     "end_time": "2018-02-07T18:37:25.766109Z",
     "start_time": "2018-02-07T18:37:25.763529Z"
    },
    "collapsed": true
   },
   "outputs": [],
   "source": [
    "test_preds_mean = []"
   ]
  },
  {
   "cell_type": "code",
   "execution_count": 277,
   "metadata": {
    "ExecuteTime": {
     "end_time": "2018-02-07T18:37:26.110978Z",
     "start_time": "2018-02-07T18:37:26.050209Z"
    },
    "collapsed": true
   },
   "outputs": [],
   "source": [
    "for i in range(len(test_filenames)):\n",
    "    test_preds_mean.append(np.mean(np.array([mobilenet_test_preds[i],resnet_test_preds[i],cacnn_test_preds[i],mobilenet_test_preds_224[i],resnet_test_preds_224[i],cacnn_test_preds_224[i]]),axis=0))"
   ]
  },
  {
   "cell_type": "code",
   "execution_count": 203,
   "metadata": {
    "ExecuteTime": {
     "end_time": "2018-02-07T18:13:38.049715Z",
     "start_time": "2018-02-07T18:13:37.993080Z"
    },
    "collapsed": true
   },
   "outputs": [],
   "source": [
    "test_preds_rf = grid_obj_rf.best_estimator_.predict_proba(test_features_df)\n",
    "test_preds_lr = grid_obj_lr.best_estimator_.predict_proba(test_features_df)\n",
    "test_preds_dt = grid_obj_dt.best_estimator_.predict_proba(test_features_df)\n",
    "test_preds_svm = grid_obj_svm.best_estimator_.predict_proba(test_features_df)\n",
    "test_preds_xgb = grid_obj_xgb.best_estimator_.predict_proba(test_features_df)"
   ]
  },
  {
   "cell_type": "code",
   "execution_count": 204,
   "metadata": {
    "ExecuteTime": {
     "end_time": "2018-02-07T18:13:38.442803Z",
     "start_time": "2018-02-07T18:13:38.437682Z"
    },
    "collapsed": true
   },
   "outputs": [],
   "source": [
    "test_preds_mean = (test_preds_rf+test_preds_lr+test_preds_dt+test_preds_svm+test_preds_xgb)/5"
   ]
  },
  {
   "cell_type": "code",
   "execution_count": 205,
   "metadata": {
    "ExecuteTime": {
     "end_time": "2018-02-07T18:13:38.843535Z",
     "start_time": "2018-02-07T18:13:38.835917Z"
    },
    "collapsed": true
   },
   "outputs": [],
   "source": [
    "test_preds_voting = np.array([np.argmax(test_preds_rf,axis=1),np.argmax(test_preds_lr,axis=1),np.argmax(test_preds_dt,axis=1),np.argmax(test_preds_svm,axis=1),np.argmax(test_preds_xgb,axis=1)])"
   ]
  },
  {
   "cell_type": "code",
   "execution_count": 206,
   "metadata": {
    "ExecuteTime": {
     "end_time": "2018-02-07T18:13:39.264615Z",
     "start_time": "2018-02-07T18:13:39.247610Z"
    },
    "collapsed": true
   },
   "outputs": [],
   "source": [
    "test_preds_max_voting = [np.argmax(np.bincount(test_preds_voting[:,i])) for i in range(len(test_filenames))]"
   ]
  },
  {
   "cell_type": "code",
   "execution_count": 220,
   "metadata": {
    "ExecuteTime": {
     "end_time": "2018-02-07T18:15:52.084807Z",
     "start_time": "2018-02-07T18:15:52.068411Z"
    },
    "collapsed": true
   },
   "outputs": [],
   "source": [
    "final_test_preds = model_rf1.predict(test_preds)"
   ]
  },
  {
   "cell_type": "code",
   "execution_count": 279,
   "metadata": {
    "ExecuteTime": {
     "end_time": "2018-02-07T18:37:46.001182Z",
     "start_time": "2018-02-07T18:37:45.997595Z"
    },
    "collapsed": true
   },
   "outputs": [],
   "source": [
    "class_map = {'HTC-1-M7': 0,\n",
    " 'LG-Nexus-5x': 1,\n",
    " 'Motorola-Droid-Maxx': 2,\n",
    " 'Motorola-Nexus-6': 3,\n",
    " 'Motorola-X': 4,\n",
    " 'Samsung-Galaxy-Note3': 5,\n",
    " 'Samsung-Galaxy-S4': 6,\n",
    " 'Sony-NEX-7': 7,\n",
    " 'iPhone-4s': 8,\n",
    " 'iPhone-6': 9}"
   ]
  },
  {
   "cell_type": "code",
   "execution_count": 280,
   "metadata": {
    "ExecuteTime": {
     "end_time": "2018-02-07T18:37:46.288164Z",
     "start_time": "2018-02-07T18:37:46.283832Z"
    },
    "collapsed": true
   },
   "outputs": [],
   "source": [
    "class_map = {class_map[i]:i for i in class_map.keys()}"
   ]
  },
  {
   "cell_type": "code",
   "execution_count": 281,
   "metadata": {
    "ExecuteTime": {
     "end_time": "2018-02-07T18:37:46.563249Z",
     "start_time": "2018-02-07T18:37:46.554773Z"
    }
   },
   "outputs": [
    {
     "data": {
      "text/plain": [
       "{0: 'HTC-1-M7',\n",
       " 1: 'LG-Nexus-5x',\n",
       " 2: 'Motorola-Droid-Maxx',\n",
       " 3: 'Motorola-Nexus-6',\n",
       " 4: 'Motorola-X',\n",
       " 5: 'Samsung-Galaxy-Note3',\n",
       " 6: 'Samsung-Galaxy-S4',\n",
       " 7: 'Sony-NEX-7',\n",
       " 8: 'iPhone-4s',\n",
       " 9: 'iPhone-6'}"
      ]
     },
     "execution_count": 281,
     "metadata": {},
     "output_type": "execute_result"
    }
   ],
   "source": [
    "class_map"
   ]
  },
  {
   "cell_type": "code",
   "execution_count": 283,
   "metadata": {
    "ExecuteTime": {
     "end_time": "2018-02-07T18:38:16.746269Z",
     "start_time": "2018-02-07T18:38:16.742847Z"
    },
    "collapsed": true
   },
   "outputs": [],
   "source": [
    "final_test_preds = np.argmax(test_preds_mean,axis=1)"
   ]
  },
  {
   "cell_type": "code",
   "execution_count": 211,
   "metadata": {
    "ExecuteTime": {
     "end_time": "2018-02-07T18:13:44.276762Z",
     "start_time": "2018-02-07T18:13:44.273247Z"
    }
   },
   "outputs": [
    {
     "data": {
      "text/plain": [
       "2640"
      ]
     },
     "execution_count": 211,
     "metadata": {},
     "output_type": "execute_result"
    }
   ],
   "source": [
    "len(test_preds_max_voting)"
   ]
  },
  {
   "cell_type": "code",
   "execution_count": 284,
   "metadata": {
    "ExecuteTime": {
     "end_time": "2018-02-07T18:38:23.248164Z",
     "start_time": "2018-02-07T18:38:23.245253Z"
    },
    "collapsed": true
   },
   "outputs": [],
   "source": [
    "sub_preds = [class_map[i] for i in final_test_preds]"
   ]
  },
  {
   "cell_type": "code",
   "execution_count": 285,
   "metadata": {
    "ExecuteTime": {
     "end_time": "2018-02-07T18:38:24.474715Z",
     "start_time": "2018-02-07T18:38:24.471802Z"
    }
   },
   "outputs": [
    {
     "data": {
      "text/plain": [
       "(2640,)"
      ]
     },
     "execution_count": 285,
     "metadata": {},
     "output_type": "execute_result"
    }
   ],
   "source": [
    "test_filenames.shape"
   ]
  },
  {
   "cell_type": "code",
   "execution_count": 5,
   "metadata": {
    "ExecuteTime": {
     "end_time": "2018-02-20T14:19:39.597378Z",
     "start_time": "2018-02-20T14:19:39.592733Z"
    },
    "collapsed": true
   },
   "outputs": [],
   "source": [
    "# submitting the final ensembled results"
   ]
  },
  {
   "cell_type": "code",
   "execution_count": 286,
   "metadata": {
    "ExecuteTime": {
     "end_time": "2018-02-07T18:38:27.701242Z",
     "start_time": "2018-02-07T18:38:27.696411Z"
    },
    "collapsed": true
   },
   "outputs": [],
   "source": [
    "for index,i in enumerate(test_filenames):\n",
    "    if(i.split('_')[-1]=='manip.tif'):\n",
    "        sub_preds[index]=''"
   ]
  },
  {
   "cell_type": "code",
   "execution_count": 288,
   "metadata": {
    "ExecuteTime": {
     "end_time": "2018-02-07T18:38:42.754646Z",
     "start_time": "2018-02-07T18:38:42.747725Z"
    },
    "collapsed": true
   },
   "outputs": [],
   "source": [
    "submission = pd.DataFrame({'fname':test_filenames,'camera':sub_preds})\n",
    "submission.to_csv('submission_ensemble_mean_only_unalt.csv', encoding=\"utf8\", index=False)"
   ]
  },
  {
   "cell_type": "code",
   "execution_count": 289,
   "metadata": {
    "ExecuteTime": {
     "end_time": "2018-02-07T18:38:43.206009Z",
     "start_time": "2018-02-07T18:38:43.199091Z"
    }
   },
   "outputs": [
    {
     "data": {
      "text/html": [
       "<a href='submission_ensemble_mean_only_unalt.csv' target='_blank'>submission_ensemble_mean_only_unalt.csv</a><br>"
      ],
      "text/plain": [
       "/home/janardhan/Documents/submission_ensemble_mean_only_unalt.csv"
      ]
     },
     "execution_count": 289,
     "metadata": {},
     "output_type": "execute_result"
    }
   ],
   "source": [
    "from IPython.display import FileLink\n",
    "FileLink('submission_ensemble_mean_only_unalt.csv')"
   ]
  },
  {
   "cell_type": "code",
   "execution_count": 1,
   "metadata": {
    "ExecuteTime": {
     "end_time": "2018-02-20T14:22:34.263293Z",
     "start_time": "2018-02-20T14:22:34.259310Z"
    },
    "collapsed": true
   },
   "outputs": [],
   "source": [
    "# Private LB score - \n",
    "# mean - 97.39"
   ]
  }
 ],
 "metadata": {
  "kernelspec": {
   "display_name": "Python 3",
   "language": "python",
   "name": "python3"
  },
  "language_info": {
   "codemirror_mode": {
    "name": "ipython",
    "version": 3
   },
   "file_extension": ".py",
   "mimetype": "text/x-python",
   "name": "python",
   "nbconvert_exporter": "python",
   "pygments_lexer": "ipython3",
   "version": "3.5.4"
  },
  "toc": {
   "nav_menu": {},
   "number_sections": true,
   "sideBar": true,
   "skip_h1_title": false,
   "toc_cell": false,
   "toc_position": {},
   "toc_section_display": "block",
   "toc_window_display": false
  }
 },
 "nbformat": 4,
 "nbformat_minor": 2
}
