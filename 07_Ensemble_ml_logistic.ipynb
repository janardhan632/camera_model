{
 "cells": [
  {
   "cell_type": "code",
   "execution_count": 1,
   "metadata": {
    "ExecuteTime": {
     "end_time": "2018-02-09T10:45:06.850592Z",
     "start_time": "2018-02-09T10:45:05.743459Z"
    }
   },
   "outputs": [
    {
     "name": "stderr",
     "output_type": "stream",
     "text": [
      "/home/janardhan/anaconda3/envs/dl/lib/python3.5/site-packages/sklearn/cross_validation.py:41: DeprecationWarning: This module was deprecated in version 0.18 in favor of the model_selection module into which all the refactored classes and functions are moved. Also note that the interface of the new CV iterators are different from that of this module. This module will be removed in 0.20.\n",
      "  \"This module will be removed in 0.20.\", DeprecationWarning)\n",
      "Using TensorFlow backend.\n"
     ]
    }
   ],
   "source": [
    "import numpy as np\n",
    "import pandas as pd\n",
    "from sklearn.cross_validation import train_test_split\n",
    "from sklearn.model_selection import GridSearchCV\n",
    "from sklearn.metrics import accuracy_score, make_scorer\n",
    "from sklearn.ensemble import RandomForestClassifier\n",
    "from sklearn.model_selection import GridSearchCV\n",
    "from sklearn.utils.class_weight import compute_class_weight\n",
    "from keras.utils import to_categorical\n",
    "from sklearn.linear_model import LogisticRegression\n",
    "from sklearn.tree import DecisionTreeClassifier\n",
    "from sklearn.svm import SVC\n",
    "from xgboost.sklearn import XGBClassifier"
   ]
  },
  {
   "cell_type": "code",
   "execution_count": 6,
   "metadata": {
    "ExecuteTime": {
     "end_time": "2018-02-08T14:05:34.029730Z",
     "start_time": "2018-02-08T14:05:34.022823Z"
    },
    "collapsed": true
   },
   "outputs": [],
   "source": [
    "filenames = np.load('filenames_list.npy')"
   ]
  },
  {
   "cell_type": "code",
   "execution_count": 7,
   "metadata": {
    "ExecuteTime": {
     "end_time": "2018-02-08T14:05:34.277759Z",
     "start_time": "2018-02-08T14:05:34.268817Z"
    },
    "collapsed": true
   },
   "outputs": [],
   "source": [
    "resnet_preds = np.load('resnet_preds.npy')\n",
    "mobilenet_preds = np.load('mobilenet_preds.npy')\n",
    "cacnn_preds = np.load('cacnn_preds.npy')\n",
    "densenet_preds = np.load('densenet_valid_preds.npy')"
   ]
  },
  {
   "cell_type": "code",
   "execution_count": 8,
   "metadata": {
    "ExecuteTime": {
     "end_time": "2018-02-08T14:05:34.546567Z",
     "start_time": "2018-02-08T14:05:34.536853Z"
    },
    "collapsed": true
   },
   "outputs": [],
   "source": [
    "resnet_preds_classes = np.argmax(resnet_preds,axis=1)\n",
    "mobilenet_preds_classes = np.argmax(mobilenet_preds,axis=1)\n",
    "cacnn_preds_classes = np.argmax(cacnn_preds,axis=1)\n",
    "densenet_preds_classes = np.argmax(densenet_preds,axis=1)"
   ]
  },
  {
   "cell_type": "code",
   "execution_count": 9,
   "metadata": {
    "ExecuteTime": {
     "end_time": "2018-02-08T14:05:35.196235Z",
     "start_time": "2018-02-08T14:05:35.190554Z"
    },
    "collapsed": true
   },
   "outputs": [],
   "source": [
    "mean_preds = (resnet_preds+mobilenet_preds+cacnn_preds+densenet_preds)/4"
   ]
  },
  {
   "cell_type": "code",
   "execution_count": 12,
   "metadata": {
    "ExecuteTime": {
     "end_time": "2018-02-08T14:05:47.158937Z",
     "start_time": "2018-02-08T14:05:47.149040Z"
    }
   },
   "outputs": [
    {
     "data": {
      "text/plain": [
       "array([ 18, 856])"
      ]
     },
     "execution_count": 12,
     "metadata": {},
     "output_type": "execute_result"
    }
   ],
   "source": [
    "np.bincount(np.argmax(mean_preds,axis=1)==target_classes)"
   ]
  },
  {
   "cell_type": "code",
   "execution_count": 13,
   "metadata": {
    "ExecuteTime": {
     "end_time": "2018-02-08T14:06:13.865809Z",
     "start_time": "2018-02-08T14:06:13.862692Z"
    },
    "collapsed": true
   },
   "outputs": [],
   "source": [
    "feature_arr_classes = np.array([mobilenet_preds_classes,resnet_preds_classes,cacnn_preds_classes,densenet_preds_classes])"
   ]
  },
  {
   "cell_type": "code",
   "execution_count": 14,
   "metadata": {
    "ExecuteTime": {
     "end_time": "2018-02-08T14:06:14.489521Z",
     "start_time": "2018-02-08T14:06:14.484421Z"
    },
    "collapsed": true
   },
   "outputs": [],
   "source": [
    "max_voting = [np.argmax(np.bincount(feature_arr_classes[:,i])) for i in range(874)]"
   ]
  },
  {
   "cell_type": "code",
   "execution_count": 15,
   "metadata": {
    "ExecuteTime": {
     "end_time": "2018-02-08T14:06:15.321800Z",
     "start_time": "2018-02-08T14:06:15.318280Z"
    }
   },
   "outputs": [
    {
     "data": {
      "text/plain": [
       "array([ 21, 853])"
      ]
     },
     "execution_count": 15,
     "metadata": {},
     "output_type": "execute_result"
    }
   ],
   "source": [
    "np.bincount(max_voting==target_classes)"
   ]
  },
  {
   "cell_type": "code",
   "execution_count": 15,
   "metadata": {
    "ExecuteTime": {
     "end_time": "2018-02-07T16:51:01.529944Z",
     "start_time": "2018-02-07T16:51:01.522399Z"
    },
    "collapsed": true
   },
   "outputs": [],
   "source": [
    "cnt=0\n",
    "for i in range(len(resnet_preds_classes)):\n",
    "    if(mobilenet_preds_classes_224[i]!=mobilenet_preds_classes[i]):\n",
    "        cnt = cnt +1"
   ]
  },
  {
   "cell_type": "code",
   "execution_count": 16,
   "metadata": {
    "ExecuteTime": {
     "end_time": "2018-02-07T16:51:01.927910Z",
     "start_time": "2018-02-07T16:51:01.923992Z"
    }
   },
   "outputs": [
    {
     "data": {
      "text/plain": [
       "(874,)"
      ]
     },
     "execution_count": 16,
     "metadata": {},
     "output_type": "execute_result"
    }
   ],
   "source": [
    "cacnn_preds_classes.shape"
   ]
  },
  {
   "cell_type": "code",
   "execution_count": 11,
   "metadata": {
    "ExecuteTime": {
     "end_time": "2018-02-08T14:05:44.943236Z",
     "start_time": "2018-02-08T14:05:44.939758Z"
    },
    "collapsed": true
   },
   "outputs": [],
   "source": [
    "target_classes = np.load('target_classes.npy')"
   ]
  },
  {
   "cell_type": "code",
   "execution_count": 18,
   "metadata": {
    "ExecuteTime": {
     "end_time": "2018-02-07T16:51:03.664110Z",
     "start_time": "2018-02-07T16:51:03.660072Z"
    },
    "collapsed": true
   },
   "outputs": [],
   "source": [
    "target_classes_one_hot = to_categorical(target_classes)"
   ]
  },
  {
   "cell_type": "code",
   "execution_count": 16,
   "metadata": {
    "ExecuteTime": {
     "end_time": "2018-02-08T14:07:18.980058Z",
     "start_time": "2018-02-08T14:07:18.975380Z"
    },
    "collapsed": true
   },
   "outputs": [],
   "source": [
    "feature_arr = np.concatenate([mobilenet_preds,resnet_preds,cacnn_preds,densenet_preds],axis=1)"
   ]
  },
  {
   "cell_type": "code",
   "execution_count": 18,
   "metadata": {
    "ExecuteTime": {
     "end_time": "2018-02-08T14:07:28.555504Z",
     "start_time": "2018-02-08T14:07:28.552973Z"
    },
    "collapsed": true
   },
   "outputs": [],
   "source": [
    "features_df = pd.DataFrame(feature_arr)"
   ]
  },
  {
   "cell_type": "code",
   "execution_count": 101,
   "metadata": {
    "ExecuteTime": {
     "end_time": "2018-02-08T15:14:32.630246Z",
     "start_time": "2018-02-08T15:14:32.623287Z"
    },
    "collapsed": true
   },
   "outputs": [],
   "source": [
    "X_train, X_test, y_train, y_test = train_test_split(feature_arr, target_classes, test_size = 0.2, random_state = 0)"
   ]
  },
  {
   "cell_type": "code",
   "execution_count": 102,
   "metadata": {
    "ExecuteTime": {
     "end_time": "2018-02-08T15:14:33.333707Z",
     "start_time": "2018-02-08T15:14:33.325615Z"
    }
   },
   "outputs": [
    {
     "name": "stdout",
     "output_type": "stream",
     "text": [
      "699\n",
      "175\n"
     ]
    }
   ],
   "source": [
    "print(X_train.shape[0])\n",
    "print(X_test.shape[0])"
   ]
  },
  {
   "cell_type": "code",
   "execution_count": 186,
   "metadata": {
    "ExecuteTime": {
     "end_time": "2018-02-08T15:42:53.073812Z",
     "start_time": "2018-02-08T15:42:53.071193Z"
    },
    "collapsed": true
   },
   "outputs": [],
   "source": [
    "index_list = []"
   ]
  },
  {
   "cell_type": "code",
   "execution_count": 187,
   "metadata": {
    "ExecuteTime": {
     "end_time": "2018-02-08T15:42:53.528585Z",
     "start_time": "2018-02-08T15:42:53.501735Z"
    },
    "collapsed": true
   },
   "outputs": [],
   "source": [
    "for j in range(10):\n",
    "    temp_index = []\n",
    "    for index,i in enumerate(target_classes):\n",
    "        if(i==j):\n",
    "            temp_index.append(index)\n",
    "    index_list.append(temp_index)"
   ]
  },
  {
   "cell_type": "code",
   "execution_count": 1,
   "metadata": {
    "ExecuteTime": {
     "end_time": "2018-02-20T14:23:50.095092Z",
     "start_time": "2018-02-20T14:23:50.092301Z"
    },
    "collapsed": true
   },
   "outputs": [],
   "source": [
    "#ensembling with seperate logistic regression model for each class"
   ]
  },
  {
   "cell_type": "code",
   "execution_count": 189,
   "metadata": {
    "ExecuteTime": {
     "end_time": "2018-02-08T15:42:54.371223Z",
     "start_time": "2018-02-08T15:42:54.366631Z"
    },
    "collapsed": true
   },
   "outputs": [],
   "source": [
    "model_lr = LogisticRegression(verbose=0,class_weight='balanced',multi_class='ovr',solver='newton-cg')"
   ]
  },
  {
   "cell_type": "code",
   "execution_count": 190,
   "metadata": {
    "ExecuteTime": {
     "end_time": "2018-02-08T15:42:54.734781Z",
     "start_time": "2018-02-08T15:42:54.730610Z"
    },
    "collapsed": true
   },
   "outputs": [],
   "source": [
    "final_res = []"
   ]
  },
  {
   "cell_type": "code",
   "execution_count": 191,
   "metadata": {
    "ExecuteTime": {
     "end_time": "2018-02-08T15:42:55.204290Z",
     "start_time": "2018-02-08T15:42:55.109364Z"
    },
    "collapsed": true
   },
   "outputs": [],
   "source": [
    "for i in range(10):\n",
    "    temp_y_train = np.zeros((len(target_classes)))\n",
    "    temp_y_train[index_list[i]]=1\n",
    "        \n",
    "    model_lr.fit(feature_arr[:,[i,i+10,i+20,i+30]],temp_y_train)\n",
    "    final_res.append(model_lr.predict_proba(test_feature_arr[:,[i,i+10,i+20,i+30]]))"
   ]
  },
  {
   "cell_type": "code",
   "execution_count": 192,
   "metadata": {
    "ExecuteTime": {
     "end_time": "2018-02-08T15:42:55.486564Z",
     "start_time": "2018-02-08T15:42:55.481392Z"
    },
    "collapsed": true
   },
   "outputs": [],
   "source": [
    "temp_final_res = []"
   ]
  },
  {
   "cell_type": "code",
   "execution_count": 193,
   "metadata": {
    "ExecuteTime": {
     "end_time": "2018-02-08T15:42:56.288547Z",
     "start_time": "2018-02-08T15:42:56.280756Z"
    },
    "scrolled": true
   },
   "outputs": [
    {
     "data": {
      "text/plain": [
       "2640"
      ]
     },
     "execution_count": 193,
     "metadata": {},
     "output_type": "execute_result"
    }
   ],
   "source": [
    "len(mobilenet_test_preds)"
   ]
  },
  {
   "cell_type": "code",
   "execution_count": 194,
   "metadata": {
    "ExecuteTime": {
     "end_time": "2018-02-08T15:42:57.768307Z",
     "start_time": "2018-02-08T15:42:57.725591Z"
    },
    "collapsed": true
   },
   "outputs": [],
   "source": [
    "for i in range(len(mobilenet_test_preds)):\n",
    "    temp_final_res.append(np.argmax(np.array([final_res[j][i][1] for j in range(10)])))\n",
    "        "
   ]
  },
  {
   "cell_type": "code",
   "execution_count": 196,
   "metadata": {
    "ExecuteTime": {
     "end_time": "2018-02-08T15:43:28.534567Z",
     "start_time": "2018-02-08T15:43:28.525302Z"
    },
    "collapsed": true
   },
   "outputs": [],
   "source": [
    "np.save('test_pred_classes_unalt.npy',temp_final_res)"
   ]
  },
  {
   "cell_type": "code",
   "execution_count": 75,
   "metadata": {
    "ExecuteTime": {
     "end_time": "2018-02-07T16:57:34.729821Z",
     "start_time": "2018-02-07T16:57:34.727733Z"
    },
    "collapsed": true
   },
   "outputs": [],
   "source": [
    "#test preds"
   ]
  },
  {
   "cell_type": "code",
   "execution_count": 2,
   "metadata": {
    "ExecuteTime": {
     "end_time": "2018-02-09T10:45:18.361040Z",
     "start_time": "2018-02-09T10:45:18.217142Z"
    },
    "collapsed": true
   },
   "outputs": [],
   "source": [
    "mobilenet_test_preds = np.load('mobilenet_test_preds.npy')\n",
    "resnet_test_preds = np.load('resnet_test_preds.npy')\n",
    "cacnn_test_preds = np.load('cacnn_test_preds.npy')\n",
    "densenet_test_preds = np.load('densenet_512_test_preds.npy')"
   ]
  },
  {
   "cell_type": "code",
   "execution_count": 167,
   "metadata": {
    "ExecuteTime": {
     "end_time": "2018-02-08T15:40:19.878718Z",
     "start_time": "2018-02-08T15:40:19.874741Z"
    },
    "collapsed": true
   },
   "outputs": [],
   "source": [
    "test_feature_arr = np.concatenate([mobilenet_test_preds,resnet_test_preds,cacnn_test_preds,densenet_test_preds],axis=1)"
   ]
  },
  {
   "cell_type": "code",
   "execution_count": 3,
   "metadata": {
    "ExecuteTime": {
     "end_time": "2018-02-09T10:45:55.413369Z",
     "start_time": "2018-02-09T10:45:55.410636Z"
    },
    "collapsed": true
   },
   "outputs": [],
   "source": [
    "test_preds_mean = (mobilenet_test_preds+resnet_test_preds+cacnn_test_preds+densenet_test_preds)/4"
   ]
  },
  {
   "cell_type": "code",
   "execution_count": 4,
   "metadata": {
    "ExecuteTime": {
     "end_time": "2018-02-09T10:46:08.984623Z",
     "start_time": "2018-02-09T10:46:08.976669Z"
    }
   },
   "outputs": [
    {
     "data": {
      "text/plain": [
       "(2640, 10)"
      ]
     },
     "execution_count": 4,
     "metadata": {},
     "output_type": "execute_result"
    }
   ],
   "source": [
    "test_preds_mean.shape"
   ]
  },
  {
   "cell_type": "code",
   "execution_count": 125,
   "metadata": {
    "ExecuteTime": {
     "end_time": "2018-02-07T17:05:45.548410Z",
     "start_time": "2018-02-07T17:05:45.462564Z"
    },
    "collapsed": true
   },
   "outputs": [],
   "source": [
    "#mean, max-voting"
   ]
  },
  {
   "cell_type": "code",
   "execution_count": 143,
   "metadata": {
    "ExecuteTime": {
     "end_time": "2018-02-07T17:07:04.221910Z",
     "start_time": "2018-02-07T17:07:04.199965Z"
    },
    "collapsed": true
   },
   "outputs": [],
   "source": [
    "valid_preds_rf = grid_obj_rf.best_estimator_.predict_proba(features_df)\n",
    "valid_preds_lr = grid_obj_lr.best_estimator_.predict_proba(features_df)\n",
    "valid_preds_dt = grid_obj_dt.best_estimator_.predict_proba(features_df)\n",
    "valid_preds_svm = grid_obj_svm.best_estimator_.predict_proba(features_df)\n",
    "valid_preds_xgb = grid_obj_xgb.best_estimator_.predict_proba(features_df)"
   ]
  },
  {
   "cell_type": "code",
   "execution_count": 144,
   "metadata": {
    "ExecuteTime": {
     "end_time": "2018-02-07T17:07:13.416584Z",
     "start_time": "2018-02-07T17:07:13.410314Z"
    },
    "collapsed": true
   },
   "outputs": [],
   "source": [
    "valid_preds_mean = (valid_preds_rf+valid_preds_lr+valid_preds_dt+valid_preds_svm+valid_preds_xgb)/5"
   ]
  },
  {
   "cell_type": "code",
   "execution_count": 145,
   "metadata": {
    "ExecuteTime": {
     "end_time": "2018-02-07T17:07:15.985647Z",
     "start_time": "2018-02-07T17:07:15.981155Z"
    }
   },
   "outputs": [
    {
     "data": {
      "text/plain": [
       "array([  3, 871])"
      ]
     },
     "execution_count": 145,
     "metadata": {},
     "output_type": "execute_result"
    }
   ],
   "source": [
    "np.bincount(np.argmax(valid_preds_mean,axis=1)==target_classes)"
   ]
  },
  {
   "cell_type": "code",
   "execution_count": 149,
   "metadata": {
    "ExecuteTime": {
     "end_time": "2018-02-07T17:07:32.072712Z",
     "start_time": "2018-02-07T17:07:32.067297Z"
    },
    "collapsed": true
   },
   "outputs": [],
   "source": [
    "valid_preds_voting = np.array([np.argmax(valid_preds_rf,axis=1),np.argmax(valid_preds_lr,axis=1),np.argmax(valid_preds_dt,axis=1),np.argmax(valid_preds_svm,axis=1),np.argmax(valid_preds_xgb,axis=1)])"
   ]
  },
  {
   "cell_type": "code",
   "execution_count": 150,
   "metadata": {
    "ExecuteTime": {
     "end_time": "2018-02-07T17:07:32.514475Z",
     "start_time": "2018-02-07T17:07:32.502089Z"
    },
    "collapsed": true
   },
   "outputs": [],
   "source": [
    "valid_preds_max_voting = [np.argmax(np.bincount(valid_preds_voting[:,i])) for i in range(874)]"
   ]
  },
  {
   "cell_type": "code",
   "execution_count": 151,
   "metadata": {
    "ExecuteTime": {
     "end_time": "2018-02-07T17:07:32.841086Z",
     "start_time": "2018-02-07T17:07:32.836275Z"
    }
   },
   "outputs": [
    {
     "data": {
      "text/plain": [
       "array([  8, 866])"
      ]
     },
     "execution_count": 151,
     "metadata": {},
     "output_type": "execute_result"
    }
   ],
   "source": [
    "np.bincount(valid_preds_max_voting==target_classes)"
   ]
  },
  {
   "cell_type": "code",
   "execution_count": 171,
   "metadata": {
    "ExecuteTime": {
     "end_time": "2018-02-07T10:36:04.594889Z",
     "start_time": "2018-02-07T10:36:04.592973Z"
    },
    "collapsed": true
   },
   "outputs": [],
   "source": [
    "#test preds"
   ]
  },
  {
   "cell_type": "code",
   "execution_count": 235,
   "metadata": {
    "ExecuteTime": {
     "end_time": "2018-02-07T18:24:29.733627Z",
     "start_time": "2018-02-07T18:24:29.726904Z"
    },
    "collapsed": true
   },
   "outputs": [],
   "source": [
    "mobilenet_test_preds = np.load('mobilenet_test_preds.npy')\n",
    "resnet_test_preds = np.load('resnet_test_preds.npy')\n",
    "cacnn_test_preds = np.load('cacnn_test_preds.npy')\n",
    "mobilenet_test_preds_224 = np.load('mobilenet_test_preds_224.npy')\n",
    "resnet_test_preds_224 = np.load('resnet_test_preds_224.npy')\n",
    "cacnn_test_preds_224 = np.load('cacnn_test_preds_224.npy')"
   ]
  },
  {
   "cell_type": "code",
   "execution_count": 11,
   "metadata": {
    "ExecuteTime": {
     "end_time": "2018-02-09T10:46:58.505123Z",
     "start_time": "2018-02-09T10:46:58.412749Z"
    },
    "collapsed": true
   },
   "outputs": [],
   "source": [
    "test_filenames = np.load('test_filenames.npy')"
   ]
  },
  {
   "cell_type": "code",
   "execution_count": 237,
   "metadata": {
    "ExecuteTime": {
     "end_time": "2018-02-07T18:24:31.019396Z",
     "start_time": "2018-02-07T18:24:31.014538Z"
    },
    "collapsed": true
   },
   "outputs": [],
   "source": [
    "test_preds = np.concatenate([mobilenet_test_preds,resnet_test_preds,cacnn_test_preds,mobilenet_test_preds_224,resnet_test_preds_224,cacnn_test_preds_224],axis=1)"
   ]
  },
  {
   "cell_type": "code",
   "execution_count": 174,
   "metadata": {
    "ExecuteTime": {
     "end_time": "2018-02-07T18:05:14.488116Z",
     "start_time": "2018-02-07T18:05:14.481677Z"
    },
    "collapsed": true
   },
   "outputs": [],
   "source": [
    "test_features_df = pd.DataFrame(test_preds)"
   ]
  },
  {
   "cell_type": "code",
   "execution_count": 276,
   "metadata": {
    "ExecuteTime": {
     "end_time": "2018-02-07T18:37:25.766109Z",
     "start_time": "2018-02-07T18:37:25.763529Z"
    },
    "collapsed": true
   },
   "outputs": [],
   "source": [
    "test_preds_mean = []"
   ]
  },
  {
   "cell_type": "code",
   "execution_count": 277,
   "metadata": {
    "ExecuteTime": {
     "end_time": "2018-02-07T18:37:26.110978Z",
     "start_time": "2018-02-07T18:37:26.050209Z"
    },
    "collapsed": true
   },
   "outputs": [],
   "source": [
    "for i in range(len(test_filenames)):\n",
    "    test_preds_mean.append(np.mean(np.array([mobilenet_test_preds[i],resnet_test_preds[i],cacnn_test_preds[i],mobilenet_test_preds_224[i],resnet_test_preds_224[i],cacnn_test_preds_224[i]]),axis=0))"
   ]
  },
  {
   "cell_type": "code",
   "execution_count": 278,
   "metadata": {
    "ExecuteTime": {
     "end_time": "2018-02-07T18:37:26.324073Z",
     "start_time": "2018-02-07T18:37:26.319306Z"
    }
   },
   "outputs": [
    {
     "data": {
      "text/plain": [
       "array([ 0.00779759,  0.03605797,  0.89843506,  0.00272399,  0.00640286,\n",
       "        0.01698795,  0.00332917,  0.0033218 ,  0.01365902,  0.01128468], dtype=float32)"
      ]
     },
     "execution_count": 278,
     "metadata": {},
     "output_type": "execute_result"
    }
   ],
   "source": [
    "test_preds_mean[0]"
   ]
  },
  {
   "cell_type": "code",
   "execution_count": 203,
   "metadata": {
    "ExecuteTime": {
     "end_time": "2018-02-07T18:13:38.049715Z",
     "start_time": "2018-02-07T18:13:37.993080Z"
    },
    "collapsed": true
   },
   "outputs": [],
   "source": [
    "test_preds_rf = grid_obj_rf.best_estimator_.predict_proba(test_features_df)\n",
    "test_preds_lr = grid_obj_lr.best_estimator_.predict_proba(test_features_df)\n",
    "test_preds_dt = grid_obj_dt.best_estimator_.predict_proba(test_features_df)\n",
    "test_preds_svm = grid_obj_svm.best_estimator_.predict_proba(test_features_df)\n",
    "test_preds_xgb = grid_obj_xgb.best_estimator_.predict_proba(test_features_df)"
   ]
  },
  {
   "cell_type": "code",
   "execution_count": 204,
   "metadata": {
    "ExecuteTime": {
     "end_time": "2018-02-07T18:13:38.442803Z",
     "start_time": "2018-02-07T18:13:38.437682Z"
    },
    "collapsed": true
   },
   "outputs": [],
   "source": [
    "test_preds_mean = (test_preds_rf+test_preds_lr+test_preds_dt+test_preds_svm+test_preds_xgb)/5"
   ]
  },
  {
   "cell_type": "code",
   "execution_count": 205,
   "metadata": {
    "ExecuteTime": {
     "end_time": "2018-02-07T18:13:38.843535Z",
     "start_time": "2018-02-07T18:13:38.835917Z"
    },
    "collapsed": true
   },
   "outputs": [],
   "source": [
    "test_preds_voting = np.array([np.argmax(test_preds_rf,axis=1),np.argmax(test_preds_lr,axis=1),np.argmax(test_preds_dt,axis=1),np.argmax(test_preds_svm,axis=1),np.argmax(test_preds_xgb,axis=1)])"
   ]
  },
  {
   "cell_type": "code",
   "execution_count": 206,
   "metadata": {
    "ExecuteTime": {
     "end_time": "2018-02-07T18:13:39.264615Z",
     "start_time": "2018-02-07T18:13:39.247610Z"
    },
    "collapsed": true
   },
   "outputs": [],
   "source": [
    "test_preds_max_voting = [np.argmax(np.bincount(test_preds_voting[:,i])) for i in range(len(test_filenames))]"
   ]
  },
  {
   "cell_type": "code",
   "execution_count": 220,
   "metadata": {
    "ExecuteTime": {
     "end_time": "2018-02-07T18:15:52.084807Z",
     "start_time": "2018-02-07T18:15:52.068411Z"
    },
    "collapsed": true
   },
   "outputs": [],
   "source": [
    "final_test_preds = model_rf1.predict(test_preds)"
   ]
  },
  {
   "cell_type": "code",
   "execution_count": 5,
   "metadata": {
    "ExecuteTime": {
     "end_time": "2018-02-09T10:46:34.575339Z",
     "start_time": "2018-02-09T10:46:34.569504Z"
    },
    "collapsed": true
   },
   "outputs": [],
   "source": [
    "class_map = {'HTC-1-M7': 0,\n",
    " 'LG-Nexus-5x': 1,\n",
    " 'Motorola-Droid-Maxx': 2,\n",
    " 'Motorola-Nexus-6': 3,\n",
    " 'Motorola-X': 4,\n",
    " 'Samsung-Galaxy-Note3': 5,\n",
    " 'Samsung-Galaxy-S4': 6,\n",
    " 'Sony-NEX-7': 7,\n",
    " 'iPhone-4s': 8,\n",
    " 'iPhone-6': 9}"
   ]
  },
  {
   "cell_type": "code",
   "execution_count": 6,
   "metadata": {
    "ExecuteTime": {
     "end_time": "2018-02-09T10:46:34.822061Z",
     "start_time": "2018-02-09T10:46:34.815213Z"
    },
    "collapsed": true
   },
   "outputs": [],
   "source": [
    "class_map = {class_map[i]:i for i in class_map.keys()}"
   ]
  },
  {
   "cell_type": "code",
   "execution_count": 7,
   "metadata": {
    "ExecuteTime": {
     "end_time": "2018-02-09T10:46:35.066090Z",
     "start_time": "2018-02-09T10:46:35.061698Z"
    }
   },
   "outputs": [
    {
     "data": {
      "text/plain": [
       "{0: 'HTC-1-M7',\n",
       " 1: 'LG-Nexus-5x',\n",
       " 2: 'Motorola-Droid-Maxx',\n",
       " 3: 'Motorola-Nexus-6',\n",
       " 4: 'Motorola-X',\n",
       " 5: 'Samsung-Galaxy-Note3',\n",
       " 6: 'Samsung-Galaxy-S4',\n",
       " 7: 'Sony-NEX-7',\n",
       " 8: 'iPhone-4s',\n",
       " 9: 'iPhone-6'}"
      ]
     },
     "execution_count": 7,
     "metadata": {},
     "output_type": "execute_result"
    }
   ],
   "source": [
    "class_map"
   ]
  },
  {
   "cell_type": "code",
   "execution_count": 8,
   "metadata": {
    "ExecuteTime": {
     "end_time": "2018-02-09T10:46:41.135364Z",
     "start_time": "2018-02-09T10:46:41.133081Z"
    },
    "collapsed": true
   },
   "outputs": [],
   "source": [
    "final_test_preds = np.argmax(test_preds_mean,axis=1)"
   ]
  },
  {
   "cell_type": "code",
   "execution_count": 211,
   "metadata": {
    "ExecuteTime": {
     "end_time": "2018-02-07T18:13:44.276762Z",
     "start_time": "2018-02-07T18:13:44.273247Z"
    }
   },
   "outputs": [
    {
     "data": {
      "text/plain": [
       "2640"
      ]
     },
     "execution_count": 211,
     "metadata": {},
     "output_type": "execute_result"
    }
   ],
   "source": [
    "len(test_preds_max_voting)"
   ]
  },
  {
   "cell_type": "code",
   "execution_count": 9,
   "metadata": {
    "ExecuteTime": {
     "end_time": "2018-02-09T10:46:51.514868Z",
     "start_time": "2018-02-09T10:46:51.509560Z"
    },
    "collapsed": true
   },
   "outputs": [],
   "source": [
    "sub_preds = [class_map[i] for i in final_test_preds]"
   ]
  },
  {
   "cell_type": "code",
   "execution_count": 286,
   "metadata": {
    "ExecuteTime": {
     "end_time": "2018-02-07T18:38:27.701242Z",
     "start_time": "2018-02-07T18:38:27.696411Z"
    },
    "collapsed": true
   },
   "outputs": [],
   "source": [
    "for index,i in enumerate(test_filenames):\n",
    "    if(i.split('_')[-1]=='manip.tif'):\n",
    "        sub_preds[index]=''"
   ]
  },
  {
   "cell_type": "code",
   "execution_count": 209,
   "metadata": {
    "ExecuteTime": {
     "end_time": "2018-02-08T15:50:24.429738Z",
     "start_time": "2018-02-08T15:50:24.392043Z"
    },
    "collapsed": true
   },
   "outputs": [],
   "source": [
    "submission = pd.DataFrame({'fname':test_filenames,'camera':sub_preds})\n",
    "submission.to_csv('submission_ensemble_log_indv_classes.csv', encoding=\"utf8\", index=False)"
   ]
  },
  {
   "cell_type": "code",
   "execution_count": 210,
   "metadata": {
    "ExecuteTime": {
     "end_time": "2018-02-08T15:50:27.071881Z",
     "start_time": "2018-02-08T15:50:27.068115Z"
    }
   },
   "outputs": [
    {
     "data": {
      "text/html": [
       "<a href='submission_ensemble_log_indv_classes.csv' target='_blank'>submission_ensemble_log_indv_classes.csv</a><br>"
      ],
      "text/plain": [
       "/home/janardhan/Documents/submission_ensemble_log_indv_classes.csv"
      ]
     },
     "execution_count": 210,
     "metadata": {},
     "output_type": "execute_result"
    }
   ],
   "source": [
    "from IPython.display import FileLink\n",
    "FileLink('submission_ensemble_log_indv_classes.csv')"
   ]
  },
  {
   "cell_type": "code",
   "execution_count": 2,
   "metadata": {
    "ExecuteTime": {
     "end_time": "2018-02-20T14:24:43.650734Z",
     "start_time": "2018-02-20T14:24:43.647399Z"
    },
    "collapsed": true
   },
   "outputs": [],
   "source": [
    "# Private LB score - 97.28"
   ]
  }
 ],
 "metadata": {
  "kernelspec": {
   "display_name": "Python 3",
   "language": "python",
   "name": "python3"
  },
  "language_info": {
   "codemirror_mode": {
    "name": "ipython",
    "version": 3
   },
   "file_extension": ".py",
   "mimetype": "text/x-python",
   "name": "python",
   "nbconvert_exporter": "python",
   "pygments_lexer": "ipython3",
   "version": "3.5.4"
  },
  "toc": {
   "nav_menu": {},
   "number_sections": true,
   "sideBar": true,
   "skip_h1_title": false,
   "toc_cell": false,
   "toc_position": {},
   "toc_section_display": "block",
   "toc_window_display": false
  }
 },
 "nbformat": 4,
 "nbformat_minor": 2
}
